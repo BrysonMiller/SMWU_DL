{
  "nbformat": 4,
  "nbformat_minor": 0,
  "metadata": {
    "colab": {
      "name": "lecture01_COLAB_keras_mlp_mnist.ipynb",
      "version": "0.3.2",
      "provenance": [],
      "collapsed_sections": []
    },
    "kernelspec": {
      "name": "python3",
      "display_name": "Python 3"
    },
    "accelerator": "GPU"
  },
  "cells": [
    {
      "metadata": {
        "id": "nmmviQymd9Sp",
        "colab_type": "text"
      },
      "cell_type": "markdown",
      "source": [
        "# Keras MLP example for MNIST dataset\n",
        "[keras MNIST MLP example](https://github.com/keras-team/keras/blob/master/examples/mnist_mlp.py)"
      ]
    },
    {
      "metadata": {
        "id": "fWtRs-wCd147",
        "colab_type": "text"
      },
      "cell_type": "markdown",
      "source": [
        "Check Avalable GPU"
      ]
    },
    {
      "metadata": {
        "id": "XBH0kd4Gd5KK",
        "colab_type": "code",
        "colab": {
          "base_uri": "https://localhost:8080/",
          "height": 308
        },
        "outputId": "9cc365ad-bead-48b7-e0cd-4e604d304743"
      },
      "cell_type": "code",
      "source": [
        "!nvidia-smi"
      ],
      "execution_count": 1,
      "outputs": [
        {
          "output_type": "stream",
          "text": [
            "Wed Sep  5 23:01:36 2018       \r\n",
            "+-----------------------------------------------------------------------------+\r\n",
            "| NVIDIA-SMI 384.111                Driver Version: 384.111                   |\r\n",
            "|-------------------------------+----------------------+----------------------+\r\n",
            "| GPU  Name        Persistence-M| Bus-Id        Disp.A | Volatile Uncorr. ECC |\r\n",
            "| Fan  Temp  Perf  Pwr:Usage/Cap|         Memory-Usage | GPU-Util  Compute M. |\r\n",
            "|===============================+======================+======================|\r\n",
            "|   0  Tesla K80           Off  | 00000000:00:04.0 Off |                    0 |\r\n",
            "| N/A   35C    P8    29W / 149W |      0MiB / 11439MiB |      0%      Default |\r\n",
            "+-------------------------------+----------------------+----------------------+\r\n",
            "                                                                               \r\n",
            "+-----------------------------------------------------------------------------+\r\n",
            "| Processes:                                                       GPU Memory |\r\n",
            "|  GPU       PID   Type   Process name                             Usage      |\r\n",
            "|=============================================================================|\r\n",
            "|  No running processes found                                                 |\r\n",
            "+-----------------------------------------------------------------------------+\r\n"
          ],
          "name": "stdout"
        }
      ]
    },
    {
      "metadata": {
        "id": "k64HjYQwdMDQ",
        "colab_type": "text"
      },
      "cell_type": "markdown",
      "source": [
        "## Step1.\n",
        "configure tensorflow option"
      ]
    },
    {
      "metadata": {
        "id": "rx_J5LlvehNM",
        "colab_type": "code",
        "colab": {}
      },
      "cell_type": "code",
      "source": [
        "'''\n",
        "this is critical option. TF memory control allow_growth is mandatory option\n",
        "'''\n",
        "import tensorflow as tf\n",
        "config = tf.ConfigProto()\n",
        "config.gpu_options.allow_growth = True\n",
        "session = tf.Session(config=config )"
      ],
      "execution_count": 0,
      "outputs": []
    },
    {
      "metadata": {
        "id": "_Lr7VQDT-OOa",
        "colab_type": "text"
      },
      "cell_type": "markdown",
      "source": [
        "check available GPU memory"
      ]
    },
    {
      "metadata": {
        "id": "lI8NXTrIe9yq",
        "colab_type": "code",
        "colab": {
          "base_uri": "https://localhost:8080/",
          "height": 34
        },
        "outputId": "e00e6563-6396-4a16-bcaa-68b357fa39f5"
      },
      "cell_type": "code",
      "source": [
        "!nvidia-smi   | grep MiB"
      ],
      "execution_count": 3,
      "outputs": [
        {
          "output_type": "stream",
          "text": [
            "| N/A   36C    P0    58W / 149W |    115MiB / 11439MiB |      0%      Default |\r\n"
          ],
          "name": "stdout"
        }
      ]
    },
    {
      "metadata": {
        "id": "eTss08B_fQfM",
        "colab_type": "code",
        "colab": {}
      },
      "cell_type": "code",
      "source": [
        ""
      ],
      "execution_count": 0,
      "outputs": []
    },
    {
      "metadata": {
        "id": "auwNPcrDfSpz",
        "colab_type": "text"
      },
      "cell_type": "markdown",
      "source": [
        "## import keras\n"
      ]
    },
    {
      "metadata": {
        "id": "rRCwOziBdbQZ",
        "colab_type": "code",
        "colab": {
          "base_uri": "https://localhost:8080/",
          "height": 51
        },
        "outputId": "f2b45b6f-aac0-4c5c-dd5c-e2cf540219ba"
      },
      "cell_type": "code",
      "source": [
        "'''Trains a simple deep NN on the MNIST dataset.\n",
        "\n",
        "Gets to 98.40% test accuracy after 20 epochs\n",
        "(there is *a lot* of margin for parameter tuning).\n",
        "2 seconds per epoch on a K520 GPU.\n",
        "'''\n",
        "\n",
        "from __future__ import print_function\n",
        "\n",
        "import keras\n",
        "from keras.datasets import mnist\n",
        "from keras.models import Sequential\n",
        "from keras.layers import Dense, Dropout\n",
        "from keras.optimizers import RMSprop\n",
        "\n",
        "print('tensorflow ver. :',tf.__version__)\n",
        "print('keras      ver. :', keras.__version__)"
      ],
      "execution_count": 11,
      "outputs": [
        {
          "output_type": "stream",
          "text": [
            "tensorflow ver. : 1.10.1\n",
            "keras      ver. : 2.1.6\n"
          ],
          "name": "stdout"
        }
      ]
    },
    {
      "metadata": {
        "id": "nKuh13X9dfzj",
        "colab_type": "text"
      },
      "cell_type": "markdown",
      "source": [
        "## download mnist dataset and prepare train/test dataset"
      ]
    },
    {
      "metadata": {
        "id": "TAnLf2OPdeIY",
        "colab_type": "code",
        "colab": {
          "base_uri": "https://localhost:8080/",
          "height": 86
        },
        "outputId": "0b0f566a-521f-4950-b062-7d7a70d25fca"
      },
      "cell_type": "code",
      "source": [
        "%%time\n",
        "# the data, split between train and test sets\n",
        "#it will take time to download\n",
        "(x_train, y_train), (x_test, y_test) = mnist.load_data()\n"
      ],
      "execution_count": 12,
      "outputs": [
        {
          "output_type": "stream",
          "text": [
            "Downloading data from https://s3.amazonaws.com/img-datasets/mnist.npz\n",
            "11493376/11490434 [==============================] - 1s 0us/step\n",
            "CPU times: user 404 ms, sys: 110 ms, total: 514 ms\n",
            "Wall time: 1.79 s\n"
          ],
          "name": "stdout"
        }
      ]
    },
    {
      "metadata": {
        "id": "jxbrvl8Gdg0R",
        "colab_type": "text"
      },
      "cell_type": "markdown",
      "source": [
        "## reshape the dataset for keras category label"
      ]
    },
    {
      "metadata": {
        "id": "Cz6lCnx8fp0d",
        "colab_type": "code",
        "colab": {
          "base_uri": "https://localhost:8080/",
          "height": 86
        },
        "outputId": "91f5b637-5b8d-41ad-ce99-3896d312029d"
      },
      "cell_type": "code",
      "source": [
        "%%time\n",
        "num_classes = 10\n",
        "\n",
        "\n",
        "x_train = x_train.reshape(60000, 784)\n",
        "x_test = x_test.reshape(10000, 784)\n",
        "x_train = x_train.astype('float32')\n",
        "x_test = x_test.astype('float32')\n",
        "x_train /= 255\n",
        "x_test /= 255\n",
        "print(x_train.shape[0], 'train samples')\n",
        "print(x_test.shape[0], 'test samples')\n",
        "\n",
        "#for confusion matrix we need original label format\n",
        "y_test_cls=y_test\n",
        "# convert class vectors to binary class matrices\n",
        "y_train = keras.utils.to_categorical(y_train, num_classes)\n",
        "y_test = keras.utils.to_categorical(y_test, num_classes)\n"
      ],
      "execution_count": 13,
      "outputs": [
        {
          "output_type": "stream",
          "text": [
            "60000 train samples\n",
            "10000 test samples\n",
            "CPU times: user 83.2 ms, sys: 95.4 ms, total: 179 ms\n",
            "Wall time: 180 ms\n"
          ],
          "name": "stdout"
        }
      ]
    },
    {
      "metadata": {
        "id": "QkzixpWNAn8h",
        "colab_type": "text"
      },
      "cell_type": "markdown",
      "source": [
        "Check Dataset with Histogram"
      ]
    },
    {
      "metadata": {
        "id": "zAcWDEQr7GFy",
        "colab_type": "code",
        "colab": {
          "base_uri": "https://localhost:8080/",
          "height": 347
        },
        "outputId": "02c9ba9b-ea63-4dc1-b087-ba7c216dc69a"
      },
      "cell_type": "code",
      "source": [
        "import numpy as np\n",
        "import matplotlib.pyplot as plt\n",
        "plt.hist(y_test_cls, bins=20 )\n",
        "plt.show()"
      ],
      "execution_count": 14,
      "outputs": [
        {
          "output_type": "display_data",
          "data": {
            "image/png": "[encoded data removed]",
            "text/plain": [
              "<matplotlib.figure.Figure at 0x7f7b7c16ae10>"
            ]
          },
          "metadata": {
            "tags": []
          }
        }
      ]
    },
    {
      "metadata": {
        "id": "51s49M-tgbId",
        "colab_type": "text"
      },
      "cell_type": "markdown",
      "source": [
        "## define model MLP(Multi Layer Perceptron)"
      ]
    },
    {
      "metadata": {
        "id": "zue_p27ydg-e",
        "colab_type": "code",
        "colab": {
          "base_uri": "https://localhost:8080/",
          "height": 274
        },
        "outputId": "036d321e-1860-4b7c-c4d3-02b7bb100e12"
      },
      "cell_type": "code",
      "source": [
        "\n",
        "\n",
        "model = Sequential()\n",
        "model.add( Dense(512, activation='relu', input_shape=(784,)) )\n",
        "model.add( Dense(512, activation='relu') )\n",
        "model.add( Dropout(0.2) )\n",
        "model.add( Dense(num_classes, activation='softmax') )\n",
        "\n",
        "model.summary()\n",
        "\n",
        "\n",
        "\n"
      ],
      "execution_count": 15,
      "outputs": [
        {
          "output_type": "stream",
          "text": [
            "_________________________________________________________________\n",
            "Layer (type)                 Output Shape              Param #   \n",
            "=================================================================\n",
            "dense_1 (Dense)              (None, 512)               401920    \n",
            "_________________________________________________________________\n",
            "dense_2 (Dense)              (None, 512)               262656    \n",
            "_________________________________________________________________\n",
            "dropout_1 (Dropout)          (None, 512)               0         \n",
            "_________________________________________________________________\n",
            "dense_3 (Dense)              (None, 10)                5130      \n",
            "=================================================================\n",
            "Total params: 669,706\n",
            "Trainable params: 669,706\n",
            "Non-trainable params: 0\n",
            "_________________________________________________________________\n"
          ],
          "name": "stdout"
        }
      ]
    },
    {
      "metadata": {
        "id": "iGCI8pkIdsKZ",
        "colab_type": "text"
      },
      "cell_type": "markdown",
      "source": [
        "## Configure Loss function and solver"
      ]
    },
    {
      "metadata": {
        "id": "8yqBI-XadsTJ",
        "colab_type": "code",
        "colab": {}
      },
      "cell_type": "code",
      "source": [
        "#configure loss \n",
        "#configure solver(optimizer) sgd, adam\n",
        "model.compile(loss='categorical_crossentropy',\n",
        "              optimizer=RMSprop(),\n",
        "              metrics=['accuracy'])"
      ],
      "execution_count": 0,
      "outputs": []
    },
    {
      "metadata": {
        "id": "A1CpGkWZdhIc",
        "colab_type": "text"
      },
      "cell_type": "markdown",
      "source": [
        ""
      ]
    },
    {
      "metadata": {
        "id": "9vhjXSMwdhQr",
        "colab_type": "code",
        "colab": {
          "base_uri": "https://localhost:8080/",
          "height": 397
        },
        "outputId": "4b8ee700-4116-4e98-e852-a0ac167a1bb8"
      },
      "cell_type": "code",
      "source": [
        "epochs = 10\n",
        "batch_size = 128\n",
        "\n",
        "history = model.fit(x_train, y_train,\n",
        "                    batch_size=batch_size,\n",
        "                    epochs=epochs,\n",
        "                    verbose=1,\n",
        "                    validation_split=0.3, \n",
        "                    shuffle=True)\n"
      ],
      "execution_count": 17,
      "outputs": [
        {
          "output_type": "stream",
          "text": [
            "Train on 42000 samples, validate on 18000 samples\n",
            "Epoch 1/10\n",
            "42000/42000 [==============================] - 3s 76us/step - loss: 0.2666 - acc: 0.9192 - val_loss: 0.1282 - val_acc: 0.9604\n",
            "Epoch 2/10\n",
            "42000/42000 [==============================] - 3s 74us/step - loss: 0.0986 - acc: 0.9697 - val_loss: 0.1707 - val_acc: 0.9481\n",
            "Epoch 3/10\n",
            "42000/42000 [==============================] - 3s 75us/step - loss: 0.0633 - acc: 0.9813 - val_loss: 0.1038 - val_acc: 0.9728\n",
            "Epoch 4/10\n",
            "42000/42000 [==============================] - 3s 75us/step - loss: 0.0442 - acc: 0.9864 - val_loss: 0.0997 - val_acc: 0.9764\n",
            "Epoch 5/10\n",
            "42000/42000 [==============================] - 3s 70us/step - loss: 0.0326 - acc: 0.9897 - val_loss: 0.1102 - val_acc: 0.9752\n",
            "Epoch 6/10\n",
            "42000/42000 [==============================] - 3s 68us/step - loss: 0.0254 - acc: 0.9918 - val_loss: 0.1244 - val_acc: 0.9741\n",
            "Epoch 7/10\n",
            "42000/42000 [==============================] - 3s 67us/step - loss: 0.0202 - acc: 0.9937 - val_loss: 0.1670 - val_acc: 0.9676\n",
            "Epoch 8/10\n",
            "42000/42000 [==============================] - 3s 70us/step - loss: 0.0177 - acc: 0.9945 - val_loss: 0.1309 - val_acc: 0.9742\n",
            "Epoch 9/10\n",
            "42000/42000 [==============================] - 3s 73us/step - loss: 0.0137 - acc: 0.9957 - val_loss: 0.1423 - val_acc: 0.9751\n",
            "Epoch 10/10\n",
            "42000/42000 [==============================] - 3s 72us/step - loss: 0.0122 - acc: 0.9963 - val_loss: 0.1456 - val_acc: 0.9771\n"
          ],
          "name": "stdout"
        }
      ]
    },
    {
      "metadata": {
        "id": "angeGGZCdhZd",
        "colab_type": "text"
      },
      "cell_type": "markdown",
      "source": [
        "## check test dataset"
      ]
    },
    {
      "metadata": {
        "id": "468MJcwmdhhl",
        "colab_type": "code",
        "colab": {
          "base_uri": "https://localhost:8080/",
          "height": 51
        },
        "outputId": "56f8a3c3-186d-40df-a714-4b7f9c6420d8"
      },
      "cell_type": "code",
      "source": [
        "score = model.evaluate(x_test, y_test, verbose=0)\n",
        "print('Test loss:', score[0])\n",
        "print('Test accuracy:', score[1])"
      ],
      "execution_count": 18,
      "outputs": [
        {
          "output_type": "stream",
          "text": [
            "Test loss: 0.13857176047242134\n",
            "Test accuracy: 0.9773\n"
          ],
          "name": "stdout"
        }
      ]
    },
    {
      "metadata": {
        "id": "VcvKRmnbdhqc",
        "colab_type": "text"
      },
      "cell_type": "markdown",
      "source": [
        ""
      ]
    },
    {
      "metadata": {
        "id": "AxggKNe_6z93",
        "colab_type": "code",
        "colab": {
          "base_uri": "https://localhost:8080/",
          "height": 34
        },
        "outputId": "077be818-20f5-48cc-ba2f-049bb897cb7e"
      },
      "cell_type": "code",
      "source": [
        "y_test_cls"
      ],
      "execution_count": 19,
      "outputs": [
        {
          "output_type": "execute_result",
          "data": {
            "text/plain": [
              "array([7, 2, 1, ..., 4, 5, 6], dtype=uint8)"
            ]
          },
          "metadata": {
            "tags": []
          },
          "execution_count": 19
        }
      ]
    },
    {
      "metadata": {
        "id": "REKQRcbLdhxX",
        "colab_type": "code",
        "colab": {
          "base_uri": "https://localhost:8080/",
          "height": 34
        },
        "outputId": "b09eaa58-ecb3-4db3-8da1-d6626c9af9ed"
      },
      "cell_type": "code",
      "source": [
        "y_pred =model.predict_classes(x_test)\n",
        "y_pred\n"
      ],
      "execution_count": 20,
      "outputs": [
        {
          "output_type": "execute_result",
          "data": {
            "text/plain": [
              "array([7, 2, 1, ..., 4, 5, 6])"
            ]
          },
          "metadata": {
            "tags": []
          },
          "execution_count": 20
        }
      ]
    },
    {
      "metadata": {
        "id": "SNU2310Rlogy",
        "colab_type": "code",
        "colab": {}
      },
      "cell_type": "code",
      "source": [
        "import pandas as pd\n",
        "pd_label = pd.DataFrame()\n",
        "pd_label[\"true\"]=y_test_cls\n",
        "pd_label[\"pred\"]=y_pred\n",
        "pd_label"
      ],
      "execution_count": 0,
      "outputs": []
    },
    {
      "metadata": {
        "id": "-PU41smA86US",
        "colab_type": "code",
        "colab": {
          "base_uri": "https://localhost:8080/",
          "height": 188
        },
        "outputId": "89cdeafb-1fca-446e-9a08-90a321b449ab"
      },
      "cell_type": "code",
      "source": [
        "  \n",
        "from sklearn.metrics import confusion_matrix\n",
        "cm = confusion_matrix(y_true=y_test_cls, y_pred=y_pred)    \n",
        "cm"
      ],
      "execution_count": 24,
      "outputs": [
        {
          "output_type": "execute_result",
          "data": {
            "text/plain": [
              "array([[ 969,    1,    0,    1,    2,    1,    4,    1,    1,    0],\n",
              "       [   0, 1124,    3,    1,    0,    1,    2,    0,    3,    1],\n",
              "       [   0,    1, 1016,    0,    4,    0,    2,    6,    3,    0],\n",
              "       [   1,    1,    6,  985,    0,    7,    0,    4,    2,    4],\n",
              "       [   0,    0,    3,    0,  968,    0,    2,    1,    0,    8],\n",
              "       [   2,    0,    0,   10,    2,  866,    8,    0,    2,    2],\n",
              "       [   3,    3,    1,    1,    8,    1,  940,    0,    1,    0],\n",
              "       [   0,    3,    8,    3,    2,    0,    0, 1008,    2,    2],\n",
              "       [  10,    0,    5,    9,    7,   12,    3,    2,  920,    6],\n",
              "       [   1,    2,    0,    4,   12,    2,    1,    9,    1,  977]])"
            ]
          },
          "metadata": {
            "tags": []
          },
          "execution_count": 24
        }
      ]
    },
    {
      "metadata": {
        "id": "yg9rRtR__CWK",
        "colab_type": "text"
      },
      "cell_type": "markdown",
      "source": [
        "# rerun\n",
        "Keras train use last snapshot w/o any model modification"
      ]
    },
    {
      "metadata": {
        "id": "TK5CVD47_Bgi",
        "colab_type": "code",
        "colab": {
          "base_uri": "https://localhost:8080/",
          "height": 226
        },
        "outputId": "677e165b-6d9b-4354-992f-769c600d517a"
      },
      "cell_type": "code",
      "source": [
        "epochs = 5\n",
        "batch_size = 128\n",
        "\n",
        "history = model.fit(x_train, y_train,\n",
        "                    batch_size=batch_size,\n",
        "                    epochs=epochs,\n",
        "                    verbose=1,\n",
        "                    validation_split=0.3,\n",
        "                    shuffle=True)"
      ],
      "execution_count": 25,
      "outputs": [
        {
          "output_type": "stream",
          "text": [
            "Train on 42000 samples, validate on 18000 samples\n",
            "Epoch 1/5\n",
            "42000/42000 [==============================] - 3s 63us/step - loss: 0.0105 - acc: 0.9966 - val_loss: 0.1566 - val_acc: 0.9745\n",
            "Epoch 2/5\n",
            "42000/42000 [==============================] - 3s 69us/step - loss: 0.0097 - acc: 0.9972 - val_loss: 0.1527 - val_acc: 0.9770\n",
            "Epoch 3/5\n",
            "42000/42000 [==============================] - 3s 67us/step - loss: 0.0104 - acc: 0.9968 - val_loss: 0.1724 - val_acc: 0.9747\n",
            "Epoch 4/5\n",
            "42000/42000 [==============================] - 3s 67us/step - loss: 0.0080 - acc: 0.9974 - val_loss: 0.1647 - val_acc: 0.9776\n",
            "Epoch 5/5\n",
            "42000/42000 [==============================] - 3s 66us/step - loss: 0.0078 - acc: 0.9978 - val_loss: 0.1665 - val_acc: 0.9776\n"
          ],
          "name": "stdout"
        }
      ]
    },
    {
      "metadata": {
        "id": "Hq9YNV34AMYb",
        "colab_type": "code",
        "colab": {
          "base_uri": "https://localhost:8080/",
          "height": 51
        },
        "outputId": "a0531cea-6ade-4150-e1a6-64be5604ea28"
      },
      "cell_type": "code",
      "source": [
        "score = model.evaluate(x_test, y_test, verbose=0)\n",
        "print('Test loss:', score[0])\n",
        "print('Test accuracy:', score[1])"
      ],
      "execution_count": 27,
      "outputs": [
        {
          "output_type": "stream",
          "text": [
            "Test loss: 0.13951365937084703\n",
            "Test accuracy: 0.9811\n"
          ],
          "name": "stdout"
        }
      ]
    },
    {
      "metadata": {
        "id": "edgIG2mmACPL",
        "colab_type": "code",
        "colab": {
          "base_uri": "https://localhost:8080/",
          "height": 188
        },
        "outputId": "1b89fe32-4e63-4d74-f96a-63df49ea89d7"
      },
      "cell_type": "code",
      "source": [
        "y_pred2 =model.predict_classes(x_test)\n",
        "cm = confusion_matrix(y_true=y_test_cls, y_pred=y_pred2)    \n",
        "cm"
      ],
      "execution_count": 26,
      "outputs": [
        {
          "output_type": "execute_result",
          "data": {
            "text/plain": [
              "array([[ 970,    1,    0,    1,    0,    1,    3,    1,    3,    0],\n",
              "       [   0, 1130,    2,    0,    0,    0,    1,    0,    2,    0],\n",
              "       [   0,    2, 1018,    2,    1,    0,    1,    3,    5,    0],\n",
              "       [   0,    1,    4,  993,    0,    2,    0,    4,    3,    3],\n",
              "       [   1,    1,    2,    0,  958,    0,    5,    1,    2,   12],\n",
              "       [   2,    0,    0,   11,    1,  869,    4,    1,    2,    2],\n",
              "       [   4,    4,    0,    1,    1,    3,  942,    0,    3,    0],\n",
              "       [   0,    7,   14,    3,    1,    0,    0, 1000,    2,    1],\n",
              "       [   1,    0,    2,    6,    3,    2,    1,    3,  954,    2],\n",
              "       [   3,    5,    1,    6,    8,    1,    0,    4,    4,  977]])"
            ]
          },
          "metadata": {
            "tags": []
          },
          "execution_count": 26
        }
      ]
    }
  ]
}