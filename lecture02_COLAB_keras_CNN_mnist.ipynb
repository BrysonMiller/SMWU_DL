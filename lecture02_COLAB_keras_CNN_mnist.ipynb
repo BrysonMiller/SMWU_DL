{
  "nbformat": 4,
  "nbformat_minor": 0,
  "metadata": {
    "colab": {
      "name": "lecture02_COLAB_keras_CNN_mnist.ipynb",
      "version": "0.3.2",
      "provenance": [],
      "collapsed_sections": []
    },
    "kernelspec": {
      "name": "python3",
      "display_name": "Python 3"
    },
    "accelerator": "GPU"
  },
  "cells": [
    {
      "metadata": {
        "id": "nmmviQymd9Sp",
        "colab_type": "text"
      },
      "cell_type": "markdown",
      "source": [
        "# Keras MLP example for MNIST dataset\n",
        "[keras MNIST MLP example](https://github.com/keras-team/keras/blob/master/examples/mnist_mlp.py)"
      ]
    },
    {
      "metadata": {
        "id": "fWtRs-wCd147",
        "colab_type": "text"
      },
      "cell_type": "markdown",
      "source": [
        "Check Avalable GPU"
      ]
    },
    {
      "metadata": {
        "id": "XBH0kd4Gd5KK",
        "colab_type": "code",
        "colab": {
          "base_uri": "https://localhost:8080/",
          "height": 308
        },
        "outputId": "3c323460-22c9-4ab2-abbb-c4cd52261cd4"
      },
      "cell_type": "code",
      "source": [
        "!nvidia-smi"
      ],
      "execution_count": 1,
      "outputs": [
        {
          "output_type": "stream",
          "text": [
            "Thu Sep  6 02:38:49 2018       \r\n",
            "+-----------------------------------------------------------------------------+\r\n",
            "| NVIDIA-SMI 384.111                Driver Version: 384.111                   |\r\n",
            "|-------------------------------+----------------------+----------------------+\r\n",
            "| GPU  Name        Persistence-M| Bus-Id        Disp.A | Volatile Uncorr. ECC |\r\n",
            "| Fan  Temp  Perf  Pwr:Usage/Cap|         Memory-Usage | GPU-Util  Compute M. |\r\n",
            "|===============================+======================+======================|\r\n",
            "|   0  Tesla K80           Off  | 00000000:00:04.0 Off |                    0 |\r\n",
            "| N/A   39C    P8    30W / 149W |      0MiB / 11439MiB |      0%      Default |\r\n",
            "+-------------------------------+----------------------+----------------------+\r\n",
            "                                                                               \r\n",
            "+-----------------------------------------------------------------------------+\r\n",
            "| Processes:                                                       GPU Memory |\r\n",
            "|  GPU       PID   Type   Process name                             Usage      |\r\n",
            "|=============================================================================|\r\n",
            "|  No running processes found                                                 |\r\n",
            "+-----------------------------------------------------------------------------+\r\n"
          ],
          "name": "stdout"
        }
      ]
    },
    {
      "metadata": {
        "id": "k64HjYQwdMDQ",
        "colab_type": "text"
      },
      "cell_type": "markdown",
      "source": [
        "## Step1.\n",
        "configure tensorflow option"
      ]
    },
    {
      "metadata": {
        "id": "rx_J5LlvehNM",
        "colab_type": "code",
        "colab": {}
      },
      "cell_type": "code",
      "source": [
        "'''\n",
        "this is critical option. TF memory control allow_growth is mandatory option\n",
        "'''\n",
        "import tensorflow as tf\n",
        "config = tf.ConfigProto()\n",
        "config.gpu_options.allow_growth = True\n",
        "session = tf.Session(config=config )"
      ],
      "execution_count": 0,
      "outputs": []
    },
    {
      "metadata": {
        "id": "_Lr7VQDT-OOa",
        "colab_type": "text"
      },
      "cell_type": "markdown",
      "source": [
        "check available GPU memory"
      ]
    },
    {
      "metadata": {
        "id": "lI8NXTrIe9yq",
        "colab_type": "code",
        "colab": {
          "base_uri": "https://localhost:8080/",
          "height": 34
        },
        "outputId": "193043a0-b80a-4890-a353-f82dedf9fc34"
      },
      "cell_type": "code",
      "source": [
        "!nvidia-smi   | grep MiB"
      ],
      "execution_count": 3,
      "outputs": [
        {
          "output_type": "stream",
          "text": [
            "| N/A   39C    P0    71W / 149W |    115MiB / 11439MiB |      0%      Default |\r\n"
          ],
          "name": "stdout"
        }
      ]
    },
    {
      "metadata": {
        "id": "eTss08B_fQfM",
        "colab_type": "code",
        "colab": {}
      },
      "cell_type": "code",
      "source": [
        ""
      ],
      "execution_count": 0,
      "outputs": []
    },
    {
      "metadata": {
        "id": "auwNPcrDfSpz",
        "colab_type": "text"
      },
      "cell_type": "markdown",
      "source": [
        "## import keras\n"
      ]
    },
    {
      "metadata": {
        "id": "rRCwOziBdbQZ",
        "colab_type": "code",
        "colab": {
          "base_uri": "https://localhost:8080/",
          "height": 51
        },
        "outputId": "871cab06-744c-4fe5-8f62-8bd798d6c3ac"
      },
      "cell_type": "code",
      "source": [
        "'''Trains a simple deep NN on the MNIST dataset.\n",
        "\n",
        "Gets to 98.40% test accuracy after 20 epochs\n",
        "(there is *a lot* of margin for parameter tuning).\n",
        "2 seconds per epoch on a K520 GPU.\n",
        "'''\n",
        "\n",
        "from __future__ import print_function\n",
        "\n",
        "import keras\n",
        "from keras.datasets import mnist\n",
        "from keras.models import Sequential\n",
        "from keras.layers import Dense, Dropout, Flatten\n",
        "from keras.layers import Conv2D, MaxPooling2D\n",
        "from keras.optimizers import RMSprop\n",
        "from keras import backend as K\n",
        "\n",
        "print('tensorflow ver. :',tf.__version__)\n",
        "print('keras      ver. :', keras.__version__)"
      ],
      "execution_count": 12,
      "outputs": [
        {
          "output_type": "stream",
          "text": [
            "tensorflow ver. : 1.10.1\n",
            "keras      ver. : 2.1.6\n"
          ],
          "name": "stdout"
        }
      ]
    },
    {
      "metadata": {
        "id": "nKuh13X9dfzj",
        "colab_type": "text"
      },
      "cell_type": "markdown",
      "source": [
        "## download mnist dataset and prepare train/test dataset"
      ]
    },
    {
      "metadata": {
        "id": "TAnLf2OPdeIY",
        "colab_type": "code",
        "colab": {
          "base_uri": "https://localhost:8080/",
          "height": 86
        },
        "outputId": "b8ed85bf-aa5d-4fff-dc1a-b5567df8998a"
      },
      "cell_type": "code",
      "source": [
        "%%time\n",
        "# the data, split between train and test sets\n",
        "#it will take time to download\n",
        "(x_train, y_train), (x_test, y_test) = mnist.load_data()\n"
      ],
      "execution_count": 5,
      "outputs": [
        {
          "output_type": "stream",
          "text": [
            "Downloading data from https://s3.amazonaws.com/img-datasets/mnist.npz\n",
            "11493376/11490434 [==============================] - 1s 0us/step\n",
            "CPU times: user 410 ms, sys: 106 ms, total: 515 ms\n",
            "Wall time: 1.89 s\n"
          ],
          "name": "stdout"
        }
      ]
    },
    {
      "metadata": {
        "id": "jxbrvl8Gdg0R",
        "colab_type": "text"
      },
      "cell_type": "markdown",
      "source": [
        "## reshape the dataset for keras category label"
      ]
    },
    {
      "metadata": {
        "id": "Cz6lCnx8fp0d",
        "colab_type": "code",
        "colab": {
          "base_uri": "https://localhost:8080/",
          "height": 103
        },
        "outputId": "6a791a23-31fa-4229-d5c6-d6b25dc48346"
      },
      "cell_type": "code",
      "source": [
        "%%time\n",
        "num_classes = 10\n",
        "\n",
        "\n",
        "# input image dimensions\n",
        "img_rows, img_cols = 28, 28\n",
        "\n",
        "\n",
        "if K.image_data_format() == 'channels_first':\n",
        "    x_train = x_train.reshape(x_train.shape[0], 1, img_rows, img_cols)\n",
        "    x_test = x_test.reshape(x_test.shape[0], 1, img_rows, img_cols)\n",
        "    input_shape = (1, img_rows, img_cols)\n",
        "else:\n",
        "    x_train = x_train.reshape(x_train.shape[0], img_rows, img_cols, 1)\n",
        "    x_test = x_test.reshape(x_test.shape[0], img_rows, img_cols, 1)\n",
        "    input_shape = (img_rows, img_cols, 1)\n",
        "\n",
        "x_train = x_train.astype('float32')\n",
        "x_test = x_test.astype('float32')\n",
        "x_train /= 255\n",
        "x_test /= 255\n",
        "print('x_train shape:', x_train.shape)\n",
        "print(x_train.shape[0], 'train samples')\n",
        "print(x_test.shape[0], 'test samples')\n",
        "\n",
        "#for confusion matrix we need original label format\n",
        "y_test_cls=y_test\n",
        "\n",
        "# convert class vectors to binary class matrices\n",
        "y_train = keras.utils.to_categorical(y_train, num_classes)\n",
        "y_test = keras.utils.to_categorical(y_test, num_classes)\n",
        "\n",
        "\n"
      ],
      "execution_count": 9,
      "outputs": [
        {
          "output_type": "stream",
          "text": [
            "x_train shape: (60000, 28, 28, 1)\n",
            "60000 train samples\n",
            "10000 test samples\n",
            "CPU times: user 93.1 ms, sys: 95.2 ms, total: 188 ms\n",
            "Wall time: 187 ms\n"
          ],
          "name": "stdout"
        }
      ]
    },
    {
      "metadata": {
        "id": "QkzixpWNAn8h",
        "colab_type": "text"
      },
      "cell_type": "markdown",
      "source": [
        "Check Dataset with Histogram"
      ]
    },
    {
      "metadata": {
        "id": "zAcWDEQr7GFy",
        "colab_type": "code",
        "colab": {
          "base_uri": "https://localhost:8080/",
          "height": 347
        },
        "outputId": "af457984-0422-401d-cbc8-97796ee3ecc5"
      },
      "cell_type": "code",
      "source": [
        "import numpy as np\n",
        "import matplotlib.pyplot as plt\n",
        "plt.hist(y_test_cls, bins=20 )\n",
        "plt.show()"
      ],
      "execution_count": 10,
      "outputs": [
        {
          "output_type": "display_data",
          "data": {
            "image/png": "[encoded data removed]",
            "text/plain": [
              "<matplotlib.figure.Figure at 0x7f6e7d861240>"
            ]
          },
          "metadata": {
            "tags": []
          }
        }
      ]
    },
    {
      "metadata": {
        "id": "51s49M-tgbId",
        "colab_type": "text"
      },
      "cell_type": "markdown",
      "source": [
        "## define model MLP(Multi Layer Perceptron)"
      ]
    },
    {
      "metadata": {
        "id": "zue_p27ydg-e",
        "colab_type": "code",
        "colab": {
          "base_uri": "https://localhost:8080/",
          "height": 377
        },
        "outputId": "8ee1b026-4d11-4f68-979a-66db6849aa7f"
      },
      "cell_type": "code",
      "source": [
        "\n",
        "model = Sequential()\n",
        "model.add(Conv2D(32, kernel_size=(3, 3),\n",
        "                 activation='relu',\n",
        "                 input_shape=input_shape))\n",
        "model.add(Conv2D(64, (3, 3), activation='relu'))\n",
        "model.add(MaxPooling2D(pool_size=(2, 2)))\n",
        "model.add(Flatten())\n",
        "model.add(Dense(128, activation='relu'))\n",
        "model.add(Dropout(0.5))\n",
        "model.add(Dense(num_classes, activation='softmax'))\n",
        "\n",
        "\n",
        "model.summary()\n",
        "\n",
        "\n",
        "\n"
      ],
      "execution_count": 13,
      "outputs": [
        {
          "output_type": "stream",
          "text": [
            "_________________________________________________________________\n",
            "Layer (type)                 Output Shape              Param #   \n",
            "=================================================================\n",
            "conv2d_1 (Conv2D)            (None, 26, 26, 32)        320       \n",
            "_________________________________________________________________\n",
            "conv2d_2 (Conv2D)            (None, 24, 24, 64)        18496     \n",
            "_________________________________________________________________\n",
            "max_pooling2d_1 (MaxPooling2 (None, 12, 12, 64)        0         \n",
            "_________________________________________________________________\n",
            "flatten_1 (Flatten)          (None, 9216)              0         \n",
            "_________________________________________________________________\n",
            "dense_1 (Dense)              (None, 128)               1179776   \n",
            "_________________________________________________________________\n",
            "dropout_1 (Dropout)          (None, 128)               0         \n",
            "_________________________________________________________________\n",
            "dense_2 (Dense)              (None, 10)                1290      \n",
            "=================================================================\n",
            "Total params: 1,199,882\n",
            "Trainable params: 1,199,882\n",
            "Non-trainable params: 0\n",
            "_________________________________________________________________\n"
          ],
          "name": "stdout"
        }
      ]
    },
    {
      "metadata": {
        "id": "iGCI8pkIdsKZ",
        "colab_type": "text"
      },
      "cell_type": "markdown",
      "source": [
        "## Configure Loss function and solver"
      ]
    },
    {
      "metadata": {
        "id": "8yqBI-XadsTJ",
        "colab_type": "code",
        "colab": {}
      },
      "cell_type": "code",
      "source": [
        "#configure loss \n",
        "#configure solver(optimizer) sgd, adam\n",
        "model.compile(loss='categorical_crossentropy',\n",
        "              optimizer=RMSprop(),\n",
        "              metrics=['accuracy'])"
      ],
      "execution_count": 0,
      "outputs": []
    },
    {
      "metadata": {
        "id": "A1CpGkWZdhIc",
        "colab_type": "text"
      },
      "cell_type": "markdown",
      "source": [
        ""
      ]
    },
    {
      "metadata": {
        "id": "9vhjXSMwdhQr",
        "colab_type": "code",
        "colab": {
          "base_uri": "https://localhost:8080/",
          "height": 397
        },
        "outputId": "311f71a7-1e7e-4023-85ce-5d7efa64c9b0"
      },
      "cell_type": "code",
      "source": [
        "epochs = 10\n",
        "batch_size = 128\n",
        "\n",
        "history = model.fit(x_train, y_train,\n",
        "                    batch_size=batch_size,\n",
        "                    epochs=epochs,\n",
        "                    verbose=1,\n",
        "                    validation_split=0.3, \n",
        "                    shuffle=True)\n"
      ],
      "execution_count": 15,
      "outputs": [
        {
          "output_type": "stream",
          "text": [
            "Train on 42000 samples, validate on 18000 samples\n",
            "Epoch 1/10\n",
            "42000/42000 [==============================] - 10s 229us/step - loss: 0.2556 - acc: 0.9216 - val_loss: 0.0818 - val_acc: 0.9751\n",
            "Epoch 2/10\n",
            "42000/42000 [==============================] - 8s 188us/step - loss: 0.0831 - acc: 0.9750 - val_loss: 0.0562 - val_acc: 0.9833\n",
            "Epoch 3/10\n",
            "42000/42000 [==============================] - 8s 187us/step - loss: 0.0629 - acc: 0.9814 - val_loss: 0.0512 - val_acc: 0.9853\n",
            "Epoch 4/10\n",
            "42000/42000 [==============================] - 8s 187us/step - loss: 0.0510 - acc: 0.9840 - val_loss: 0.0447 - val_acc: 0.9872\n",
            "Epoch 5/10\n",
            "42000/42000 [==============================] - 8s 183us/step - loss: 0.0406 - acc: 0.9876 - val_loss: 0.0451 - val_acc: 0.9869\n",
            "Epoch 6/10\n",
            "42000/42000 [==============================] - 8s 181us/step - loss: 0.0342 - acc: 0.9898 - val_loss: 0.0500 - val_acc: 0.9868\n",
            "Epoch 7/10\n",
            "42000/42000 [==============================] - 8s 179us/step - loss: 0.0334 - acc: 0.9900 - val_loss: 0.0469 - val_acc: 0.9868\n",
            "Epoch 8/10\n",
            "42000/42000 [==============================] - 8s 179us/step - loss: 0.0316 - acc: 0.9909 - val_loss: 0.0474 - val_acc: 0.9873\n",
            "Epoch 9/10\n",
            "42000/42000 [==============================] - 8s 180us/step - loss: 0.0297 - acc: 0.9910 - val_loss: 0.0509 - val_acc: 0.9848\n",
            "Epoch 10/10\n",
            "42000/42000 [==============================] - 8s 181us/step - loss: 0.0294 - acc: 0.9912 - val_loss: 0.0455 - val_acc: 0.9882\n"
          ],
          "name": "stdout"
        }
      ]
    },
    {
      "metadata": {
        "id": "angeGGZCdhZd",
        "colab_type": "text"
      },
      "cell_type": "markdown",
      "source": [
        "## check test dataset"
      ]
    },
    {
      "metadata": {
        "id": "468MJcwmdhhl",
        "colab_type": "code",
        "colab": {
          "base_uri": "https://localhost:8080/",
          "height": 51
        },
        "outputId": "10beb957-1763-46c2-9767-c45580302375"
      },
      "cell_type": "code",
      "source": [
        "score = model.evaluate(x_test, y_test, verbose=0)\n",
        "print('Test loss:', score[0])\n",
        "print('Test accuracy:', score[1])"
      ],
      "execution_count": 16,
      "outputs": [
        {
          "output_type": "stream",
          "text": [
            "Test loss: 0.035739749474732886\n",
            "Test accuracy: 0.9899\n"
          ],
          "name": "stdout"
        }
      ]
    },
    {
      "metadata": {
        "id": "VcvKRmnbdhqc",
        "colab_type": "text"
      },
      "cell_type": "markdown",
      "source": [
        ""
      ]
    },
    {
      "metadata": {
        "id": "AxggKNe_6z93",
        "colab_type": "code",
        "colab": {
          "base_uri": "https://localhost:8080/",
          "height": 34
        },
        "outputId": "f1b1f0db-fb54-46ea-cfba-454767f5bacd"
      },
      "cell_type": "code",
      "source": [
        "y_test_cls"
      ],
      "execution_count": 17,
      "outputs": [
        {
          "output_type": "execute_result",
          "data": {
            "text/plain": [
              "array([7, 2, 1, ..., 4, 5, 6], dtype=uint8)"
            ]
          },
          "metadata": {
            "tags": []
          },
          "execution_count": 17
        }
      ]
    },
    {
      "metadata": {
        "id": "REKQRcbLdhxX",
        "colab_type": "code",
        "colab": {
          "base_uri": "https://localhost:8080/",
          "height": 34
        },
        "outputId": "dc10bcd1-81b3-4487-e6eb-8be456e3234b"
      },
      "cell_type": "code",
      "source": [
        "y_pred =model.predict_classes(x_test)\n",
        "y_pred\n"
      ],
      "execution_count": 18,
      "outputs": [
        {
          "output_type": "execute_result",
          "data": {
            "text/plain": [
              "array([7, 2, 1, ..., 4, 5, 6])"
            ]
          },
          "metadata": {
            "tags": []
          },
          "execution_count": 18
        }
      ]
    },
    {
      "metadata": {
        "id": "SNU2310Rlogy",
        "colab_type": "code",
        "colab": {
          "base_uri": "https://localhost:8080/",
          "height": 1960
        },
        "outputId": "45078121-51f3-43a5-fbd9-b007bed16a80"
      },
      "cell_type": "code",
      "source": [
        "import pandas as pd\n",
        "pd_label = pd.DataFrame()\n",
        "pd_label[\"true\"]=y_test_cls\n",
        "pd_label[\"pred\"]=y_pred\n",
        "pd_label"
      ],
      "execution_count": 19,
      "outputs": [
        {
          "output_type": "execute_result",
          "data": {
            "text/html": [
              "<div>\n",
              "<style scoped>\n",
              "    .dataframe tbody tr th:only-of-type {\n",
              "        vertical-align: middle;\n",
              "    }\n",
              "\n",
              "    .dataframe tbody tr th {\n",
              "        vertical-align: top;\n",
              "    }\n",
              "\n",
              "    .dataframe thead th {\n",
              "        text-align: right;\n",
              "    }\n",
              "</style>\n",
              "<table border=\"1\" class=\"dataframe\">\n",
              "  <thead>\n",
              "    <tr style=\"text-align: right;\">\n",
              "      <th></th>\n",
              "      <th>true</th>\n",
              "      <th>pred</th>\n",
              "    </tr>\n",
              "  </thead>\n",
              "  <tbody>\n",
              "    <tr>\n",
              "      <th>0</th>\n",
              "      <td>7</td>\n",
              "      <td>7</td>\n",
              "    </tr>\n",
              "    <tr>\n",
              "      <th>1</th>\n",
              "      <td>2</td>\n",
              "      <td>2</td>\n",
              "    </tr>\n",
              "    <tr>\n",
              "      <th>2</th>\n",
              "      <td>1</td>\n",
              "      <td>1</td>\n",
              "    </tr>\n",
              "    <tr>\n",
              "      <th>3</th>\n",
              "      <td>0</td>\n",
              "      <td>0</td>\n",
              "    </tr>\n",
              "    <tr>\n",
              "      <th>4</th>\n",
              "      <td>4</td>\n",
              "      <td>4</td>\n",
              "    </tr>\n",
              "    <tr>\n",
              "      <th>5</th>\n",
              "      <td>1</td>\n",
              "      <td>1</td>\n",
              "    </tr>\n",
              "    <tr>\n",
              "      <th>6</th>\n",
              "      <td>4</td>\n",
              "      <td>4</td>\n",
              "    </tr>\n",
              "    <tr>\n",
              "      <th>7</th>\n",
              "      <td>9</td>\n",
              "      <td>9</td>\n",
              "    </tr>\n",
              "    <tr>\n",
              "      <th>8</th>\n",
              "      <td>5</td>\n",
              "      <td>5</td>\n",
              "    </tr>\n",
              "    <tr>\n",
              "      <th>9</th>\n",
              "      <td>9</td>\n",
              "      <td>9</td>\n",
              "    </tr>\n",
              "    <tr>\n",
              "      <th>10</th>\n",
              "      <td>0</td>\n",
              "      <td>0</td>\n",
              "    </tr>\n",
              "    <tr>\n",
              "      <th>11</th>\n",
              "      <td>6</td>\n",
              "      <td>6</td>\n",
              "    </tr>\n",
              "    <tr>\n",
              "      <th>12</th>\n",
              "      <td>9</td>\n",
              "      <td>9</td>\n",
              "    </tr>\n",
              "    <tr>\n",
              "      <th>13</th>\n",
              "      <td>0</td>\n",
              "      <td>0</td>\n",
              "    </tr>\n",
              "    <tr>\n",
              "      <th>14</th>\n",
              "      <td>1</td>\n",
              "      <td>1</td>\n",
              "    </tr>\n",
              "    <tr>\n",
              "      <th>15</th>\n",
              "      <td>5</td>\n",
              "      <td>5</td>\n",
              "    </tr>\n",
              "    <tr>\n",
              "      <th>16</th>\n",
              "      <td>9</td>\n",
              "      <td>9</td>\n",
              "    </tr>\n",
              "    <tr>\n",
              "      <th>17</th>\n",
              "      <td>7</td>\n",
              "      <td>7</td>\n",
              "    </tr>\n",
              "    <tr>\n",
              "      <th>18</th>\n",
              "      <td>3</td>\n",
              "      <td>3</td>\n",
              "    </tr>\n",
              "    <tr>\n",
              "      <th>19</th>\n",
              "      <td>4</td>\n",
              "      <td>4</td>\n",
              "    </tr>\n",
              "    <tr>\n",
              "      <th>20</th>\n",
              "      <td>9</td>\n",
              "      <td>9</td>\n",
              "    </tr>\n",
              "    <tr>\n",
              "      <th>21</th>\n",
              "      <td>6</td>\n",
              "      <td>6</td>\n",
              "    </tr>\n",
              "    <tr>\n",
              "      <th>22</th>\n",
              "      <td>6</td>\n",
              "      <td>6</td>\n",
              "    </tr>\n",
              "    <tr>\n",
              "      <th>23</th>\n",
              "      <td>5</td>\n",
              "      <td>5</td>\n",
              "    </tr>\n",
              "    <tr>\n",
              "      <th>24</th>\n",
              "      <td>4</td>\n",
              "      <td>4</td>\n",
              "    </tr>\n",
              "    <tr>\n",
              "      <th>25</th>\n",
              "      <td>0</td>\n",
              "      <td>0</td>\n",
              "    </tr>\n",
              "    <tr>\n",
              "      <th>26</th>\n",
              "      <td>7</td>\n",
              "      <td>7</td>\n",
              "    </tr>\n",
              "    <tr>\n",
              "      <th>27</th>\n",
              "      <td>4</td>\n",
              "      <td>4</td>\n",
              "    </tr>\n",
              "    <tr>\n",
              "      <th>28</th>\n",
              "      <td>0</td>\n",
              "      <td>0</td>\n",
              "    </tr>\n",
              "    <tr>\n",
              "      <th>29</th>\n",
              "      <td>1</td>\n",
              "      <td>1</td>\n",
              "    </tr>\n",
              "    <tr>\n",
              "      <th>...</th>\n",
              "      <td>...</td>\n",
              "      <td>...</td>\n",
              "    </tr>\n",
              "    <tr>\n",
              "      <th>9970</th>\n",
              "      <td>5</td>\n",
              "      <td>5</td>\n",
              "    </tr>\n",
              "    <tr>\n",
              "      <th>9971</th>\n",
              "      <td>2</td>\n",
              "      <td>2</td>\n",
              "    </tr>\n",
              "    <tr>\n",
              "      <th>9972</th>\n",
              "      <td>4</td>\n",
              "      <td>4</td>\n",
              "    </tr>\n",
              "    <tr>\n",
              "      <th>9973</th>\n",
              "      <td>9</td>\n",
              "      <td>9</td>\n",
              "    </tr>\n",
              "    <tr>\n",
              "      <th>9974</th>\n",
              "      <td>4</td>\n",
              "      <td>4</td>\n",
              "    </tr>\n",
              "    <tr>\n",
              "      <th>9975</th>\n",
              "      <td>3</td>\n",
              "      <td>3</td>\n",
              "    </tr>\n",
              "    <tr>\n",
              "      <th>9976</th>\n",
              "      <td>6</td>\n",
              "      <td>6</td>\n",
              "    </tr>\n",
              "    <tr>\n",
              "      <th>9977</th>\n",
              "      <td>4</td>\n",
              "      <td>4</td>\n",
              "    </tr>\n",
              "    <tr>\n",
              "      <th>9978</th>\n",
              "      <td>1</td>\n",
              "      <td>1</td>\n",
              "    </tr>\n",
              "    <tr>\n",
              "      <th>9979</th>\n",
              "      <td>7</td>\n",
              "      <td>7</td>\n",
              "    </tr>\n",
              "    <tr>\n",
              "      <th>9980</th>\n",
              "      <td>2</td>\n",
              "      <td>2</td>\n",
              "    </tr>\n",
              "    <tr>\n",
              "      <th>9981</th>\n",
              "      <td>6</td>\n",
              "      <td>6</td>\n",
              "    </tr>\n",
              "    <tr>\n",
              "      <th>9982</th>\n",
              "      <td>5</td>\n",
              "      <td>6</td>\n",
              "    </tr>\n",
              "    <tr>\n",
              "      <th>9983</th>\n",
              "      <td>0</td>\n",
              "      <td>0</td>\n",
              "    </tr>\n",
              "    <tr>\n",
              "      <th>9984</th>\n",
              "      <td>1</td>\n",
              "      <td>1</td>\n",
              "    </tr>\n",
              "    <tr>\n",
              "      <th>9985</th>\n",
              "      <td>2</td>\n",
              "      <td>2</td>\n",
              "    </tr>\n",
              "    <tr>\n",
              "      <th>9986</th>\n",
              "      <td>3</td>\n",
              "      <td>3</td>\n",
              "    </tr>\n",
              "    <tr>\n",
              "      <th>9987</th>\n",
              "      <td>4</td>\n",
              "      <td>4</td>\n",
              "    </tr>\n",
              "    <tr>\n",
              "      <th>9988</th>\n",
              "      <td>5</td>\n",
              "      <td>5</td>\n",
              "    </tr>\n",
              "    <tr>\n",
              "      <th>9989</th>\n",
              "      <td>6</td>\n",
              "      <td>6</td>\n",
              "    </tr>\n",
              "    <tr>\n",
              "      <th>9990</th>\n",
              "      <td>7</td>\n",
              "      <td>7</td>\n",
              "    </tr>\n",
              "    <tr>\n",
              "      <th>9991</th>\n",
              "      <td>8</td>\n",
              "      <td>8</td>\n",
              "    </tr>\n",
              "    <tr>\n",
              "      <th>9992</th>\n",
              "      <td>9</td>\n",
              "      <td>9</td>\n",
              "    </tr>\n",
              "    <tr>\n",
              "      <th>9993</th>\n",
              "      <td>0</td>\n",
              "      <td>0</td>\n",
              "    </tr>\n",
              "    <tr>\n",
              "      <th>9994</th>\n",
              "      <td>1</td>\n",
              "      <td>1</td>\n",
              "    </tr>\n",
              "    <tr>\n",
              "      <th>9995</th>\n",
              "      <td>2</td>\n",
              "      <td>2</td>\n",
              "    </tr>\n",
              "    <tr>\n",
              "      <th>9996</th>\n",
              "      <td>3</td>\n",
              "      <td>3</td>\n",
              "    </tr>\n",
              "    <tr>\n",
              "      <th>9997</th>\n",
              "      <td>4</td>\n",
              "      <td>4</td>\n",
              "    </tr>\n",
              "    <tr>\n",
              "      <th>9998</th>\n",
              "      <td>5</td>\n",
              "      <td>5</td>\n",
              "    </tr>\n",
              "    <tr>\n",
              "      <th>9999</th>\n",
              "      <td>6</td>\n",
              "      <td>6</td>\n",
              "    </tr>\n",
              "  </tbody>\n",
              "</table>\n",
              "<p>10000 rows × 2 columns</p>\n",
              "</div>"
            ],
            "text/plain": [
              "      true  pred\n",
              "0        7     7\n",
              "1        2     2\n",
              "2        1     1\n",
              "3        0     0\n",
              "4        4     4\n",
              "5        1     1\n",
              "6        4     4\n",
              "7        9     9\n",
              "8        5     5\n",
              "9        9     9\n",
              "10       0     0\n",
              "11       6     6\n",
              "12       9     9\n",
              "13       0     0\n",
              "14       1     1\n",
              "15       5     5\n",
              "16       9     9\n",
              "17       7     7\n",
              "18       3     3\n",
              "19       4     4\n",
              "20       9     9\n",
              "21       6     6\n",
              "22       6     6\n",
              "23       5     5\n",
              "24       4     4\n",
              "25       0     0\n",
              "26       7     7\n",
              "27       4     4\n",
              "28       0     0\n",
              "29       1     1\n",
              "...    ...   ...\n",
              "9970     5     5\n",
              "9971     2     2\n",
              "9972     4     4\n",
              "9973     9     9\n",
              "9974     4     4\n",
              "9975     3     3\n",
              "9976     6     6\n",
              "9977     4     4\n",
              "9978     1     1\n",
              "9979     7     7\n",
              "9980     2     2\n",
              "9981     6     6\n",
              "9982     5     6\n",
              "9983     0     0\n",
              "9984     1     1\n",
              "9985     2     2\n",
              "9986     3     3\n",
              "9987     4     4\n",
              "9988     5     5\n",
              "9989     6     6\n",
              "9990     7     7\n",
              "9991     8     8\n",
              "9992     9     9\n",
              "9993     0     0\n",
              "9994     1     1\n",
              "9995     2     2\n",
              "9996     3     3\n",
              "9997     4     4\n",
              "9998     5     5\n",
              "9999     6     6\n",
              "\n",
              "[10000 rows x 2 columns]"
            ]
          },
          "metadata": {
            "tags": []
          },
          "execution_count": 19
        }
      ]
    },
    {
      "metadata": {
        "id": "-PU41smA86US",
        "colab_type": "code",
        "colab": {
          "base_uri": "https://localhost:8080/",
          "height": 188
        },
        "outputId": "cf6a6d8d-39e0-4b08-ca68-a38c7d16e5d7"
      },
      "cell_type": "code",
      "source": [
        "  \n",
        "from sklearn.metrics import confusion_matrix\n",
        "cm = confusion_matrix(y_true=y_test_cls, y_pred=y_pred)    \n",
        "cm"
      ],
      "execution_count": 20,
      "outputs": [
        {
          "output_type": "execute_result",
          "data": {
            "text/plain": [
              "array([[ 977,    0,    1,    0,    0,    0,    1,    1,    0,    0],\n",
              "       [   0, 1130,    2,    1,    0,    0,    1,    1,    0,    0],\n",
              "       [   1,    1, 1022,    0,    0,    0,    0,    8,    0,    0],\n",
              "       [   0,    0,    1, 1004,    0,    2,    0,    2,    1,    0],\n",
              "       [   0,    0,    0,    0,  974,    0,    3,    0,    1,    4],\n",
              "       [   1,    0,    1,    6,    0,  880,    3,    1,    0,    0],\n",
              "       [   3,    2,    0,    0,    1,    1,  950,    0,    1,    0],\n",
              "       [   0,    2,    7,    0,    0,    0,    0, 1017,    1,    1],\n",
              "       [   3,    1,    3,    1,    0,    1,    0,    5,  958,    2],\n",
              "       [   2,    2,    1,    0,    3,    6,    0,    8,    0,  987]])"
            ]
          },
          "metadata": {
            "tags": []
          },
          "execution_count": 20
        }
      ]
    },
    {
      "metadata": {
        "id": "yg9rRtR__CWK",
        "colab_type": "text"
      },
      "cell_type": "markdown",
      "source": [
        "# rerun\n",
        "Keras train use last snapshot w/o any model modification"
      ]
    },
    {
      "metadata": {
        "id": "TK5CVD47_Bgi",
        "colab_type": "code",
        "colab": {
          "base_uri": "https://localhost:8080/",
          "height": 226
        },
        "outputId": "56008b44-1e99-4997-85b7-aeba12ba58c8"
      },
      "cell_type": "code",
      "source": [
        "epochs = 5\n",
        "batch_size = 128\n",
        "\n",
        "history = model.fit(x_train, y_train,\n",
        "                    batch_size=batch_size,\n",
        "                    epochs=epochs,\n",
        "                    verbose=1,\n",
        "                    validation_split=0.3,\n",
        "                    shuffle=True)"
      ],
      "execution_count": 21,
      "outputs": [
        {
          "output_type": "stream",
          "text": [
            "Train on 42000 samples, validate on 18000 samples\n",
            "Epoch 1/5\n",
            "42000/42000 [==============================] - 8s 189us/step - loss: 0.0290 - acc: 0.9910 - val_loss: 0.0562 - val_acc: 0.9879\n",
            "Epoch 2/5\n",
            "42000/42000 [==============================] - 8s 188us/step - loss: 0.0291 - acc: 0.9916 - val_loss: 0.0436 - val_acc: 0.9889\n",
            "Epoch 3/5\n",
            "42000/42000 [==============================] - 8s 190us/step - loss: 0.0290 - acc: 0.9916 - val_loss: 0.0508 - val_acc: 0.9892\n",
            "Epoch 4/5\n",
            "42000/42000 [==============================] - 8s 187us/step - loss: 0.0273 - acc: 0.9915 - val_loss: 0.0457 - val_acc: 0.9892\n",
            "Epoch 5/5\n",
            "42000/42000 [==============================] - 8s 189us/step - loss: 0.0293 - acc: 0.9913 - val_loss: 0.0537 - val_acc: 0.9882\n"
          ],
          "name": "stdout"
        }
      ]
    },
    {
      "metadata": {
        "id": "Hq9YNV34AMYb",
        "colab_type": "code",
        "colab": {
          "base_uri": "https://localhost:8080/",
          "height": 51
        },
        "outputId": "74661a4f-bcfd-4dd3-ee2f-e20773070da5"
      },
      "cell_type": "code",
      "source": [
        "score = model.evaluate(x_test, y_test, verbose=0)\n",
        "print('Test loss:', score[0])\n",
        "print('Test accuracy:', score[1])"
      ],
      "execution_count": 22,
      "outputs": [
        {
          "output_type": "stream",
          "text": [
            "Test loss: 0.046431761144646\n",
            "Test accuracy: 0.9892\n"
          ],
          "name": "stdout"
        }
      ]
    },
    {
      "metadata": {
        "id": "edgIG2mmACPL",
        "colab_type": "code",
        "colab": {
          "base_uri": "https://localhost:8080/",
          "height": 188
        },
        "outputId": "949b2175-45bd-4972-eb9f-b86d0d43428f"
      },
      "cell_type": "code",
      "source": [
        "y_pred2 =model.predict_classes(x_test)\n",
        "cm = confusion_matrix(y_true=y_test_cls, y_pred=y_pred2)    \n",
        "cm"
      ],
      "execution_count": 23,
      "outputs": [
        {
          "output_type": "execute_result",
          "data": {
            "text/plain": [
              "array([[ 973,    1,    1,    1,    0,    0,    4,    0,    0,    0],\n",
              "       [   0, 1129,    1,    2,    0,    1,    1,    1,    0,    0],\n",
              "       [   0,    1, 1020,    0,    0,    0,    2,    8,    1,    0],\n",
              "       [   0,    0,    1,  997,    0,   11,    0,    0,    1,    0],\n",
              "       [   0,    0,    0,    0,  974,    0,    4,    0,    1,    3],\n",
              "       [   0,    0,    1,    1,    0,  887,    2,    1,    0,    0],\n",
              "       [   0,    2,    0,    0,    1,    3,  952,    0,    0,    0],\n",
              "       [   0,    3,    7,    0,    0,    0,    0, 1017,    1,    0],\n",
              "       [   2,    1,    1,    0,    0,    2,    2,    4,  960,    2],\n",
              "       [   2,    0,    1,    0,    5,   11,    0,    7,    0,  983]])"
            ]
          },
          "metadata": {
            "tags": []
          },
          "execution_count": 23
        }
      ]
    }
  ]
}