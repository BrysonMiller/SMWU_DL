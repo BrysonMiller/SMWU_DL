{
  "nbformat": 4,
  "nbformat_minor": 0,
  "metadata": {
    "colab": {
      "name": "WaveGlow.ipynb",
      "version": "0.3.2",
      "provenance": [],
      "collapsed_sections": [],
      "toc_visible": true
    },
    "kernelspec": {
      "name": "python3",
      "display_name": "Python 3"
    },
    "accelerator": "GPU"
  },
  "cells": [
    {
      "metadata": {
        "id": "Z6HGgYLS4g6g",
        "colab_type": "code",
        "colab": {}
      },
      "cell_type": "code",
      "source": [
        ""
      ],
      "execution_count": 0,
      "outputs": []
    },
    {
      "metadata": {
        "id": "2lgrLNuL4j0U",
        "colab_type": "text"
      },
      "cell_type": "markdown",
      "source": [
        "# WaveGlow Model inferencing\n",
        "\n"
      ]
    },
    {
      "metadata": {
        "id": "1MzR8k_w4pHp",
        "colab_type": "code",
        "colab": {
          "base_uri": "https://localhost:8080/",
          "height": 35
        },
        "outputId": "38247666-ad22-48ac-b3f1-8d77c08ce24e"
      },
      "cell_type": "code",
      "source": [
        "!nvidia-smi | grep K80"
      ],
      "execution_count": 2,
      "outputs": [
        {
          "output_type": "stream",
          "text": [
            "|   0  Tesla K80           Off  | 00000000:00:04.0 Off |                    0 |\n"
          ],
          "name": "stdout"
        }
      ]
    },
    {
      "metadata": {
        "id": "t_yXYtgm4wiI",
        "colab_type": "code",
        "colab": {
          "base_uri": "https://localhost:8080/",
          "height": 3710
        },
        "outputId": "b8ead91c-ef1f-4df5-9198-ac6580d70353"
      },
      "cell_type": "code",
      "source": [
        "%%time\n",
        "!rm -rf cuda-repo*\n",
        "!wget https://developer.nvidia.com/compute/cuda/9.0/Prod/local_installers/cuda-repo-ubuntu1704-9-0-local_9.0.176-1_amd64-deb\n",
        "!apt-get install dirmngr\n",
        "!dpkg -i cuda-repo-ubuntu1704-9-0-local_9.0.176-1_amd64-deb\n",
        "!apt-key add /var/cuda-repo-9-0-local/7fa2af80.pub\n",
        "!apt-get update\n",
        "!apt-get install  -y --no-install-recommends  \\\n",
        " cuda-core-9-0 \\\n",
        " cuda-cublas-9-0 cuda-cublas-dev-9-0 cuda-cudart-9-0 cuda-cudart-dev-9-0 \\\n",
        " cuda-cufft-9-0 cuda-cufft-dev-9-0 cuda-curand-9-0 cuda-curand-dev-9-0 \\\n",
        " cuda-cusolver-9-0 cuda-cusolver-dev-9-0 cuda-cusparse-9-0 \\\n",
        " cuda-cusparse-dev-9-0 \\\n",
        " cuda-libraries-9-0 cuda-libraries-dev-9-0 \\\n",
        " cuda-misc-headers-9-0 cuda-npp-9-0 cuda-npp-dev-9-0 \\\n",
        " cuda-nvgraph-9-0 cuda-nvgraph-dev-9-0 cuda-nvml-dev-9-0 cuda-nvrtc-9-0 \\\n",
        " cuda-nvrtc-dev-9-0\n",
        "#!rm -rf cuda-repo*\n",
        "#!rm -rf wget-log*"
      ],
      "execution_count": 4,
      "outputs": [
        {
          "output_type": "stream",
          "text": [
            "--2018-11-08 10:37:07--  https://developer.nvidia.com/compute/cuda/9.0/Prod/local_installers/cuda-repo-ubuntu1704-9-0-local_9.0.176-1_amd64-deb\n",
            "Resolving developer.nvidia.com (developer.nvidia.com)... 192.229.189.146\n",
            "Connecting to developer.nvidia.com (developer.nvidia.com)|192.229.189.146|:443... connected.\n",
            "HTTP request sent, awaiting response... 302 Found\n",
            "Location: https://developer.download.nvidia.com/compute/cuda/9.0/secure/Prod/local_installers/cuda-repo-ubuntu1704-9-0-local_9.0.176-1_amd64.deb?2A6zw8fVfPOrL6eMiAgkjqv9CZHvNMMDLEpJeyeB_c9BaZMOyKQBnBFuxHhEFBPidQ8n1XXRv5C8u4RxOUY4K3QKMccY90M5ykb8jFhjXSsxSgsXeEONOc8SpKQ9GRMwLyNr-nC2Qao5D__tPC3SyeYeJgh1WD6L8pl8r1PWGH1T-4XjCCs-Du06PkxJGYfLVzJ_2VHnyzQ4EEnJPHNv [following]\n",
            "--2018-11-08 10:37:08--  https://developer.download.nvidia.com/compute/cuda/9.0/secure/Prod/local_installers/cuda-repo-ubuntu1704-9-0-local_9.0.176-1_amd64.deb?2A6zw8fVfPOrL6eMiAgkjqv9CZHvNMMDLEpJeyeB_c9BaZMOyKQBnBFuxHhEFBPidQ8n1XXRv5C8u4RxOUY4K3QKMccY90M5ykb8jFhjXSsxSgsXeEONOc8SpKQ9GRMwLyNr-nC2Qao5D__tPC3SyeYeJgh1WD6L8pl8r1PWGH1T-4XjCCs-Du06PkxJGYfLVzJ_2VHnyzQ4EEnJPHNv\n",
            "Resolving developer.download.nvidia.com (developer.download.nvidia.com)... 192.229.232.112, 2606:2800:247:2063:46e:21d:825:102e\n",
            "Connecting to developer.download.nvidia.com (developer.download.nvidia.com)|192.229.232.112|:443... connected.\n",
            "HTTP request sent, awaiting response... 200 OK\n",
            "Length: 1216133170 (1.1G) [application/x-deb]\n",
            "Saving to: ‘cuda-repo-ubuntu1704-9-0-local_9.0.176-1_amd64-deb’\n",
            "\n",
            "cuda-repo-ubuntu170 100%[===================>]   1.13G   135MB/s    in 8.0s    \n",
            "\n",
            "2018-11-08 10:37:16 (145 MB/s) - ‘cuda-repo-ubuntu1704-9-0-local_9.0.176-1_amd64-deb’ saved [1216133170/1216133170]\n",
            "\n",
            "Reading package lists... Done\n",
            "Building dependency tree       \n",
            "Reading state information... Done\n",
            "dirmngr is already the newest version (2.2.4-1ubuntu1.1).\n",
            "0 upgraded, 0 newly installed, 0 to remove and 5 not upgraded.\n",
            "(Reading database ... 22339 files and directories currently installed.)\n",
            "Preparing to unpack cuda-repo-ubuntu1704-9-0-local_9.0.176-1_amd64-deb ...\n",
            "Unpacking cuda-repo-ubuntu1704-9-0-local (9.0.176-1) over (9.0.176-1) ...\n",
            "Setting up cuda-repo-ubuntu1704-9-0-local (9.0.176-1) ...\n",
            "OK\n",
            "Get:1 file:/var/cuda-repo-9-0-local  InRelease\n",
            "Ign:1 file:/var/cuda-repo-9-0-local  InRelease\n",
            "Get:2 file:/var/cuda-repo-9-0-local  Release [574 B]\n",
            "Get:2 file:/var/cuda-repo-9-0-local  Release [574 B]\n",
            "Get:3 file:/var/cuda-repo-9-0-local  Release.gpg [819 B]\n",
            "Get:3 file:/var/cuda-repo-9-0-local  Release.gpg [819 B]\n",
            "Get:4 file:/var/cuda-repo-9-0-local  Packages [15.8 kB]\n",
            "Ign:5 https://developer.download.nvidia.com/compute/cuda/repos/ubuntu1710/x86_64  InRelease\n",
            "Ign:6 https://developer.download.nvidia.com/compute/machine-learning/repos/ubuntu1604/x86_64  InRelease\n",
            "Hit:7 https://developer.download.nvidia.com/compute/cuda/repos/ubuntu1710/x86_64  Release\n",
            "Get:8 https://developer.download.nvidia.com/compute/machine-learning/repos/ubuntu1604/x86_64  Release [564 B]\n",
            "Get:9 https://developer.download.nvidia.com/compute/machine-learning/repos/ubuntu1604/x86_64  Release.gpg [801 B]\n",
            "Hit:10 http://ppa.launchpad.net/graphics-drivers/ppa/ubuntu bionic InRelease\n",
            "Hit:12 http://archive.ubuntu.com/ubuntu bionic InRelease\n",
            "Get:14 https://developer.download.nvidia.com/compute/machine-learning/repos/ubuntu1604/x86_64  Packages [34.6 kB]\n",
            "Get:11 http://security.ubuntu.com/ubuntu bionic-security InRelease [83.2 kB]\n",
            "Get:15 http://archive.ubuntu.com/ubuntu bionic-updates InRelease [88.7 kB]\n",
            "Get:17 http://security.ubuntu.com/ubuntu bionic-security/universe amd64 Packages [118 kB]\n",
            "Get:18 http://security.ubuntu.com/ubuntu bionic-security/main amd64 Packages [248 kB]\n",
            "Get:16 http://archive.ubuntu.com/ubuntu bionic-backports InRelease [74.6 kB]\n",
            "Get:19 http://archive.ubuntu.com/ubuntu bionic-updates/main amd64 Packages [552 kB]\n",
            "Get:20 http://archive.ubuntu.com/ubuntu bionic-updates/universe amd64 Packages [728 kB]\n",
            "Fetched 1,777 kB in 4s (474 kB/s)\n",
            "Reading package lists... Done\n",
            "Reading package lists... Done\n",
            "Building dependency tree       \n",
            "Reading state information... Done\n",
            "The following additional packages will be installed:\n",
            "  cuda-driver-dev-9-0 cuda-license-9-0\n",
            "The following NEW packages will be installed:\n",
            "  cuda-core-9-0 cuda-cublas-9-0 cuda-cublas-dev-9-0 cuda-cudart-9-0\n",
            "  cuda-cudart-dev-9-0 cuda-cufft-9-0 cuda-cufft-dev-9-0 cuda-curand-9-0\n",
            "  cuda-curand-dev-9-0 cuda-cusolver-9-0 cuda-cusolver-dev-9-0\n",
            "  cuda-cusparse-9-0 cuda-cusparse-dev-9-0 cuda-driver-dev-9-0\n",
            "  cuda-libraries-9-0 cuda-libraries-dev-9-0 cuda-license-9-0\n",
            "  cuda-misc-headers-9-0 cuda-npp-9-0 cuda-npp-dev-9-0 cuda-nvgraph-9-0\n",
            "  cuda-nvgraph-dev-9-0 cuda-nvml-dev-9-0 cuda-nvrtc-9-0 cuda-nvrtc-dev-9-0\n",
            "0 upgraded, 25 newly installed, 0 to remove and 5 not upgraded.\n",
            "Need to get 0 B/541 MB of archives.\n",
            "After this operation, 1,366 MB of additional disk space will be used.\n",
            "Get:1 file:/var/cuda-repo-9-0-local  cuda-license-9-0 9.0.176-1 [22.0 kB]\n",
            "Get:2 file:/var/cuda-repo-9-0-local  cuda-misc-headers-9-0 9.0.176-1 [684 kB]\n",
            "Get:3 file:/var/cuda-repo-9-0-local  cuda-core-9-0 9.0.176-1 [16.9 MB]\n",
            "Get:4 file:/var/cuda-repo-9-0-local  cuda-cublas-9-0 9.0.176-1 [25.0 MB]\n",
            "Get:5 file:/var/cuda-repo-9-0-local  cuda-cublas-dev-9-0 9.0.176-1 [49.4 MB]\n",
            "Get:6 file:/var/cuda-repo-9-0-local  cuda-cudart-9-0 9.0.176-1 [106 kB]\n",
            "Get:7 file:/var/cuda-repo-9-0-local  cuda-driver-dev-9-0 9.0.176-1 [10.9 kB]\n",
            "Get:8 file:/var/cuda-repo-9-0-local  cuda-cudart-dev-9-0 9.0.176-1 [767 kB]\n",
            "Get:9 file:/var/cuda-repo-9-0-local  cuda-cufft-9-0 9.0.176-1 [84.1 MB]\n",
            "Get:10 file:/var/cuda-repo-9-0-local  cuda-cufft-dev-9-0 9.0.176-1 [73.7 MB]\n",
            "Get:11 file:/var/cuda-repo-9-0-local  cuda-curand-9-0 9.0.176-1 [38.8 MB]\n",
            "Get:12 file:/var/cuda-repo-9-0-local  cuda-curand-dev-9-0 9.0.176-1 [57.9 MB]\n",
            "Get:13 file:/var/cuda-repo-9-0-local  cuda-cusolver-9-0 9.0.176-1 [26.2 MB]\n",
            "Get:14 file:/var/cuda-repo-9-0-local  cuda-cusolver-dev-9-0 9.0.176-1 [5,317 kB]\n",
            "Get:15 file:/var/cuda-repo-9-0-local  cuda-cusparse-9-0 9.0.176-1 [25.2 MB]\n",
            "Get:16 file:/var/cuda-repo-9-0-local  cuda-cusparse-dev-9-0 9.0.176-1 [25.3 MB]\n",
            "Get:17 file:/var/cuda-repo-9-0-local  cuda-nvrtc-9-0 9.0.176-1 [6,348 kB]\n",
            "Get:18 file:/var/cuda-repo-9-0-local  cuda-nvgraph-9-0 9.0.176-1 [6,081 kB]\n",
            "Get:19 file:/var/cuda-repo-9-0-local  cuda-npp-9-0 9.0.176-1 [46.6 MB]\n",
            "Get:20 file:/var/cuda-repo-9-0-local  cuda-libraries-9-0 9.0.176-1 [2,566 B]\n",
            "Get:21 file:/var/cuda-repo-9-0-local  cuda-nvrtc-dev-9-0 9.0.176-1 [9,334 B]\n",
            "Get:22 file:/var/cuda-repo-9-0-local  cuda-nvgraph-dev-9-0 9.0.176-1 [5,658 kB]\n",
            "Get:23 file:/var/cuda-repo-9-0-local  cuda-npp-dev-9-0 9.0.176-1 [46.6 MB]\n",
            "Get:24 file:/var/cuda-repo-9-0-local  cuda-libraries-dev-9-0 9.0.176-1 [2,596 B]\n",
            "Get:25 file:/var/cuda-repo-9-0-local  cuda-nvml-dev-9-0 9.0.176-1 [47.6 kB]\n",
            "Selecting previously unselected package cuda-license-9-0.\n",
            "(Reading database ... 22339 files and directories currently installed.)\n",
            "Preparing to unpack .../00-cuda-license-9-0_9.0.176-1_amd64.deb ...\n",
            "Unpacking cuda-license-9-0 (9.0.176-1) ...\n",
            "Selecting previously unselected package cuda-misc-headers-9-0.\n",
            "Preparing to unpack .../01-cuda-misc-headers-9-0_9.0.176-1_amd64.deb ...\n",
            "Unpacking cuda-misc-headers-9-0 (9.0.176-1) ...\n",
            "Selecting previously unselected package cuda-core-9-0.\n",
            "Preparing to unpack .../02-cuda-core-9-0_9.0.176-1_amd64.deb ...\n",
            "Unpacking cuda-core-9-0 (9.0.176-1) ...\n",
            "Selecting previously unselected package cuda-cublas-9-0.\n",
            "Preparing to unpack .../03-cuda-cublas-9-0_9.0.176-1_amd64.deb ...\n",
            "Unpacking cuda-cublas-9-0 (9.0.176-1) ...\n",
            "Selecting previously unselected package cuda-cublas-dev-9-0.\n",
            "Preparing to unpack .../04-cuda-cublas-dev-9-0_9.0.176-1_amd64.deb ...\n",
            "Unpacking cuda-cublas-dev-9-0 (9.0.176-1) ...\n",
            "Selecting previously unselected package cuda-cudart-9-0.\n",
            "Preparing to unpack .../05-cuda-cudart-9-0_9.0.176-1_amd64.deb ...\n",
            "Unpacking cuda-cudart-9-0 (9.0.176-1) ...\n",
            "Selecting previously unselected package cuda-driver-dev-9-0.\n",
            "Preparing to unpack .../06-cuda-driver-dev-9-0_9.0.176-1_amd64.deb ...\n",
            "Unpacking cuda-driver-dev-9-0 (9.0.176-1) ...\n",
            "Selecting previously unselected package cuda-cudart-dev-9-0.\n",
            "Preparing to unpack .../07-cuda-cudart-dev-9-0_9.0.176-1_amd64.deb ...\n",
            "Unpacking cuda-cudart-dev-9-0 (9.0.176-1) ...\n",
            "Selecting previously unselected package cuda-cufft-9-0.\n",
            "Preparing to unpack .../08-cuda-cufft-9-0_9.0.176-1_amd64.deb ...\n",
            "Unpacking cuda-cufft-9-0 (9.0.176-1) ...\n",
            "Selecting previously unselected package cuda-cufft-dev-9-0.\n",
            "Preparing to unpack .../09-cuda-cufft-dev-9-0_9.0.176-1_amd64.deb ...\n",
            "Unpacking cuda-cufft-dev-9-0 (9.0.176-1) ...\n",
            "Selecting previously unselected package cuda-curand-9-0.\n",
            "Preparing to unpack .../10-cuda-curand-9-0_9.0.176-1_amd64.deb ...\n",
            "Unpacking cuda-curand-9-0 (9.0.176-1) ...\n",
            "Selecting previously unselected package cuda-curand-dev-9-0.\n",
            "Preparing to unpack .../11-cuda-curand-dev-9-0_9.0.176-1_amd64.deb ...\n",
            "Unpacking cuda-curand-dev-9-0 (9.0.176-1) ...\n",
            "Selecting previously unselected package cuda-cusolver-9-0.\n",
            "Preparing to unpack .../12-cuda-cusolver-9-0_9.0.176-1_amd64.deb ...\n",
            "Unpacking cuda-cusolver-9-0 (9.0.176-1) ...\n",
            "Selecting previously unselected package cuda-cusolver-dev-9-0.\n",
            "Preparing to unpack .../13-cuda-cusolver-dev-9-0_9.0.176-1_amd64.deb ...\n",
            "Unpacking cuda-cusolver-dev-9-0 (9.0.176-1) ...\n",
            "Selecting previously unselected package cuda-cusparse-9-0.\n",
            "Preparing to unpack .../14-cuda-cusparse-9-0_9.0.176-1_amd64.deb ...\n",
            "Unpacking cuda-cusparse-9-0 (9.0.176-1) ...\n",
            "Selecting previously unselected package cuda-cusparse-dev-9-0.\n",
            "Preparing to unpack .../15-cuda-cusparse-dev-9-0_9.0.176-1_amd64.deb ...\n",
            "Unpacking cuda-cusparse-dev-9-0 (9.0.176-1) ...\n",
            "Selecting previously unselected package cuda-nvrtc-9-0.\n",
            "Preparing to unpack .../16-cuda-nvrtc-9-0_9.0.176-1_amd64.deb ...\n",
            "Unpacking cuda-nvrtc-9-0 (9.0.176-1) ...\n",
            "Selecting previously unselected package cuda-nvgraph-9-0.\n",
            "Preparing to unpack .../17-cuda-nvgraph-9-0_9.0.176-1_amd64.deb ...\n",
            "Unpacking cuda-nvgraph-9-0 (9.0.176-1) ...\n",
            "Selecting previously unselected package cuda-npp-9-0.\n",
            "Preparing to unpack .../18-cuda-npp-9-0_9.0.176-1_amd64.deb ...\n",
            "Unpacking cuda-npp-9-0 (9.0.176-1) ...\n",
            "Selecting previously unselected package cuda-libraries-9-0.\n",
            "Preparing to unpack .../19-cuda-libraries-9-0_9.0.176-1_amd64.deb ...\n",
            "Unpacking cuda-libraries-9-0 (9.0.176-1) ...\n",
            "Selecting previously unselected package cuda-nvrtc-dev-9-0.\n",
            "Preparing to unpack .../20-cuda-nvrtc-dev-9-0_9.0.176-1_amd64.deb ...\n",
            "Unpacking cuda-nvrtc-dev-9-0 (9.0.176-1) ...\n",
            "Selecting previously unselected package cuda-nvgraph-dev-9-0.\n",
            "Preparing to unpack .../21-cuda-nvgraph-dev-9-0_9.0.176-1_amd64.deb ...\n",
            "Unpacking cuda-nvgraph-dev-9-0 (9.0.176-1) ...\n",
            "Selecting previously unselected package cuda-npp-dev-9-0.\n",
            "Preparing to unpack .../22-cuda-npp-dev-9-0_9.0.176-1_amd64.deb ...\n",
            "Unpacking cuda-npp-dev-9-0 (9.0.176-1) ...\n",
            "Selecting previously unselected package cuda-libraries-dev-9-0.\n",
            "Preparing to unpack .../23-cuda-libraries-dev-9-0_9.0.176-1_amd64.deb ...\n",
            "Unpacking cuda-libraries-dev-9-0 (9.0.176-1) ...\n",
            "Selecting previously unselected package cuda-nvml-dev-9-0.\n",
            "Preparing to unpack .../24-cuda-nvml-dev-9-0_9.0.176-1_amd64.deb ...\n",
            "Unpacking cuda-nvml-dev-9-0 (9.0.176-1) ...\n",
            "Setting up cuda-license-9-0 (9.0.176-1) ...\n",
            "*** LICENSE AGREEMENT ***\n",
            "By using this software you agree to fully comply with the terms and \n",
            "conditions of the EULA (End User License Agreement). The EULA is located\n",
            "at /usr/local/cuda-9.0/doc/EULA.txt. The EULA can also be found at\n",
            "http://docs.nvidia.com/cuda/eula/index.html. If you do not agree to the\n",
            "terms and conditions of the EULA, do not use the software.\n",
            "\n",
            "Setting up cuda-cusparse-9-0 (9.0.176-1) ...\n",
            "Setting up cuda-cudart-9-0 (9.0.176-1) ...\n",
            "Setting up cuda-nvrtc-9-0 (9.0.176-1) ...\n",
            "Setting up cuda-cusparse-dev-9-0 (9.0.176-1) ...\n",
            "Setting up cuda-cufft-9-0 (9.0.176-1) ...\n",
            "Setting up cuda-cusolver-9-0 (9.0.176-1) ...\n",
            "Setting up cuda-nvml-dev-9-0 (9.0.176-1) ...\n",
            "Setting up cuda-npp-9-0 (9.0.176-1) ...\n",
            "Setting up cuda-cusolver-dev-9-0 (9.0.176-1) ...\n",
            "Setting up cuda-misc-headers-9-0 (9.0.176-1) ...\n",
            "Setting up cuda-cublas-9-0 (9.0.176-1) ...\n",
            "Setting up cuda-nvrtc-dev-9-0 (9.0.176-1) ...\n",
            "Setting up cuda-driver-dev-9-0 (9.0.176-1) ...\n",
            "Setting up cuda-curand-9-0 (9.0.176-1) ...\n",
            "Setting up cuda-nvgraph-9-0 (9.0.176-1) ...\n",
            "Setting up cuda-core-9-0 (9.0.176-1) ...\n",
            "Setting up cuda-libraries-9-0 (9.0.176-1) ...\n",
            "Setting up cuda-cudart-dev-9-0 (9.0.176-1) ...\n",
            "Setting up cuda-cufft-dev-9-0 (9.0.176-1) ...\n",
            "Setting up cuda-npp-dev-9-0 (9.0.176-1) ...\n",
            "Setting up cuda-curand-dev-9-0 (9.0.176-1) ...\n",
            "Setting up cuda-cublas-dev-9-0 (9.0.176-1) ...\n",
            "Setting up cuda-nvgraph-dev-9-0 (9.0.176-1) ...\n",
            "Setting up cuda-libraries-dev-9-0 (9.0.176-1) ...\n",
            "Processing triggers for libc-bin (2.27-3ubuntu1) ...\n",
            "CPU times: user 780 ms, sys: 126 ms, total: 906 ms\n",
            "Wall time: 1min 59s\n"
          ],
          "name": "stdout"
        }
      ]
    },
    {
      "metadata": {
        "id": "yBkt9eL-7vug",
        "colab_type": "code",
        "colab": {
          "base_uri": "https://localhost:8080/",
          "height": 55
        },
        "outputId": "8ad9ef57-889f-4759-b7e2-aa6dd8ee50af"
      },
      "cell_type": "code",
      "source": [
        "!pip install -q torch==0.4.0"
      ],
      "execution_count": 5,
      "outputs": [
        {
          "output_type": "stream",
          "text": [
            "tcmalloc: large alloc 1073750016 bytes == 0x5bb3c000 @  0x7f80388442a4 0x594e17 0x626104 0x51190a 0x4f5277 0x510c78 0x5119bd 0x4f5277 0x4f3338 0x510fb0 0x5119bd 0x4f5277 0x4f3338 0x510fb0 0x5119bd 0x4f5277 0x4f3338 0x510fb0 0x5119bd 0x4f6070 0x510c78 0x5119bd 0x4f5277 0x4f3338 0x510fb0 0x5119bd 0x4f6070 0x4f3338 0x510fb0 0x5119bd 0x4f6070\n"
          ],
          "name": "stdout"
        }
      ]
    },
    {
      "metadata": {
        "id": "PWDyf_ot8CM7",
        "colab_type": "code",
        "colab": {}
      },
      "cell_type": "code",
      "source": [
        "!pip install -q  matplotlib==2.1.0 "
      ],
      "execution_count": 0,
      "outputs": []
    },
    {
      "metadata": {
        "id": "B3IAii-a8NOc",
        "colab_type": "code",
        "colab": {
          "base_uri": "https://localhost:8080/",
          "height": 783
        },
        "outputId": "fa40b058-7bef-4634-e780-2045847698dc"
      },
      "cell_type": "code",
      "source": [
        "!pip install numpy inflect librosa scipy tensorboardX Unidecode pillow"
      ],
      "execution_count": 8,
      "outputs": [
        {
          "output_type": "stream",
          "text": [
            "Requirement already satisfied: numpy in /usr/local/lib/python3.6/dist-packages (1.14.6)\n",
            "Collecting inflect\n",
            "  Using cached https://files.pythonhosted.org/packages/6e/1b/6b9b48323b714b5f66dbea2bd5d4166c4f99d908bc31d5307d14083aa9a2/inflect-1.0.1-py2.py3-none-any.whl\n",
            "Collecting librosa\n",
            "  Using cached https://files.pythonhosted.org/packages/09/b4/5b411f19de48f8fc1a0ff615555aa9124952e4156e94d4803377e50cfa4c/librosa-0.6.2.tar.gz\n",
            "Requirement already satisfied: scipy in /usr/local/lib/python3.6/dist-packages (0.19.1)\n",
            "Collecting tensorboardX\n",
            "\u001b[?25l  Downloading https://files.pythonhosted.org/packages/b1/d2/e08fe62f3554fbba081e80f6b23128df53b2f74ed4dcde73ec4a84dc53fb/tensorboardX-1.4-py2.py3-none-any.whl (67kB)\n",
            "\u001b[K    100% |████████████████████████████████| 71kB 2.5MB/s \n",
            "\u001b[?25hCollecting Unidecode\n",
            "\u001b[?25l  Downloading https://files.pythonhosted.org/packages/59/ef/67085e30e8bbcdd76e2f0a4ad8151c13a2c5bce77c85f8cad6e1f16fb141/Unidecode-1.0.22-py2.py3-none-any.whl (235kB)\n",
            "\u001b[K    100% |████████████████████████████████| 235kB 7.8MB/s \n",
            "\u001b[?25hRequirement already satisfied: pillow in /usr/local/lib/python3.6/dist-packages (4.0.0)\n",
            "Collecting audioread>=2.0.0 (from librosa)\n",
            "  Downloading https://files.pythonhosted.org/packages/f0/41/8cd160c6b2046b997d571a744a7f398f39e954a62dd747b2aae1ad7f07d4/audioread-2.1.6.tar.gz\n",
            "Requirement already satisfied: scikit-learn!=0.19.0,>=0.14.0 in /usr/local/lib/python3.6/dist-packages (from librosa) (0.19.2)\n",
            "Requirement already satisfied: joblib>=0.12 in /usr/local/lib/python3.6/dist-packages (from librosa) (0.13.0)\n",
            "Requirement already satisfied: decorator>=3.0.0 in /usr/local/lib/python3.6/dist-packages (from librosa) (4.3.0)\n",
            "Requirement already satisfied: six>=1.3 in /usr/local/lib/python3.6/dist-packages (from librosa) (1.11.0)\n",
            "Collecting resampy>=0.2.0 (from librosa)\n",
            "\u001b[?25l  Downloading https://files.pythonhosted.org/packages/14/b6/66a06d85474190b50aee1a6c09cdc95bb405ac47338b27e9b21409da1760/resampy-0.2.1.tar.gz (322kB)\n",
            "\u001b[K    100% |████████████████████████████████| 327kB 11.1MB/s \n",
            "\u001b[?25hCollecting numba>=0.38.0 (from librosa)\n",
            "\u001b[?25l  Downloading https://files.pythonhosted.org/packages/42/45/8d5fc45e5f760ac65906ba48dec98e99e7920c96783ac7248c5e31c9464e/numba-0.40.1-cp36-cp36m-manylinux1_x86_64.whl (3.2MB)\n",
            "\u001b[K    100% |████████████████████████████████| 3.2MB 9.8MB/s \n",
            "\u001b[?25hRequirement already satisfied: protobuf>=3.2.0 in /usr/local/lib/python3.6/dist-packages (from tensorboardX) (3.6.1)\n",
            "Requirement already satisfied: olefile in /usr/local/lib/python3.6/dist-packages (from pillow) (0.46)\n",
            "Collecting llvmlite>=0.25.0dev0 (from numba>=0.38.0->librosa)\n",
            "\u001b[?25l  Downloading https://files.pythonhosted.org/packages/34/fb/f9c2e9e0ef2b54c52f0b727cf6af75b68c3d7ddb6d88c8d557b1b16bc1ab/llvmlite-0.25.0-cp36-cp36m-manylinux1_x86_64.whl (16.1MB)\n",
            "\u001b[K    100% |████████████████████████████████| 16.1MB 2.5MB/s \n",
            "\u001b[?25hRequirement already satisfied: setuptools in /usr/local/lib/python3.6/dist-packages (from protobuf>=3.2.0->tensorboardX) (40.5.0)\n",
            "Building wheels for collected packages: librosa, audioread, resampy\n",
            "  Running setup.py bdist_wheel for librosa ... \u001b[?25l-\b \b\\\b \bdone\n",
            "\u001b[?25h  Stored in directory: /root/.cache/pip/wheels/18/b8/10/f0f8f6ac60668a5cd75596cf14c25bb6b3ea1ecd815f058b7e\n",
            "  Running setup.py bdist_wheel for audioread ... \u001b[?25l-\b \bdone\n",
            "\u001b[?25h  Stored in directory: /root/.cache/pip/wheels/53/02/90/7b5c4081b7470c550ab605f600bad237dde12a6b8999b11f50\n",
            "  Running setup.py bdist_wheel for resampy ... \u001b[?25l-\b \b\\\b \bdone\n",
            "\u001b[?25h  Stored in directory: /root/.cache/pip/wheels/ff/4f/ed/2e6c676c23efe5394bb40ade50662e90eb46e29b48324c5f9b\n",
            "Successfully built librosa audioread resampy\n",
            "Installing collected packages: inflect, audioread, llvmlite, numba, resampy, librosa, tensorboardX, Unidecode\n",
            "Successfully installed Unidecode-1.0.22 audioread-2.1.6 inflect-1.0.1 librosa-0.6.2 llvmlite-0.25.0 numba-0.40.1 resampy-0.2.1 tensorboardX-1.4\n"
          ],
          "name": "stdout"
        }
      ]
    },
    {
      "metadata": {
        "id": "2LQCUtvd8jgq",
        "colab_type": "code",
        "colab": {
          "base_uri": "https://localhost:8080/",
          "height": 126
        },
        "outputId": "ee9b1909-f3f4-404b-f9e2-62f6340eaf06"
      },
      "cell_type": "code",
      "source": [
        "!git clone https://github.com/yhgon/waveglow.git"
      ],
      "execution_count": 9,
      "outputs": [
        {
          "output_type": "stream",
          "text": [
            "Cloning into 'waveglow'...\n",
            "remote: Enumerating objects: 12, done.\u001b[K\n",
            "remote: Counting objects: 100% (12/12), done.\u001b[K\n",
            "remote: Compressing objects: 100% (10/10), done.\u001b[K\n",
            "remote: Total 12 (delta 2), reused 12 (delta 2), pack-reused 0\u001b[K\n",
            "Unpacking objects: 100% (12/12), done.\n"
          ],
          "name": "stdout"
        }
      ]
    },
    {
      "metadata": {
        "id": "BzxZnmWt8-vr",
        "colab_type": "code",
        "colab": {
          "base_uri": "https://localhost:8080/",
          "height": 290
        },
        "outputId": "6428bfd6-ef1b-4625-f923-80fb09e408a0"
      },
      "cell_type": "code",
      "source": [
        "!ls -alh waveglow"
      ],
      "execution_count": 12,
      "outputs": [
        {
          "output_type": "stream",
          "text": [
            "total 464K\n",
            "drwxr-xr-x 4 root root 4.0K Nov  8 10:52 .\n",
            "drwxr-xr-x 1 root root 4.0K Nov  8 10:52 ..\n",
            "-rwxr-xr-x 1 root root  881 Nov  8 10:52 config.json\n",
            "-rw-r--r-- 1 root root 7.3K Nov  8 10:52 distributed.py\n",
            "drwxr-xr-x 8 root root 4.0K Nov  8 10:52 .git\n",
            "-rw-r--r-- 1 root root   84 Nov  8 10:52 .gitmodules\n",
            "-rw-r--r-- 1 root root 5.9K Nov  8 10:52 glow_old.py\n",
            "-rw-r--r-- 1 root root  13K Nov  8 10:52 glow.py\n",
            "-rw-r--r-- 1 root root 3.5K Nov  8 10:52 inference.py\n",
            "-rw-r--r-- 1 root root 5.7K Nov  8 10:52 mel2samp.py\n",
            "-rwxr-xr-x 1 root root 2.7K Nov  8 10:52 README.md\n",
            "drwxr-xr-x 2 root root 4.0K Nov  8 10:52 tacotron2\n",
            "-rw-r--r-- 1 root root 7.3K Nov  8 10:52 train.py\n",
            "-rwxr-xr-x 1 root root 382K Nov  8 10:52 waveglow_logo.png\n"
          ],
          "name": "stdout"
        }
      ]
    },
    {
      "metadata": {
        "id": "vil6aXXC9GLo",
        "colab_type": "code",
        "colab": {
          "base_uri": "https://localhost:8080/",
          "height": 910
        },
        "outputId": "97998781-391b-40ba-85e2-de00b5de73c4"
      },
      "cell_type": "code",
      "source": [
        "%%bash\n",
        "pwd\n",
        "cd waveglow\n",
        "git submodule init\n",
        "git submodule update\n",
        "ls -lah\n",
        "ls -alh tacotron2"
      ],
      "execution_count": 14,
      "outputs": [
        {
          "output_type": "stream",
          "text": [
            "/content\n",
            "Submodule path 'tacotron2': checked out 'fc0cf6a89a47166350b65daa1beaa06979e4cddf'\n",
            "total 464K\n",
            "drwxr-xr-x 4 root root 4.0K Nov  8 10:52 .\n",
            "drwxr-xr-x 1 root root 4.0K Nov  8 10:52 ..\n",
            "-rwxr-xr-x 1 root root  881 Nov  8 10:52 config.json\n",
            "-rw-r--r-- 1 root root 7.3K Nov  8 10:52 distributed.py\n",
            "drwxr-xr-x 9 root root 4.0K Nov  8 10:55 .git\n",
            "-rw-r--r-- 1 root root   84 Nov  8 10:52 .gitmodules\n",
            "-rw-r--r-- 1 root root 5.9K Nov  8 10:52 glow_old.py\n",
            "-rw-r--r-- 1 root root  13K Nov  8 10:52 glow.py\n",
            "-rw-r--r-- 1 root root 3.5K Nov  8 10:52 inference.py\n",
            "-rw-r--r-- 1 root root 5.7K Nov  8 10:52 mel2samp.py\n",
            "-rwxr-xr-x 1 root root 2.7K Nov  8 10:52 README.md\n",
            "drwxr-xr-x 4 root root 4.0K Nov  8 10:55 tacotron2\n",
            "-rw-r--r-- 1 root root 7.3K Nov  8 10:52 train.py\n",
            "-rwxr-xr-x 1 root root 382K Nov  8 10:52 waveglow_logo.png\n",
            "total 1.2M\n",
            "drwxr-xr-x 4 root root 4.0K Nov  8 10:55 .\n",
            "drwxr-xr-x 4 root root 4.0K Nov  8 10:52 ..\n",
            "-rw-r--r-- 1 root root 2.6K Nov  8 10:55 audio_processing.py\n",
            "-rw-r--r-- 1 root root 4.3K Nov  8 10:55 data_utils.py\n",
            "-rwxr-xr-x 1 root root 386K Nov  8 10:55 demo.wav\n",
            "-rw-r--r-- 1 root root 4.9K Nov  8 10:55 distributed.py\n",
            "-rw-r--r-- 1 root root  157 Nov  8 10:55 Dockerfile\n",
            "drwxr-xr-x 2 root root 4.0K Nov  8 10:55 filelists\n",
            "-rw-r--r-- 1 root root  18K Nov  8 10:55 fp16_optimizer.py\n",
            "-rw-r--r-- 1 root root   34 Nov  8 10:55 .git\n",
            "-rw-r--r-- 1 root root 2.8K Nov  8 10:55 hparams.py\n",
            "-rw-r--r-- 1 root root 427K Nov  8 10:55 inference.ipynb\n",
            "-rw-r--r-- 1 root root 3.0K Nov  8 10:55 layers.py\n",
            "-rw-r--r-- 1 root root 1.5K Nov  8 10:55 LICENSE\n",
            "-rw-r--r-- 1 root root 2.0K Nov  8 10:55 logger.py\n",
            "-rw-r--r-- 1 root root  673 Nov  8 10:55 loss_function.py\n",
            "-rw-r--r-- 1 root root 4.3K Nov  8 10:55 loss_scaler.py\n",
            "-rw-r--r-- 1 root root  21K Nov  8 10:55 model.py\n",
            "-rw-r--r-- 1 root root  647 Nov  8 10:55 multiproc.py\n",
            "-rw-r--r-- 1 root root 1.8K Nov  8 10:55 plotting_utils.py\n",
            "-rw-r--r-- 1 root root 2.7K Nov  8 10:55 README.md\n",
            "-rw-r--r-- 1 root root  142 Nov  8 10:55 requirements.txt\n",
            "-rw-r--r-- 1 root root 5.7K Nov  8 10:55 stft.py\n",
            "-rw-r--r-- 1 root root 171K Nov  8 10:55 tensorboard.png\n",
            "drwxr-xr-x 2 root root 4.0K Nov  8 10:55 text\n",
            "-rw-r--r-- 1 root root  12K Nov  8 10:55 train.py\n",
            "-rw-r--r-- 1 root root  893 Nov  8 10:55 utils.py\n"
          ],
          "name": "stdout"
        },
        {
          "output_type": "stream",
          "text": [
            "Submodule 'tacotron2' (http://github.com/NVIDIA/tacotron2) registered for path 'tacotron2'\n",
            "Cloning into '/content/waveglow/tacotron2'...\n",
            "warning: redirecting to https://github.com/NVIDIA/tacotron2/\n"
          ],
          "name": "stderr"
        }
      ]
    },
    {
      "metadata": {
        "id": "yJvusUxY9xxz",
        "colab_type": "code",
        "colab": {
          "base_uri": "https://localhost:8080/",
          "height": 35
        },
        "outputId": "e5ad7b07-2ad2-42b9-849d-5ac4f201dd92"
      },
      "cell_type": "code",
      "source": [
        "!pwd"
      ],
      "execution_count": 15,
      "outputs": [
        {
          "output_type": "stream",
          "text": [
            "/content\n"
          ],
          "name": "stdout"
        }
      ]
    },
    {
      "metadata": {
        "id": "wJCporoo-WU-",
        "colab_type": "code",
        "colab": {
          "base_uri": "https://localhost:8080/",
          "height": 237
        },
        "outputId": "920ed416-b7b5-4b28-f383-d0890f50f22d"
      },
      "cell_type": "code",
      "source": [
        "!wget https://drive.google.com/file/d/1cjKPHbtAMh_4HTHmuIGNkbOkPBD9qwhj/view?usp=sharing"
      ],
      "execution_count": 16,
      "outputs": [
        {
          "output_type": "stream",
          "text": [
            "--2018-11-08 10:58:54--  https://drive.google.com/file/d/1cjKPHbtAMh_4HTHmuIGNkbOkPBD9qwhj/view?usp=sharing\n",
            "Resolving drive.google.com (drive.google.com)... 108.177.125.138, 108.177.125.113, 108.177.125.101, ...\n",
            "Connecting to drive.google.com (drive.google.com)|108.177.125.138|:443... connected.\n",
            "HTTP request sent, awaiting response... 200 OK\n",
            "Length: unspecified [text/html]\n",
            "Saving to: ‘view?usp=sharing’\n",
            "\n",
            "\rview?usp=sharing        [<=>                 ]       0  --.-KB/s               \rview?usp=sharing        [ <=>                ] 132.01K   707KB/s    in 0.2s    \n",
            "\n",
            "2018-11-08 10:58:54 (707 KB/s) - ‘view?usp=sharing’ saved [135177]\n",
            "\n"
          ],
          "name": "stdout"
        }
      ]
    },
    {
      "metadata": {
        "id": "eCOw_h_J_2fr",
        "colab_type": "code",
        "colab": {
          "base_uri": "https://localhost:8080/",
          "height": 128
        },
        "outputId": "e912b115-d2b1-4910-adf6-04b1ae64550b"
      },
      "cell_type": "code",
      "source": [
        "from google.colab import drive\n",
        "drive.mount('/content/drive')"
      ],
      "execution_count": 17,
      "outputs": [
        {
          "output_type": "stream",
          "text": [
            "Go to this URL in a browser: https://accounts.google.com/o/oauth2/auth?client_id=947318989803-6bn6qk8qdgf4n4g3pfee6491hc0brc4i.apps.googleusercontent.com&redirect_uri=urn%3Aietf%3Awg%3Aoauth%3A2.0%3Aoob&scope=email%20https%3A%2F%2Fwww.googleapis.com%2Fauth%2Fdocs.test%20https%3A%2F%2Fwww.googleapis.com%2Fauth%2Fdrive%20https%3A%2F%2Fwww.googleapis.com%2Fauth%2Fdrive.photos.readonly%20https%3A%2F%2Fwww.googleapis.com%2Fauth%2Fpeopleapi.readonly&response_type=code\n",
            "\n",
            "Enter your authorization code:\n",
            "··········\n",
            "Mounted at /content/drive\n"
          ],
          "name": "stdout"
        }
      ]
    },
    {
      "metadata": {
        "id": "g7c_DG1pABJ_",
        "colab_type": "code",
        "colab": {
          "base_uri": "https://localhost:8080/",
          "height": 163
        },
        "outputId": "9f327ede-3609-449a-e5ee-35fccb430f97"
      },
      "cell_type": "code",
      "source": [
        "%%time\n",
        "!ls -alh   \"drive/My Drive/COLAB_data\""
      ],
      "execution_count": 21,
      "outputs": [
        {
          "output_type": "stream",
          "text": [
            "total 2.0G\n",
            "dr-x------ 2 root root 4.0K Jul 28  2016 CelebA\n",
            "dr-x------ 2 root root 4.0K Nov 11  2017 celeba-hq-deltas\n",
            "-r-------- 2 root root 1.5M Nov  8 00:41 mel_spectrograms.zip\n",
            "drwx------ 2 root root 4.0K Oct  4 10:39 segan\n",
            "-r-------- 2 root root 2.0G Nov  8 03:51 waveglow_old.pt\n",
            "CPU times: user 41.6 ms, sys: 11.2 ms, total: 52.8 ms\n",
            "Wall time: 4.29 s\n"
          ],
          "name": "stdout"
        }
      ]
    },
    {
      "metadata": {
        "id": "6citB3npAb62",
        "colab_type": "code",
        "colab": {
          "base_uri": "https://localhost:8080/",
          "height": 54
        },
        "outputId": "cc17f0eb-b564-4003-8f7b-163ff6485f1b"
      },
      "cell_type": "code",
      "source": [
        "%%time\n",
        "!cp -rf \"drive/My Drive/COLAB_data/waveglow_old.pt\" ."
      ],
      "execution_count": 22,
      "outputs": [
        {
          "output_type": "stream",
          "text": [
            "CPU times: user 167 ms, sys: 21.4 ms, total: 188 ms\n",
            "Wall time: 32.2 s\n"
          ],
          "name": "stdout"
        }
      ]
    },
    {
      "metadata": {
        "id": "SwPOL_tSBGI7",
        "colab_type": "code",
        "colab": {
          "base_uri": "https://localhost:8080/",
          "height": 54
        },
        "outputId": "1897f3b5-f547-40f6-880a-97fe9d50d4b6"
      },
      "cell_type": "code",
      "source": [
        "%%time\n",
        "!cp -rf \"drive/My Drive/COLAB_data/mel_spectrograms.zip\" ."
      ],
      "execution_count": 23,
      "outputs": [
        {
          "output_type": "stream",
          "text": [
            "CPU times: user 32.7 ms, sys: 12.9 ms, total: 45.5 ms\n",
            "Wall time: 3.66 s\n"
          ],
          "name": "stdout"
        }
      ]
    },
    {
      "metadata": {
        "id": "lFaAg59bBPkh",
        "colab_type": "code",
        "colab": {
          "base_uri": "https://localhost:8080/",
          "height": 235
        },
        "outputId": "557c7860-d7e3-4711-ae93-8192747a724a"
      },
      "cell_type": "code",
      "source": [
        "!pwd\n",
        "!ls -alh"
      ],
      "execution_count": 24,
      "outputs": [
        {
          "output_type": "stream",
          "text": [
            "/content\n",
            "total 3.2G\n",
            "drwxr-xr-x 1 root root 4.0K Nov  8 11:11  .\n",
            "drwxr-xr-x 1 root root 4.0K Nov  8 10:33  ..\n",
            "drwxr-xr-x 4 root root 4.0K Nov  6 18:04  .config\n",
            "-rw-r--r-- 1 root root 1.2G Sep 23  2017  cuda-repo-ubuntu1704-9-0-local_9.0.176-1_amd64-deb\n",
            "drwx------ 3 root root 4.0K Nov  8 11:05  drive\n",
            "-r-------- 1 root root 1.5M Nov  8 11:11  mel_spectrograms.zip\n",
            "drwxr-xr-x 2 root root 4.0K Nov  6 18:16  sample_data\n",
            "-rw-r--r-- 1 root root 133K Nov  8 10:58 'view?usp=sharing'\n",
            "drwxr-xr-x 4 root root 4.0K Nov  8 10:52  waveglow\n",
            "-r-------- 1 root root 2.0G Nov  8 11:09  waveglow_old.pt\n"
          ],
          "name": "stdout"
        }
      ]
    },
    {
      "metadata": {
        "id": "unbsg3A-Ce1_",
        "colab_type": "code",
        "colab": {}
      },
      "cell_type": "code",
      "source": [
        ""
      ],
      "execution_count": 0,
      "outputs": []
    },
    {
      "metadata": {
        "id": "FVrCHczdBb9y",
        "colab_type": "code",
        "colab": {
          "base_uri": "https://localhost:8080/",
          "height": 290
        },
        "outputId": "2dee290e-4d14-41d9-90b4-4bbd3cdece57"
      },
      "cell_type": "code",
      "source": [
        "!rm -rf mel\n",
        "!rm -rf mel/mel_spectrums\n",
        "!unzip mel_spectrograms.zip"
      ],
      "execution_count": 32,
      "outputs": [
        {
          "output_type": "stream",
          "text": [
            "Archive:  mel_spectrograms.zip\n",
            "  inflating: mel_spectrograms/LJ001-0153.wav.pt  \n",
            "  inflating: mel_spectrograms/LJ001-0096.wav.pt  \n",
            "  inflating: mel_spectrograms/LJ001-0094.wav.pt  \n",
            "  inflating: mel_spectrograms/.DS_Store  \n",
            "   creating: __MACOSX/\n",
            "   creating: __MACOSX/mel_spectrograms/\n",
            "  inflating: __MACOSX/mel_spectrograms/._.DS_Store  \n",
            "  inflating: mel_spectrograms/LJ001-0079.wav.pt  \n",
            "  inflating: mel_spectrograms/LJ001-0051.wav.pt  \n",
            "  inflating: mel_spectrograms/LJ001-0063.wav.pt  \n",
            "  inflating: mel_spectrograms/LJ001-0173.wav.pt  \n",
            "  inflating: mel_spectrograms/LJ001-0102.wav.pt  \n",
            "  inflating: mel_spectrograms/LJ001-0015.wav.pt  \n",
            "  inflating: mel_spectrograms/LJ001-0072.wav.pt  \n"
          ],
          "name": "stdout"
        }
      ]
    },
    {
      "metadata": {
        "id": "d3ex0pjtEVZ5",
        "colab_type": "code",
        "colab": {
          "base_uri": "https://localhost:8080/",
          "height": 35
        },
        "outputId": "f94d7c6f-e99f-45d3-f4af-6cf9b8bf5a04"
      },
      "cell_type": "code",
      "source": [
        "!ls /content/mel_spectrograms/LJ001-0051.wav.pt"
      ],
      "execution_count": 34,
      "outputs": [
        {
          "output_type": "stream",
          "text": [
            "/content/mel_spectrograms/LJ001-0051.wav.pt\n"
          ],
          "name": "stdout"
        }
      ]
    },
    {
      "metadata": {
        "id": "JJr8eqwXEhR3",
        "colab_type": "code",
        "colab": {}
      },
      "cell_type": "code",
      "source": [
        "cp -rf  /content/mel_spectrograms/LJ001-0051.wav.pt ."
      ],
      "execution_count": 0,
      "outputs": []
    },
    {
      "metadata": {
        "id": "rrI3O3S5GFxA",
        "colab_type": "code",
        "colab": {}
      },
      "cell_type": "code",
      "source": [
        "!cp -rf LJ001-0051.wav.pt a.pt"
      ],
      "execution_count": 0,
      "outputs": []
    },
    {
      "metadata": {
        "id": "JP9GGUaBEs_J",
        "colab_type": "code",
        "colab": {
          "base_uri": "https://localhost:8080/",
          "height": 54
        },
        "outputId": "4a5c7e1d-2b3d-4864-bab4-f96406974128"
      },
      "cell_type": "code",
      "source": [
        "!pwd\n",
        "!ls -alh LJ001-0051.wav.pt"
      ],
      "execution_count": 38,
      "outputs": [
        {
          "output_type": "stream",
          "text": [
            "/content\n",
            "-rwx------ 1 root root 132K Nov  8 11:26 LJ001-0051.wav.pt\n"
          ],
          "name": "stdout"
        }
      ]
    },
    {
      "metadata": {
        "id": "5tp7gXo8FKJo",
        "colab_type": "code",
        "colab": {}
      },
      "cell_type": "code",
      "source": [
        "!pip install -q scipy==1.0.0"
      ],
      "execution_count": 0,
      "outputs": []
    },
    {
      "metadata": {
        "id": "SxUIGUm8HKBB",
        "colab_type": "code",
        "colab": {
          "base_uri": "https://localhost:8080/",
          "height": 126
        },
        "outputId": "3e9b6f5d-3d3d-4c13-8e03-9442c69bb8ee"
      },
      "cell_type": "code",
      "source": [
        "%%bash\n",
        "cd waveglow\n",
        "git pull"
      ],
      "execution_count": 58,
      "outputs": [
        {
          "output_type": "stream",
          "text": [
            "Updating eeedc0d..f27b573\n",
            "Fast-forward\n",
            " mel2samp.py | 3 ++-\n",
            " 1 file changed, 2 insertions(+), 1 deletion(-)\n"
          ],
          "name": "stdout"
        },
        {
          "output_type": "stream",
          "text": [
            "From https://github.com/yhgon/waveglow\n",
            "   eeedc0d..f27b573  master     -> origin/master\n"
          ],
          "name": "stderr"
        }
      ]
    },
    {
      "metadata": {
        "id": "RY1w3XHhMvXh",
        "colab_type": "code",
        "colab": {
          "base_uri": "https://localhost:8080/",
          "height": 399
        },
        "outputId": "2fa6e324-42c9-473a-c30e-c63a56b7e555"
      },
      "cell_type": "code",
      "source": [
        "!pwd\n",
        "!ls \n",
        "!unzip mel_spectrograms.zip -d /content"
      ],
      "execution_count": 71,
      "outputs": [
        {
          "output_type": "stream",
          "text": [
            "/content\n",
            " aaa\t\t\t\t\t\t      mel_spectrograms.zip\n",
            " a.pt\t\t\t\t\t\t      sample_data\n",
            " cuda-repo-ubuntu1704-9-0-local_9.0.176-1_amd64-deb  'view?usp=sharing'\n",
            " drive\t\t\t\t\t\t      waveglow\n",
            " LJ001-0051.wav.pt\t\t\t\t      waveglow_old.pt\n",
            " __MACOSX\n",
            "Archive:  mel_spectrograms.zip\n",
            "   creating: /content/mel_spectrograms/\n",
            "  inflating: /content/mel_spectrograms/LJ001-0153.wav.pt  \n",
            "  inflating: /content/mel_spectrograms/LJ001-0096.wav.pt  \n",
            "  inflating: /content/mel_spectrograms/LJ001-0094.wav.pt  \n",
            "  inflating: /content/mel_spectrograms/.DS_Store  \n",
            "replace /content/__MACOSX/mel_spectrograms/._.DS_Store? [y]es, [n]o, [A]ll, [N]one, [r]ename: n\n",
            "  inflating: /content/mel_spectrograms/LJ001-0079.wav.pt  \n",
            "  inflating: /content/mel_spectrograms/LJ001-0051.wav.pt  \n",
            "  inflating: /content/mel_spectrograms/LJ001-0063.wav.pt  \n",
            "  inflating: /content/mel_spectrograms/LJ001-0173.wav.pt  \n",
            "  inflating: /content/mel_spectrograms/LJ001-0102.wav.pt  \n",
            "  inflating: /content/mel_spectrograms/LJ001-0015.wav.pt  \n",
            "  inflating: /content/mel_spectrograms/LJ001-0072.wav.pt  \n"
          ],
          "name": "stdout"
        }
      ]
    },
    {
      "metadata": {
        "id": "vAU-GuEgN2z7",
        "colab_type": "code",
        "colab": {}
      },
      "cell_type": "code",
      "source": [
        "!mv mel_spectrograms aaa"
      ],
      "execution_count": 0,
      "outputs": []
    },
    {
      "metadata": {
        "id": "i3EiJnIFCftN",
        "colab_type": "code",
        "colab": {
          "base_uri": "https://localhost:8080/",
          "height": 217
        },
        "outputId": "2622bbf0-73e4-407e-a408-b39f3036996f"
      },
      "cell_type": "code",
      "source": [
        "%%bash\n",
        "pwd\n",
        "cd waveglow\n",
        "\n",
        "python inference.py  -f <(ls /content/mel_spectrograms/*.pt)  -w /content/waveglow_old.pt -o . -s 0.6\n"
      ],
      "execution_count": 72,
      "outputs": [
        {
          "output_type": "stream",
          "text": [
            "/content\n",
            "./LJ001-0015.wav_synthesis.wav\n",
            "./LJ001-0051.wav_synthesis.wav\n",
            "./LJ001-0063.wav_synthesis.wav\n",
            "./LJ001-0072.wav_synthesis.wav\n",
            "./LJ001-0079.wav_synthesis.wav\n",
            "./LJ001-0094.wav_synthesis.wav\n",
            "./LJ001-0096.wav_synthesis.wav\n",
            "./LJ001-0102.wav_synthesis.wav\n",
            "./LJ001-0153.wav_synthesis.wav\n",
            "./LJ001-0173.wav_synthesis.wav\n"
          ],
          "name": "stdout"
        }
      ]
    }
  ]
}
