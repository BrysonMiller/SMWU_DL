{
  "nbformat": 4,
  "nbformat_minor": 0,
  "metadata": {
    "colab": {
      "name": "SEGAN.ipynb",
      "version": "0.3.2",
      "provenance": [],
      "toc_visible": true
    },
    "kernelspec": {
      "name": "python3",
      "display_name": "Python 3"
    },
    "accelerator": "GPU"
  },
  "cells": [
    {
      "metadata": {
        "id": "Z0RzRPBSkldJ",
        "colab_type": "text"
      },
      "cell_type": "markdown",
      "source": [
        "# SEGAN \n",
        "### Speech Enhancement GAN(Generative Adversarial Network) in TensorFlow\n",
        "Hyungon Ryu | Sr Solution Architect @ NVIDIA"
      ]
    },
    {
      "metadata": {
        "id": "Q5rO9m1Qk3Bs",
        "colab_type": "text"
      },
      "cell_type": "markdown",
      "source": [
        "This jupyter implement  of [SEGAN](https://github.com/santi-pdp/segan) project  in COLAB. The original paper can be found [here](https://arxiv.org/abs/1703.09452) , and test samples are available [here](http://veu.talp.cat/segan/).\n",
        "\n",
        "![SEGAN model image](https://github.com/santi-pdp/segan/raw/master/assets/segan_g.png)\n",
        "\n",
        "This model deals with raw speech waveforms on many noise conditions at different SNRs (40 at training time and 20 during test). It also models the speech characteristics from many speakers mixed within the same structure (without any supervision of identities), which makes the generative structure generalizable in the noise and speaker dimensions.\n",
        "\n",
        "There are two repositories that were good references on how GANs are defined and deployed:\n",
        "\n",
        " - [improved-gan](https://github.com/openai/improved-gan): implementing improvements to train GANs in a more stable way\n",
        " - [DCGAN-tensorflow](https://github.com/carpedm20/DCGAN-tensorflow): implementation of the DCGAN in tensorflow"
      ]
    },
    {
      "metadata": {
        "id": "eXvSHFCdmTD1",
        "colab_type": "text"
      },
      "cell_type": "markdown",
      "source": [
        "### dependency\n",
        "This segan project requres sox, pysox  and scipy to handle wave files. "
      ]
    },
    {
      "metadata": {
        "id": "pbDgkwu4kmxj",
        "colab_type": "code",
        "colab": {
          "base_uri": "https://localhost:8080/",
          "height": 3927
        },
        "outputId": "ce53a3b9-397b-458d-9f87-2071a986bcd9"
      },
      "cell_type": "code",
      "source": [
        " %%time \n",
        " # for requirement\n",
        " !apt-get install sox libsox-dev libsox-fmt-all\n",
        " !pip install numpy  scipy   toml sox tqdm"
      ],
      "execution_count": 1,
      "outputs": [
        {
          "output_type": "stream",
          "text": [
            "Reading package lists... Done\n",
            "Building dependency tree       \n",
            "Reading state information... Done\n",
            "The following additional packages will be installed:\n",
            "  dbus libao-common libao4 libapparmor1 libasound2 libasound2-data libasyncns0\n",
            "  libdbus-1-3 libflac8 libgsm1 libid3tag0 libltdl7 libmad0 libmagic-mgc\n",
            "  libmagic1 libmp3lame0 libogg0 libopencore-amrnb0 libopencore-amrwb0\n",
            "  libpulse0 libsndfile1 libsox-fmt-alsa libsox-fmt-ao libsox-fmt-base\n",
            "  libsox-fmt-mp3 libsox-fmt-oss libsox-fmt-pulse libsox2 libtwolame0\n",
            "  libvorbis0a libvorbisenc2 libvorbisfile3 libwavpack1 libwrap0 tcpd\n",
            "Suggested packages:\n",
            "  default-dbus-session-bus | dbus-session-bus libaudio2 libesd0 | libesd-alsa0\n",
            "  libasound2-plugins alsa-utils file pulseaudio\n",
            "The following NEW packages will be installed:\n",
            "  dbus libao-common libao4 libapparmor1 libasound2 libasound2-data libasyncns0\n",
            "  libdbus-1-3 libflac8 libgsm1 libid3tag0 libltdl7 libmad0 libmagic-mgc\n",
            "  libmagic1 libmp3lame0 libogg0 libopencore-amrnb0 libopencore-amrwb0\n",
            "  libpulse0 libsndfile1 libsox-dev libsox-fmt-all libsox-fmt-alsa\n",
            "  libsox-fmt-ao libsox-fmt-base libsox-fmt-mp3 libsox-fmt-oss libsox-fmt-pulse\n",
            "  libsox2 libtwolame0 libvorbis0a libvorbisenc2 libvorbisfile3 libwavpack1\n",
            "  libwrap0 sox tcpd\n",
            "0 upgraded, 38 newly installed, 0 to remove and 0 not upgraded.\n",
            "Need to get 3,209 kB of archives.\n",
            "After this operation, 17.1 MB of additional disk space will be used.\n",
            "Get:1 http://archive.ubuntu.com/ubuntu artful/main amd64 libao-common all 1.1.0-3ubuntu1 [6,392 B]\n",
            "Get:2 http://archive.ubuntu.com/ubuntu artful/main amd64 libao4 amd64 1.1.0-3ubuntu1 [32.2 kB]\n",
            "Get:3 http://archive.ubuntu.com/ubuntu artful/universe amd64 libgsm1 amd64 1.0.13-4 [27.1 kB]\n",
            "Get:4 http://archive.ubuntu.com/ubuntu artful/universe amd64 libmad0 amd64 0.15.1b-8ubuntu1 [71.5 kB]\n",
            "Get:5 http://archive.ubuntu.com/ubuntu artful/main amd64 libogg0 amd64 1.3.2-1 [17.2 kB]\n",
            "Get:6 http://archive.ubuntu.com/ubuntu artful/universe amd64 libopencore-amrnb0 amd64 0.1.3-2.1 [92.0 kB]\n",
            "Get:7 http://archive.ubuntu.com/ubuntu artful/universe amd64 libopencore-amrwb0 amd64 0.1.3-2.1 [45.8 kB]\n",
            "Get:8 http://archive.ubuntu.com/ubuntu artful-updates/main amd64 libapparmor1 amd64 2.11.0-2ubuntu17.1 [28.9 kB]\n",
            "Get:9 http://archive.ubuntu.com/ubuntu artful/main amd64 libdbus-1-3 amd64 1.10.22-1ubuntu1 [165 kB]\n",
            "Get:10 http://archive.ubuntu.com/ubuntu artful/main amd64 dbus amd64 1.10.22-1ubuntu1 [144 kB]\n",
            "Get:11 http://archive.ubuntu.com/ubuntu artful-updates/main amd64 libmagic-mgc amd64 1:5.32-1ubuntu0.1 [184 kB]\n",
            "Get:12 http://archive.ubuntu.com/ubuntu artful-updates/main amd64 libmagic1 amd64 1:5.32-1ubuntu0.1 [68.4 kB]\n",
            "Get:13 http://archive.ubuntu.com/ubuntu artful/main amd64 libasound2-data all 1.1.3-5 [36.1 kB]\n",
            "Get:14 http://archive.ubuntu.com/ubuntu artful/main amd64 libasound2 amd64 1.1.3-5 [357 kB]\n",
            "Get:15 http://archive.ubuntu.com/ubuntu artful/main amd64 libasyncns0 amd64 0.8-6 [12.1 kB]\n",
            "Get:16 http://archive.ubuntu.com/ubuntu artful/main amd64 libflac8 amd64 1.3.2-1 [213 kB]\n",
            "Get:17 http://archive.ubuntu.com/ubuntu artful/universe amd64 libid3tag0 amd64 0.15.1b-12 [31.4 kB]\n",
            "Get:18 http://archive.ubuntu.com/ubuntu artful/main amd64 libltdl7 amd64 2.4.6-2 [38.8 kB]\n",
            "Get:19 http://archive.ubuntu.com/ubuntu artful/universe amd64 libmp3lame0 amd64 3.99.5+repack1-9build1 [127 kB]\n",
            "Get:20 http://archive.ubuntu.com/ubuntu artful-updates/main amd64 libvorbis0a amd64 1.3.5-4ubuntu0.2 [86.5 kB]\n",
            "Get:21 http://archive.ubuntu.com/ubuntu artful-updates/main amd64 libvorbisenc2 amd64 1.3.5-4ubuntu0.2 [70.6 kB]\n",
            "Get:22 http://archive.ubuntu.com/ubuntu artful/main amd64 libsndfile1 amd64 1.0.28-4 [169 kB]\n",
            "Get:23 http://archive.ubuntu.com/ubuntu artful/main amd64 libwrap0 amd64 7.6.q-26 [46.1 kB]\n",
            "Get:24 http://archive.ubuntu.com/ubuntu artful-updates/main amd64 libpulse0 amd64 1:10.0-2ubuntu3.1 [265 kB]\n",
            "Get:25 http://archive.ubuntu.com/ubuntu artful/universe amd64 libsox2 amd64 14.4.1-5build1 [227 kB]\n",
            "Get:26 http://archive.ubuntu.com/ubuntu artful/universe amd64 libsox-fmt-alsa amd64 14.4.1-5build1 [7,282 B]\n",
            "Get:27 http://archive.ubuntu.com/ubuntu artful/universe amd64 libsox-fmt-ao amd64 14.4.1-5build1 [4,118 B]\n",
            "Get:28 http://archive.ubuntu.com/ubuntu artful-updates/main amd64 libvorbisfile3 amd64 1.3.5-4ubuntu0.2 [15.9 kB]\n",
            "Get:29 http://archive.ubuntu.com/ubuntu artful-updates/main amd64 libwavpack1 amd64 5.1.0-2ubuntu0.3 [76.3 kB]\n",
            "Get:30 http://archive.ubuntu.com/ubuntu artful/universe amd64 libsox-fmt-base amd64 14.4.1-5build1 [28.6 kB]\n",
            "Get:31 http://archive.ubuntu.com/ubuntu artful/universe amd64 libtwolame0 amd64 0.3.13-2 [46.1 kB]\n",
            "Get:32 http://archive.ubuntu.com/ubuntu artful/universe amd64 libsox-fmt-mp3 amd64 14.4.1-5build1 [12.3 kB]\n",
            "Get:33 http://archive.ubuntu.com/ubuntu artful/universe amd64 libsox-fmt-oss amd64 14.4.1-5build1 [4,650 B]\n",
            "Get:34 http://archive.ubuntu.com/ubuntu artful/universe amd64 libsox-fmt-pulse amd64 14.4.1-5build1 [4,134 B]\n",
            "Get:35 http://archive.ubuntu.com/ubuntu artful/universe amd64 libsox-fmt-all amd64 14.4.1-5build1 [1,712 B]\n",
            "Get:36 http://archive.ubuntu.com/ubuntu artful/universe amd64 libsox-dev amd64 14.4.1-5build1 [323 kB]\n",
            "Get:37 http://archive.ubuntu.com/ubuntu artful/universe amd64 sox amd64 14.4.1-5build1 [98.2 kB]\n",
            "Get:38 http://archive.ubuntu.com/ubuntu artful/main amd64 tcpd amd64 7.6.q-26 [23.5 kB]\n",
            "Fetched 3,209 kB in 3s (912 kB/s)\n",
            "Extracting templates from packages: 100%\n",
            "Selecting previously unselected package libao-common.\n",
            "(Reading database ... 18408 files and directories currently installed.)\n",
            "Preparing to unpack .../00-libao-common_1.1.0-3ubuntu1_all.deb ...\n",
            "Unpacking libao-common (1.1.0-3ubuntu1) ...\n",
            "Selecting previously unselected package libao4:amd64.\n",
            "Preparing to unpack .../01-libao4_1.1.0-3ubuntu1_amd64.deb ...\n",
            "Unpacking libao4:amd64 (1.1.0-3ubuntu1) ...\n",
            "Selecting previously unselected package libgsm1:amd64.\n",
            "Preparing to unpack .../02-libgsm1_1.0.13-4_amd64.deb ...\n",
            "Unpacking libgsm1:amd64 (1.0.13-4) ...\n",
            "Selecting previously unselected package libmad0:amd64.\n",
            "Preparing to unpack .../03-libmad0_0.15.1b-8ubuntu1_amd64.deb ...\n",
            "Unpacking libmad0:amd64 (0.15.1b-8ubuntu1) ...\n",
            "Selecting previously unselected package libogg0:amd64.\n",
            "Preparing to unpack .../04-libogg0_1.3.2-1_amd64.deb ...\n",
            "Unpacking libogg0:amd64 (1.3.2-1) ...\n",
            "Selecting previously unselected package libopencore-amrnb0:amd64.\n",
            "Preparing to unpack .../05-libopencore-amrnb0_0.1.3-2.1_amd64.deb ...\n",
            "Unpacking libopencore-amrnb0:amd64 (0.1.3-2.1) ...\n",
            "Selecting previously unselected package libopencore-amrwb0:amd64.\n",
            "Preparing to unpack .../06-libopencore-amrwb0_0.1.3-2.1_amd64.deb ...\n",
            "Unpacking libopencore-amrwb0:amd64 (0.1.3-2.1) ...\n",
            "Selecting previously unselected package libapparmor1:amd64.\n",
            "Preparing to unpack .../07-libapparmor1_2.11.0-2ubuntu17.1_amd64.deb ...\n",
            "Unpacking libapparmor1:amd64 (2.11.0-2ubuntu17.1) ...\n",
            "Selecting previously unselected package libdbus-1-3:amd64.\n",
            "Preparing to unpack .../08-libdbus-1-3_1.10.22-1ubuntu1_amd64.deb ...\n",
            "Unpacking libdbus-1-3:amd64 (1.10.22-1ubuntu1) ...\n",
            "Selecting previously unselected package dbus.\n",
            "Preparing to unpack .../09-dbus_1.10.22-1ubuntu1_amd64.deb ...\n",
            "Unpacking dbus (1.10.22-1ubuntu1) ...\n",
            "Selecting previously unselected package libmagic-mgc.\n",
            "Preparing to unpack .../10-libmagic-mgc_1%3a5.32-1ubuntu0.1_amd64.deb ...\n",
            "Unpacking libmagic-mgc (1:5.32-1ubuntu0.1) ...\n",
            "Selecting previously unselected package libmagic1:amd64.\n",
            "Preparing to unpack .../11-libmagic1_1%3a5.32-1ubuntu0.1_amd64.deb ...\n",
            "Unpacking libmagic1:amd64 (1:5.32-1ubuntu0.1) ...\n",
            "Selecting previously unselected package libasound2-data.\n",
            "Preparing to unpack .../12-libasound2-data_1.1.3-5_all.deb ...\n",
            "Unpacking libasound2-data (1.1.3-5) ...\n",
            "Selecting previously unselected package libasound2:amd64.\n",
            "Preparing to unpack .../13-libasound2_1.1.3-5_amd64.deb ...\n",
            "Unpacking libasound2:amd64 (1.1.3-5) ...\n",
            "Selecting previously unselected package libasyncns0:amd64.\n",
            "Preparing to unpack .../14-libasyncns0_0.8-6_amd64.deb ...\n",
            "Unpacking libasyncns0:amd64 (0.8-6) ...\n",
            "Selecting previously unselected package libflac8:amd64.\n",
            "Preparing to unpack .../15-libflac8_1.3.2-1_amd64.deb ...\n",
            "Unpacking libflac8:amd64 (1.3.2-1) ...\n",
            "Selecting previously unselected package libid3tag0:amd64.\n",
            "Preparing to unpack .../16-libid3tag0_0.15.1b-12_amd64.deb ...\n",
            "Unpacking libid3tag0:amd64 (0.15.1b-12) ...\n",
            "Selecting previously unselected package libltdl7:amd64.\n",
            "Preparing to unpack .../17-libltdl7_2.4.6-2_amd64.deb ...\n",
            "Unpacking libltdl7:amd64 (2.4.6-2) ...\n",
            "Selecting previously unselected package libmp3lame0:amd64.\n",
            "Preparing to unpack .../18-libmp3lame0_3.99.5+repack1-9build1_amd64.deb ...\n",
            "Unpacking libmp3lame0:amd64 (3.99.5+repack1-9build1) ...\n",
            "Selecting previously unselected package libvorbis0a:amd64.\n",
            "Preparing to unpack .../19-libvorbis0a_1.3.5-4ubuntu0.2_amd64.deb ...\n",
            "Unpacking libvorbis0a:amd64 (1.3.5-4ubuntu0.2) ...\n",
            "Selecting previously unselected package libvorbisenc2:amd64.\n",
            "Preparing to unpack .../20-libvorbisenc2_1.3.5-4ubuntu0.2_amd64.deb ...\n",
            "Unpacking libvorbisenc2:amd64 (1.3.5-4ubuntu0.2) ...\n",
            "Selecting previously unselected package libsndfile1:amd64.\n",
            "Preparing to unpack .../21-libsndfile1_1.0.28-4_amd64.deb ...\n",
            "Unpacking libsndfile1:amd64 (1.0.28-4) ...\n",
            "Selecting previously unselected package libwrap0:amd64.\n",
            "Preparing to unpack .../22-libwrap0_7.6.q-26_amd64.deb ...\n",
            "Unpacking libwrap0:amd64 (7.6.q-26) ...\n",
            "Selecting previously unselected package libpulse0:amd64.\n",
            "Preparing to unpack .../23-libpulse0_1%3a10.0-2ubuntu3.1_amd64.deb ...\n",
            "Unpacking libpulse0:amd64 (1:10.0-2ubuntu3.1) ...\n",
            "Selecting previously unselected package libsox2:amd64.\n",
            "Preparing to unpack .../24-libsox2_14.4.1-5build1_amd64.deb ...\n",
            "Unpacking libsox2:amd64 (14.4.1-5build1) ...\n",
            "Selecting previously unselected package libsox-fmt-alsa:amd64.\n",
            "Preparing to unpack .../25-libsox-fmt-alsa_14.4.1-5build1_amd64.deb ...\n",
            "Unpacking libsox-fmt-alsa:amd64 (14.4.1-5build1) ...\n",
            "Selecting previously unselected package libsox-fmt-ao:amd64.\n",
            "Preparing to unpack .../26-libsox-fmt-ao_14.4.1-5build1_amd64.deb ...\n",
            "Unpacking libsox-fmt-ao:amd64 (14.4.1-5build1) ...\n",
            "Selecting previously unselected package libvorbisfile3:amd64.\n",
            "Preparing to unpack .../27-libvorbisfile3_1.3.5-4ubuntu0.2_amd64.deb ...\n",
            "Unpacking libvorbisfile3:amd64 (1.3.5-4ubuntu0.2) ...\n",
            "Selecting previously unselected package libwavpack1:amd64.\n",
            "Preparing to unpack .../28-libwavpack1_5.1.0-2ubuntu0.3_amd64.deb ...\n",
            "Unpacking libwavpack1:amd64 (5.1.0-2ubuntu0.3) ...\n",
            "Selecting previously unselected package libsox-fmt-base:amd64.\n",
            "Preparing to unpack .../29-libsox-fmt-base_14.4.1-5build1_amd64.deb ...\n",
            "Unpacking libsox-fmt-base:amd64 (14.4.1-5build1) ...\n",
            "Selecting previously unselected package libtwolame0:amd64.\n",
            "Preparing to unpack .../30-libtwolame0_0.3.13-2_amd64.deb ...\n",
            "Unpacking libtwolame0:amd64 (0.3.13-2) ...\n",
            "Selecting previously unselected package libsox-fmt-mp3:amd64.\n",
            "Preparing to unpack .../31-libsox-fmt-mp3_14.4.1-5build1_amd64.deb ...\n",
            "Unpacking libsox-fmt-mp3:amd64 (14.4.1-5build1) ...\n",
            "Selecting previously unselected package libsox-fmt-oss:amd64.\n",
            "Preparing to unpack .../32-libsox-fmt-oss_14.4.1-5build1_amd64.deb ...\n",
            "Unpacking libsox-fmt-oss:amd64 (14.4.1-5build1) ...\n",
            "Selecting previously unselected package libsox-fmt-pulse:amd64.\n",
            "Preparing to unpack .../33-libsox-fmt-pulse_14.4.1-5build1_amd64.deb ...\n",
            "Unpacking libsox-fmt-pulse:amd64 (14.4.1-5build1) ...\n",
            "Selecting previously unselected package libsox-fmt-all:amd64.\n",
            "Preparing to unpack .../34-libsox-fmt-all_14.4.1-5build1_amd64.deb ...\n",
            "Unpacking libsox-fmt-all:amd64 (14.4.1-5build1) ...\n",
            "Selecting previously unselected package libsox-dev:amd64.\n",
            "Preparing to unpack .../35-libsox-dev_14.4.1-5build1_amd64.deb ...\n",
            "Unpacking libsox-dev:amd64 (14.4.1-5build1) ...\n",
            "Selecting previously unselected package sox.\n",
            "Preparing to unpack .../36-sox_14.4.1-5build1_amd64.deb ...\n",
            "Unpacking sox (14.4.1-5build1) ...\n",
            "Selecting previously unselected package tcpd.\n",
            "Preparing to unpack .../37-tcpd_7.6.q-26_amd64.deb ...\n",
            "Unpacking tcpd (7.6.q-26) ...\n",
            "Setting up libid3tag0:amd64 (0.15.1b-12) ...\n",
            "Setting up libtwolame0:amd64 (0.3.13-2) ...\n",
            "Setting up libasyncns0:amd64 (0.8-6) ...\n",
            "Processing triggers for mime-support (3.60ubuntu1) ...\n",
            "Setting up libwavpack1:amd64 (5.1.0-2ubuntu0.3) ...\n",
            "Setting up libasound2-data (1.1.3-5) ...\n",
            "Setting up libao-common (1.1.0-3ubuntu1) ...\n",
            "Setting up libmagic-mgc (1:5.32-1ubuntu0.1) ...\n",
            "Setting up libasound2:amd64 (1.1.3-5) ...\n",
            "Setting up libmagic1:amd64 (1:5.32-1ubuntu0.1) ...\n",
            "Setting up libogg0:amd64 (1.3.2-1) ...\n",
            "Setting up libmp3lame0:amd64 (3.99.5+repack1-9build1) ...\n",
            "Processing triggers for libc-bin (2.26-0ubuntu2.1) ...\n",
            "Setting up libapparmor1:amd64 (2.11.0-2ubuntu17.1) ...\n",
            "Setting up libltdl7:amd64 (2.4.6-2) ...\n",
            "Setting up libopencore-amrnb0:amd64 (0.1.3-2.1) ...\n",
            "Setting up libmad0:amd64 (0.15.1b-8ubuntu1) ...\n",
            "Setting up libvorbis0a:amd64 (1.3.5-4ubuntu0.2) ...\n",
            "Setting up libopencore-amrwb0:amd64 (0.1.3-2.1) ...\n",
            "Setting up libgsm1:amd64 (1.0.13-4) ...\n",
            "Setting up libdbus-1-3:amd64 (1.10.22-1ubuntu1) ...\n",
            "Setting up libwrap0:amd64 (7.6.q-26) ...\n",
            "Setting up libvorbisfile3:amd64 (1.3.5-4ubuntu0.2) ...\n",
            "Setting up libao4:amd64 (1.1.0-3ubuntu1) ...\n",
            "Setting up libflac8:amd64 (1.3.2-1) ...\n",
            "Setting up tcpd (7.6.q-26) ...\n",
            "Setting up libsox2:amd64 (14.4.1-5build1) ...\n",
            "Setting up dbus (1.10.22-1ubuntu1) ...\n",
            "Setting up libvorbisenc2:amd64 (1.3.5-4ubuntu0.2) ...\n",
            "Setting up libsox-fmt-ao:amd64 (14.4.1-5build1) ...\n",
            "Setting up libsox-fmt-mp3:amd64 (14.4.1-5build1) ...\n",
            "Setting up libsox-fmt-alsa:amd64 (14.4.1-5build1) ...\n",
            "Setting up libsox-fmt-oss:amd64 (14.4.1-5build1) ...\n",
            "Setting up libsndfile1:amd64 (1.0.28-4) ...\n",
            "Setting up libsox-fmt-base:amd64 (14.4.1-5build1) ...\n",
            "Setting up libpulse0:amd64 (1:10.0-2ubuntu3.1) ...\n",
            "Setting up sox (14.4.1-5build1) ...\n",
            "Setting up libsox-fmt-pulse:amd64 (14.4.1-5build1) ...\n",
            "Setting up libsox-fmt-all:amd64 (14.4.1-5build1) ...\n",
            "Setting up libsox-dev:amd64 (14.4.1-5build1) ...\n",
            "Processing triggers for libc-bin (2.26-0ubuntu2.1) ...\n",
            "Requirement already satisfied: numpy in /usr/local/lib/python3.6/dist-packages (1.14.6)\n",
            "Requirement already satisfied: scipy in /usr/local/lib/python3.6/dist-packages (0.19.1)\n",
            "Requirement already satisfied: toml in /usr/local/lib/python3.6/dist-packages (0.9.6)\n",
            "Collecting sox\n",
            "  Downloading https://files.pythonhosted.org/packages/ba/0d/332b12c582deed0688f4e1b3b0d6b0ef3bc51f06500ce25a32546801ec15/sox-1.3.3-py2.py3-none-any.whl\n",
            "Requirement already satisfied: tqdm in /usr/local/lib/python3.6/dist-packages (4.26.0)\n",
            "Installing collected packages: sox\n",
            "Successfully installed sox-1.3.3\n",
            "CPU times: user 207 ms, sys: 52.7 ms, total: 259 ms\n",
            "Wall time: 18.3 s\n"
          ],
          "name": "stdout"
        }
      ]
    },
    {
      "metadata": {
        "id": "_QwydorZmz4j",
        "colab_type": "code",
        "colab": {}
      },
      "cell_type": "code",
      "source": [
        ""
      ],
      "execution_count": 0,
      "outputs": []
    },
    {
      "metadata": {
        "id": "OtAXpK10m1z8",
        "colab_type": "text"
      },
      "cell_type": "markdown",
      "source": [
        "## Dataset\n",
        "The speech enhancement dataset used can be found in [Edinburgh DataShare](http://datashare.is.ed.ac.uk/handle/10283/1942).  In COLAB environment, you will lose the downloaded dataset in every reconnection. So I recommend to mount google drive in COLAB. for each connection, a time for each connection in COLAB.\n",
        "\n",
        "\n",
        "There are [GUIDE](https://colab.research.google.com/notebooks/io.ipynb) and example for External data: Drive, Sheets, and Cloud Storage in COLAB\n",
        "\n",
        " I assume you already upload below 4 files in google drive \n",
        "- clean_testset_wav.zip\t\n",
        "- noisy_testset_wav.zip\n",
        "- clean_trainset_wav.zip\t\n",
        "- noisy_trainset_wav.zip\n",
        "\n",
        "instead of using data_prepare.sh, handle data step by step including python script to downsample."
      ]
    },
    {
      "metadata": {
        "id": "HUiUwiOrKFFX",
        "colab_type": "code",
        "colab": {
          "base_uri": "https://localhost:8080/",
          "height": 122
        },
        "outputId": "c782382f-84ca-419e-e820-9a40fbe443d6"
      },
      "cell_type": "code",
      "source": [
        "from google.colab import drive\n",
        "drive.mount('/content/drive')"
      ],
      "execution_count": 25,
      "outputs": [
        {
          "output_type": "stream",
          "text": [
            "Go to this URL in a browser: https://accounts.google.com/o/oauth2/auth?client_id=947318989803-6bn6qk8qdgf4n4g3pfee6491hc0brc4i.apps.googleusercontent.com&redirect_uri=urn%3Aietf%3Awg%3Aoauth%3A2.0%3Aoob&scope=email%20https%3A%2F%2Fwww.googleapis.com%2Fauth%2Fdocs.test%20https%3A%2F%2Fwww.googleapis.com%2Fauth%2Fdrive%20https%3A%2F%2Fwww.googleapis.com%2Fauth%2Fdrive.photos.readonly%20https%3A%2F%2Fwww.googleapis.com%2Fauth%2Fpeopleapi.readonly&response_type=code\n",
            "\n",
            "Enter your authorization code:\n",
            "··········\n",
            "Mounted at /content/drive\n"
          ],
          "name": "stdout"
        }
      ]
    },
    {
      "metadata": {
        "id": "JIU5Y5nWpYes",
        "colab_type": "text"
      },
      "cell_type": "markdown",
      "source": [
        "I already upload each zip files in ''COLAB/segan' folder in google Drive. and target directory name is 'dataset-segan' in local directory in COLAB.\n",
        "It will take about 40 seconds to copy."
      ]
    },
    {
      "metadata": {
        "id": "72lwz2oLKdPR",
        "colab_type": "code",
        "colab": {
          "base_uri": "https://localhost:8080/",
          "height": 119
        },
        "outputId": "3e1c9685-263f-4c51-8c64-ca137f457798"
      },
      "cell_type": "code",
      "source": [
        "%%time\n",
        "!ls -h   \"drive/My Drive/COLAB/segan/\"\n",
        "!cp  -rf \"drive/My Drive/COLAB/segan\" ./dataset-segan/\n",
        "!ls -h ./dataset-segan\n"
      ],
      "execution_count": 26,
      "outputs": [
        {
          "output_type": "stream",
          "text": [
            "clean_testset_wav.zip\tnoisy_testset_wav.zip\tsegan.tfrecords\n",
            "clean_trainset_wav.zip\tnoisy_trainset_wav.zip\n",
            "^C\n",
            "noisy_trainset_wav.zip\tsegan.tfrecords\n",
            "CPU times: user 235 ms, sys: 49.5 ms, total: 285 ms\n",
            "Wall time: 43.6 s\n"
          ],
          "name": "stdout"
        }
      ]
    },
    {
      "metadata": {
        "id": "wH3q2NCTwnYp",
        "colab_type": "code",
        "colab": {
          "base_uri": "https://localhost:8080/",
          "height": 51
        },
        "outputId": "33cca7b1-29b5-49f8-e301-46e284d30893"
      },
      "cell_type": "code",
      "source": [
        "!ls -h ./dataset-segan\n",
        "!rm -rf data"
      ],
      "execution_count": 4,
      "outputs": [
        {
          "output_type": "stream",
          "text": [
            "clean_testset_wav.zip\tnoisy_testset_wav.zip\n",
            "clean_trainset_wav.zip\tnoisy_trainset_wav.zip\n"
          ],
          "name": "stdout"
        }
      ]
    },
    {
      "metadata": {
        "id": "-GZwC8HMqeoi",
        "colab_type": "text"
      },
      "cell_type": "markdown",
      "source": [
        "### uncompress dataset\n",
        "unzip the file in data folder and remove zip files to save storage.  It will take 1 minutes to finish. test dataset have their subfolder so unzip command are different. \n",
        "\n",
        "total size of uncompressed data are 2.5GB as below\n",
        "```\n",
        "192M\tdata/noisy_testset_wav\n",
        "1.1G\tdata/clean_trainset_wav\n",
        "192M\tdata/clean_testset_wav\n",
        "1.1G\tdata/noisy_trainset_wav\n",
        "2.5G\tdata\n",
        "```\n",
        "We  also check the raw files. \n",
        "```\n",
        "p226_001.wav\n",
        "p226_002.wav\n",
        "p232_001.wav\n",
        "p232_002.wav\n",
        "p226_001.wav\n",
        "p226_002.wav\n",
        "p232_001.wav\n",
        "p232_002.wav\n",
        "```\n"
      ]
    },
    {
      "metadata": {
        "id": "09Jz4IIUbxM7",
        "colab_type": "code",
        "colab": {
          "base_uri": "https://localhost:8080/",
          "height": 281
        },
        "outputId": "b28ff7a6-5be2-4a39-a1db-4cb4ed58b11b"
      },
      "cell_type": "code",
      "source": [
        "%%time\n",
        "!mkdir data\n",
        "!unzip -q ./dataset-segan/clean_trainset_wav.zip -d ./data/clean_trainset_wav\n",
        "!unzip -q ./dataset-segan/clean_testset_wav.zip  -d ./data\n",
        "!unzip -q ./dataset-segan/noisy_trainset_wav.zip -d ./data/noisy_trainset_wav\n",
        "!unzip -q ./dataset-segan/noisy_testset_wav.zip  -d ./data\n",
        "!du -h data\n",
        "!ls ./data/clean_trainset_wav | head -n 2\n",
        "!ls ./data/clean_testset_wav  | head -n 2\n",
        "!ls ./data/noisy_trainset_wav | head -n 2\n",
        "!ls ./data/noisy_testset_wav  | head -n 2"
      ],
      "execution_count": 5,
      "outputs": [
        {
          "output_type": "stream",
          "text": [
            "192M\tdata/noisy_testset_wav\n",
            "1.1G\tdata/clean_trainset_wav\n",
            "192M\tdata/clean_testset_wav\n",
            "1.1G\tdata/noisy_trainset_wav\n",
            "2.5G\tdata\n",
            "p226_001.wav\n",
            "p226_002.wav\n",
            "p232_001.wav\n",
            "p232_002.wav\n",
            "p226_001.wav\n",
            "p226_002.wav\n",
            "p232_001.wav\n",
            "p232_002.wav\n",
            "CPU times: user 411 ms, sys: 88.3 ms, total: 499 ms\n",
            "Wall time: 1min 1s\n"
          ],
          "name": "stdout"
        }
      ]
    },
    {
      "metadata": {
        "id": "O1EiaQd4xcaY",
        "colab_type": "text"
      },
      "cell_type": "markdown",
      "source": [
        ""
      ]
    },
    {
      "metadata": {
        "id": "fS-qtwu2w_tZ",
        "colab_type": "code",
        "colab": {}
      },
      "cell_type": "code",
      "source": [
        ""
      ],
      "execution_count": 0,
      "outputs": []
    },
    {
      "metadata": {
        "id": "KCjbxrMPsAZ2",
        "colab_type": "text"
      },
      "cell_type": "markdown",
      "source": [
        "### subsampling\n",
        "In segan implementation use 16Khz sampling rate but the sampling rate of dataset are 48Khz. So we need to downsampling for these dataset  with pysox. \n",
        "\n",
        "we will use python script instead of sox in bash script as below :\n",
        "```Shell\n",
        "    if [ ! -d clean_trainset_wav_16k ]; then\n",
        "        echo 'CONVERTING CLEAN WAVS TO 16K...'\n",
        "        mkdir -p clean_trainset_wav_16k\n",
        "        pushd clean_trainset_wav\n",
        "        ls *.wav | while read name; do\n",
        "            sox $name -r 16k ../clean_trainset_wav_16k/$name\n",
        "        done\n",
        "        popd\n",
        "    fi\n",
        "    ```"
      ]
    },
    {
      "metadata": {
        "id": "_FK0UQlzcBht",
        "colab_type": "text"
      },
      "cell_type": "markdown",
      "source": [
        "\n",
        "It takes about 6 minuets to finish subsampling"
      ]
    },
    {
      "metadata": {
        "id": "wsc1-O9e5GRM",
        "colab_type": "code",
        "colab": {
          "base_uri": "https://localhost:8080/",
          "height": 140
        },
        "outputId": "4f2e7bd6-915b-463f-f60a-2f82d3f0f357"
      },
      "cell_type": "code",
      "source": [
        "%%time\n",
        "import os\n",
        "import sox\n",
        "import tqdm\n",
        "\n",
        "tfm = sox.Transformer()\n",
        "tfm.set_input_format( rate=32000  )\n",
        "tfm.set_output_format( rate=16000 )\n",
        "    \n",
        "\n",
        "base_path='./data/'\n",
        "dir_list = os.listdir(base_path)\n",
        "print(dir_list)\n",
        "for item1 in dir_list:\n",
        "  work_path   = base_path+item1\n",
        "  output_path = base_path+item1+'_16k'\n",
        "  #print(work_path)\n",
        "  #print(output_path)\n",
        "  if not os.path.exists(output_path):\n",
        "    print('subsampling for '+output_path)\n",
        "    os.mkdir(output_path)\n",
        "  file_list_subsamples=os.listdir(work_path) # [:40] for debugging\n",
        "  for item2 in file_list_subsamples:\n",
        "    input_file=work_path+'/'+item2\n",
        "    output_file=output_path+'/'+item2\n",
        "    #print(input_file)\n",
        "    #print(output_file)\n",
        "    tfm.build(input_file, output_file)"
      ],
      "execution_count": 6,
      "outputs": [
        {
          "output_type": "stream",
          "text": [
            "['noisy_testset_wav', 'clean_trainset_wav', 'clean_testset_wav', 'noisy_trainset_wav']\n",
            "subsampling for ./data/noisy_testset_wav_16k\n",
            "subsampling for ./data/clean_trainset_wav_16k\n",
            "subsampling for ./data/clean_testset_wav_16k\n",
            "subsampling for ./data/noisy_trainset_wav_16k\n",
            "CPU times: user 13.8 s, sys: 45.1 s, total: 58.9 s\n",
            "Wall time: 4min 41s\n"
          ],
          "name": "stdout"
        }
      ]
    },
    {
      "metadata": {
        "id": "1RtNauY92dyp",
        "colab_type": "code",
        "colab": {}
      },
      "cell_type": "code",
      "source": [
        ""
      ],
      "execution_count": 0,
      "outputs": []
    },
    {
      "metadata": {
        "id": "PtylJf9osXrt",
        "colab_type": "text"
      },
      "cell_type": "markdown",
      "source": [
        "after subsampling, we could get  new folder name with  `_16k`. As you see,  dataset size become half of original size as below :  \n",
        "```\n",
        "1.1G\tdata/clean_trainset_wav\n",
        "1.1G\tdata/noisy_trainset_wav\n",
        "192M\tdata/clean_testset_wav\n",
        "192M\tdata/noisy_testset_wav\n",
        "3.7G\tdata\n",
        "540M\tdata/clean_trainset_wav_16k\n",
        "540M\tdata/noisy_trainset_wav_16k\n",
        "97M\tdata/clean_testset_wav_16k\n",
        "97M\tdata/noisy_testset_wav_16k\n",
        "```"
      ]
    },
    {
      "metadata": {
        "id": "jqiN6Or7fjj7",
        "colab_type": "code",
        "colab": {
          "base_uri": "https://localhost:8080/",
          "height": 246
        },
        "outputId": "2d726475-bae2-4dd0-8a87-0f89545a2a91"
      },
      "cell_type": "code",
      "source": [
        "!du -h data | sort\n",
        "!ls -alh $output_path| tail -n 4\n"
      ],
      "execution_count": 7,
      "outputs": [
        {
          "output_type": "stream",
          "text": [
            "1.1G\tdata/clean_trainset_wav\n",
            "1.1G\tdata/noisy_trainset_wav\n",
            "192M\tdata/clean_testset_wav\n",
            "192M\tdata/noisy_testset_wav\n",
            "3.7G\tdata\n",
            "540M\tdata/clean_trainset_wav_16k\n",
            "540M\tdata/noisy_trainset_wav_16k\n",
            "97M\tdata/clean_testset_wav_16k\n",
            "97M\tdata/noisy_testset_wav_16k\n",
            "-rw-r--r--  1 root root  38K Oct  3 06:48 p287_421.wav\n",
            "-rw-r--r--  1 root root  46K Oct  3 06:47 p287_422.wav\n",
            "-rw-r--r--  1 root root  64K Oct  3 06:47 p287_423.wav\n",
            "-rw-r--r--  1 root root  46K Oct  3 06:47 p287_424.wav\n"
          ],
          "name": "stdout"
        }
      ]
    },
    {
      "metadata": {
        "id": "DXNvVmVDd7Ew",
        "colab_type": "code",
        "colab": {
          "base_uri": "https://localhost:8080/",
          "height": 316
        },
        "outputId": "7315c038-81f0-4329-ea20-5cfb4cd4521e"
      },
      "cell_type": "code",
      "source": [
        "!nvidia-smi  "
      ],
      "execution_count": 8,
      "outputs": [
        {
          "output_type": "stream",
          "text": [
            "Wed Oct  3 06:54:26 2018       \n",
            "+-----------------------------------------------------------------------------+\n",
            "| NVIDIA-SMI 384.111                Driver Version: 384.111                   |\n",
            "|-------------------------------+----------------------+----------------------+\n",
            "| GPU  Name        Persistence-M| Bus-Id        Disp.A | Volatile Uncorr. ECC |\n",
            "| Fan  Temp  Perf  Pwr:Usage/Cap|         Memory-Usage | GPU-Util  Compute M. |\n",
            "|===============================+======================+======================|\n",
            "|   0  Tesla K80           Off  | 00000000:00:04.0 Off |                    0 |\n",
            "| N/A   31C    P8    28W / 149W |      0MiB / 11439MiB |      0%      Default |\n",
            "+-------------------------------+----------------------+----------------------+\n",
            "                                                                               \n",
            "+-----------------------------------------------------------------------------+\n",
            "| Processes:                                                       GPU Memory |\n",
            "|  GPU       PID   Type   Process name                             Usage      |\n",
            "|=============================================================================|\n",
            "|  No running processes found                                                 |\n",
            "+-----------------------------------------------------------------------------+\n"
          ],
          "name": "stdout"
        }
      ]
    },
    {
      "metadata": {
        "id": "djuZfSvRde0U",
        "colab_type": "code",
        "colab": {
          "base_uri": "https://localhost:8080/",
          "height": 52
        },
        "outputId": "b6cbad33-6e52-479a-90bc-f383a5b562fa"
      },
      "cell_type": "code",
      "source": [
        "'''\n",
        "this is critical option. \n",
        "TF memory control allow_growth is mandatory option for COLAB\n",
        "'''\n",
        "import tensorflow as tf\n",
        "config = tf.ConfigProto()\n",
        "config.gpu_options.allow_growth = True\n",
        "session = tf.Session(config=config )\n",
        "print(\"tensorflow version : \"+tf.__version__)\n",
        "!nvidia-smi  | grep MiB"
      ],
      "execution_count": 10,
      "outputs": [
        {
          "output_type": "stream",
          "text": [
            "tensorflow version : 1.11.0\n",
            "| N/A   36C    P0    68W / 149W |    115MiB / 11439MiB |      0%      Default |\n"
          ],
          "name": "stdout"
        }
      ]
    },
    {
      "metadata": {
        "id": "5KXMjK-std5B",
        "colab_type": "text"
      },
      "cell_type": "markdown",
      "source": [
        "## clone the SEGAN model and utilities\n",
        "The origianl SEGAN implementation based python 2.7 so I've  modify few word for compatability with COLAB which use python version 3.6.3 \n",
        "you could check [diff](https://github.com/yhgon/segan/commit/20fd90c04d64fa45d856963ee487e186a66db013)\n",
        "```diff\n",
        "92 -        for dset_i, (dset, dset_desc) in enumerate(cfg_desc.iteritems()):\n",
        "92 +       for dset_i, (dset, dset_desc) in enumerate(cfg_desc.items()):\n",
        "```\n"
      ]
    },
    {
      "metadata": {
        "id": "yXLD_gN9fOOF",
        "colab_type": "code",
        "colab": {
          "base_uri": "https://localhost:8080/",
          "height": 175
        },
        "outputId": "89f338e2-2c47-4b0e-a6ae-7256ccbab867"
      },
      "cell_type": "code",
      "source": [
        "%%time\n",
        "# clone yhgon's fork for segan with compatability of python 3.6.3 in colab\n",
        "!git clone https://github.com/yhgon/segan.git"
      ],
      "execution_count": 29,
      "outputs": [
        {
          "output_type": "stream",
          "text": [
            "Cloning into 'segan'...\n",
            "remote: Enumerating objects: 2, done.\u001b[K\n",
            "remote: Counting objects: 100% (2/2), done.\u001b[K\n",
            "remote: Compressing objects: 100% (2/2), done.\u001b[K\n",
            "remote: Total 299 (delta 0), reused 0 (delta 0), pack-reused 297\u001b[K\n",
            "Receiving objects: 100% (299/299), 787.93 KiB | 19.22 MiB/s, done.\n",
            "Resolving deltas: 100% (161/161), done.\n",
            "CPU times: user 21.6 ms, sys: 11.5 ms, total: 33.2 ms\n",
            "Wall time: 2.06 s\n"
          ],
          "name": "stdout"
        }
      ]
    },
    {
      "metadata": {
        "id": "og3hDQsouuAP",
        "colab_type": "text"
      },
      "cell_type": "markdown",
      "source": [
        "## make TFrecords \n",
        "in this step, we make TFrecords files from raw wave, the default configuration is on `cfg/e2e_maker.cfg` for clean/noisy dataset location. The number of total files  are 11,572 and it takes about 25 sec to finish. "
      ]
    },
    {
      "metadata": {
        "id": "PcccwFoijpG-",
        "colab_type": "code",
        "colab": {
          "base_uri": "https://localhost:8080/",
          "height": 123
        },
        "outputId": "a3ea2f9c-d90f-4bff-d50b-a68e8a993afd"
      },
      "cell_type": "code",
      "source": [
        "%%time\n",
        "#prepare tfrecords\n",
        "!python ./segan/make_tfrecords.py --force-gen  --save_path './data' --cfg './segan/cfg/e2e_maker.cfg'"
      ],
      "execution_count": 14,
      "outputs": [
        {
          "output_type": "stream",
          "text": [
            "--------------------------------------------------\n",
            "Processing wav file 11572/11572 data/clean_trainset_wav_16k/p243_386.wav          \n",
            "**************************************************\n",
            "Total processing and writing time: 23.500228961999937 s\n",
            "CPU times: user 478 ms, sys: 132 ms, total: 610 ms\n",
            "Wall time: 28.2 s\n"
          ],
          "name": "stdout"
        }
      ]
    },
    {
      "metadata": {
        "id": "wvy0N0mswrB5",
        "colab_type": "code",
        "colab": {
          "base_uri": "https://localhost:8080/",
          "height": 35
        },
        "outputId": "7514046d-f3aa-4009-c999-67eb05d053fa"
      },
      "cell_type": "code",
      "source": [
        "!ls -lah ./data/segan.tfrecords"
      ],
      "execution_count": 15,
      "outputs": [
        {
          "output_type": "stream",
          "text": [
            "-rw-r--r-- 1 root root 2.0G Oct  3 07:07 ./data/segan.tfrecords\n"
          ],
          "name": "stdout"
        }
      ]
    },
    {
      "metadata": {
        "id": "PcVimkHWwahO",
        "colab_type": "text"
      },
      "cell_type": "markdown",
      "source": [
        "I strongly recommend to backup TFrecords files. you could re-use 2GB TFrecords files the location lis below:   ./data/segan.tfrecords\n",
        "\n",
        "\n"
      ]
    },
    {
      "metadata": {
        "id": "ok6lE1JZha-_",
        "colab_type": "code",
        "colab": {
          "base_uri": "https://localhost:8080/",
          "height": 87
        },
        "outputId": "6c6a1dc5-2b21-47f9-fe55-540de51bda89"
      },
      "cell_type": "code",
      "source": [
        "%%time\n",
        "\n",
        "!cp  -rf ./data/segan.tfrecords \"drive/My Drive/COLAB/segan/.\"\n",
        "!ls -alh   \"drive/My Drive/COLAB/segan/\""
      ],
      "execution_count": 16,
      "outputs": [
        {
          "output_type": "stream",
          "text": [
            "clean_testset_wav.zip\tnoisy_testset_wav.zip\tsegan.tfrecords\n",
            "clean_trainset_wav.zip\tnoisy_trainset_wav.zip\n",
            "CPU times: user 105 ms, sys: 39 ms, total: 144 ms\n",
            "Wall time: 18 s\n"
          ],
          "name": "stdout"
        }
      ]
    },
    {
      "metadata": {
        "id": "KdxO15eL2tAg",
        "colab_type": "code",
        "colab": {
          "base_uri": "https://localhost:8080/",
          "height": 158
        },
        "outputId": "100b9e58-0f20-4989-a266-8c36a40a7537"
      },
      "cell_type": "code",
      "source": [
        "#!wget https://developer.download.nvidia.com/compute/machine-learning/repos/ubuntu1404/x86_64/libcudnn5_5.1.10-1+cuda8.0_amd64.deb\n",
        "!wget https://developer.download.nvidia.com/compute/machine-learning/repos/ubuntu1404/x86_64/libcudnn5-dev_5.1.10-1+cuda8.0_amd64.deb\n",
        "!pip install tensorflow_gpu==0.12.1"
      ],
      "execution_count": 31,
      "outputs": [
        {
          "output_type": "stream",
          "text": [
            "\n",
            "Redirecting output to ‘wget-log.1’.\n",
            "Requirement already satisfied: tensorflow_gpu==0.12.1 in /usr/local/lib/python3.6/dist-packages (0.12.1)\n",
            "Requirement already satisfied: protobuf>=3.1.0 in /usr/local/lib/python3.6/dist-packages (from tensorflow_gpu==0.12.1) (3.6.1)\n",
            "Requirement already satisfied: six>=1.10.0 in /usr/local/lib/python3.6/dist-packages (from tensorflow_gpu==0.12.1) (1.11.0)\n",
            "Requirement already satisfied: wheel>=0.26 in /usr/local/lib/python3.6/dist-packages (from tensorflow_gpu==0.12.1) (0.31.1)\n",
            "Requirement already satisfied: numpy>=1.11.0 in /usr/local/lib/python3.6/dist-packages (from tensorflow_gpu==0.12.1) (1.14.6)\n",
            "Requirement already satisfied: setuptools in /usr/local/lib/python3.6/dist-packages (from protobuf>=3.1.0->tensorflow_gpu==0.12.1) (39.1.0)\n"
          ],
          "name": "stdout"
        }
      ]
    },
    {
      "metadata": {
        "id": "z-cnA_Kj4rvu",
        "colab_type": "code",
        "colab": {
          "base_uri": "https://localhost:8080/",
          "height": 299
        },
        "outputId": "d64c3e82-3f46-473a-8e45-bf5e8a3e7065"
      },
      "cell_type": "code",
      "source": [
        "!ls -lah"
      ],
      "execution_count": 32,
      "outputs": [
        {
          "output_type": "stream",
          "text": [
            "total 72M\n",
            "drwxr-xr-x  1 root root 4.0K Oct  3 07:48 .\n",
            "drwxr-xr-x  1 root root 4.0K Oct  3 06:35 ..\n",
            "drwxr-xr-x  4 root root 4.0K Sep 28 23:11 .config\n",
            "drwxr-xr-x 10 root root 4.0K Oct  3 07:06 data\n",
            "drwx------  2 root root 4.0K Oct  3 06:40 dataset-segan\n",
            "drwx------  2 root root 4.0K Oct  3 06:39 drive\n",
            "drwxr-xr-x  2 root root 4.0K Oct  3 07:25 dwavegan_samples\n",
            "-rw-r--r--  1 root root  40M Sep 26 23:24 libcudnn5_5.1.10-1+cuda8.0_amd64.deb\n",
            "-rw-r--r--  1 root root  33M Sep 26 23:24 libcudnn5-dev_5.1.10-1+cuda8.0_amd64.deb\n",
            "drwxr-xr-x  2 root root 4.0K Sep 28 23:32 sample_data\n",
            "drwxr-xr-x  6 root root 4.0K Oct  3 07:25 segan\n",
            "drwxr-xr-x  3 root root 4.0K Oct  3 07:37 segan_naive\n",
            "drwxr-xr-x  2 root root 4.0K Oct  3 07:25 segan_result_allbiased_preemph\n",
            "-rw-r--r--  1 root root 1.8K Oct  3 07:44 wget-log\n",
            "-rw-r--r--  1 root root 1.5K Oct  3 07:48 wget-log.1\n"
          ],
          "name": "stdout"
        }
      ]
    },
    {
      "metadata": {
        "id": "TAQZtGjF5kFY",
        "colab_type": "code",
        "colab": {
          "base_uri": "https://localhost:8080/",
          "height": 35
        },
        "outputId": "122a91a8-a1e6-4d4e-e0e9-8bf2da7a6173"
      },
      "cell_type": "code",
      "source": [
        "!nvcc --version"
      ],
      "execution_count": 33,
      "outputs": [
        {
          "output_type": "stream",
          "text": [
            "/bin/bash: nvcc: command not found\n"
          ],
          "name": "stdout"
        }
      ]
    },
    {
      "metadata": {
        "id": "RpMpf6Vw41E4",
        "colab_type": "code",
        "colab": {
          "base_uri": "https://localhost:8080/",
          "height": 123
        },
        "outputId": "6322ca19-580e-4018-c87c-765f35ee75f9"
      },
      "cell_type": "code",
      "source": [
        "#! dpkg -i libcudnn5_5.1.10-1+cuda8.0_amd64.deb\n",
        "!dpkg -i libcudnn5-dev_5.1.10-1+cuda8.0_amd64.deb"
      ],
      "execution_count": 35,
      "outputs": [
        {
          "output_type": "stream",
          "text": [
            "Selecting previously unselected package libcudnn5-dev.\n",
            "(Reading database ... \r(Reading database ... 5%\r(Reading database ... 10%\r(Reading database ... 15%\r(Reading database ... 20%\r(Reading database ... 25%\r(Reading database ... 30%\r(Reading database ... 35%\r(Reading database ... 40%\r(Reading database ... 45%\r(Reading database ... 50%\r(Reading database ... 55%\r(Reading database ... 60%\r(Reading database ... 65%\r(Reading database ... 70%\r(Reading database ... 75%\r(Reading database ... 80%\r(Reading database ... 85%\r(Reading database ... 90%\r(Reading database ... 95%\r(Reading database ... 100%\r(Reading database ... 18918 files and directories currently installed.)\n",
            "Preparing to unpack libcudnn5-dev_5.1.10-1+cuda8.0_amd64.deb ...\n",
            "Unpacking libcudnn5-dev (5.1.10-1+cuda8.0) ...\n",
            "Setting up libcudnn5-dev (5.1.10-1+cuda8.0) ...\n",
            "update-alternatives: using /usr/include/x86_64-linux-gnu/cudnn_v5.h to provide /usr/include/cudnn.h (libcudnn) in auto mode\n"
          ],
          "name": "stdout"
        }
      ]
    },
    {
      "metadata": {
        "id": "clPedrpT6T47",
        "colab_type": "code",
        "colab": {
          "base_uri": "https://localhost:8080/",
          "height": 422
        },
        "outputId": "54f6035e-740e-45ac-b1d0-dd340024d5b2"
      },
      "cell_type": "code",
      "source": [
        "!ls /usr/lib64-nvidia"
      ],
      "execution_count": 39,
      "outputs": [
        {
          "output_type": "stream",
          "text": [
            "10_nvidia.json\t\t\tlibGLESv2.so\n",
            "libcuda.so\t\t\tlibGLESv2.so.2\n",
            "libcuda.so.1\t\t\tlibnvidia-cfg.so\n",
            "libcuda.so.384.111\t\tlibnvidia-cfg.so.1\n",
            "libcudnn.so\t\t\tlibnvidia-cfg.so.384.111\n",
            "libcudnn.so.6\t\t\tlibnvidia-compiler.so\n",
            "libcudnn.so.6.0.21\t\tlibnvidia-compiler.so.384.111\n",
            "libEGL_nvidia.so\t\tlibnvidia-eglcore.so\n",
            "libEGL_nvidia.so.0\t\tlibnvidia-eglcore.so.384.111\n",
            "libEGL_nvidia.so.384.111\tlibnvidia-fatbinaryloader.so\n",
            "libEGL.so\t\t\tlibnvidia-fatbinaryloader.so.384.111\n",
            "libEGL.so.1\t\t\tlibnvidia-glsi.so\n",
            "libEGL.so.384.111\t\tlibnvidia-glsi.so.384.111\n",
            "libGLdispatch.so\t\tlibnvidia-ml.so\n",
            "libGLdispatch.so.0\t\tlibnvidia-ml.so.1\n",
            "libGLESv1_CM_nvidia.so\t\tlibnvidia-ml.so.384.111\n",
            "libGLESv1_CM_nvidia.so.1\tlibnvidia-ptxjitcompiler.so\n",
            "libGLESv1_CM_nvidia.so.384.111\tlibnvidia-ptxjitcompiler.so.1\n",
            "libGLESv1_CM.so\t\t\tlibnvidia-ptxjitcompiler.so.384.111\n",
            "libGLESv1_CM.so.1\t\tlibnvidia-tls.so\n",
            "libGLESv2_nvidia.so\t\tlibnvidia-tls.so.384.111\n",
            "libGLESv2_nvidia.so.2\t\tlibOpenGL.so\n",
            "libGLESv2_nvidia.so.384.111\tlibOpenGL.so.0\n"
          ],
          "name": "stdout"
        }
      ]
    },
    {
      "metadata": {
        "id": "R000AFLg6cYX",
        "colab_type": "code",
        "colab": {}
      },
      "cell_type": "code",
      "source": [
        "!rm -r /usr/lib64-nvidia/libcudnn.so.6*"
      ],
      "execution_count": 0,
      "outputs": []
    },
    {
      "metadata": {
        "id": "JgtB13bUZqnr",
        "colab_type": "code",
        "colab": {
          "base_uri": "https://localhost:8080/",
          "height": 299
        },
        "outputId": "2d090e64-2dad-4f9b-f9e8-59fc116c51fc"
      },
      "cell_type": "code",
      "source": [
        "!cat /etc/*release"
      ],
      "execution_count": 3,
      "outputs": [
        {
          "output_type": "stream",
          "text": [
            "DISTRIB_ID=Ubuntu\n",
            "DISTRIB_RELEASE=17.10\n",
            "DISTRIB_CODENAME=artful\n",
            "DISTRIB_DESCRIPTION=\"Ubuntu 17.10\"\n",
            "NAME=\"Ubuntu\"\n",
            "VERSION=\"17.10 (Artful Aardvark)\"\n",
            "ID=ubuntu\n",
            "ID_LIKE=debian\n",
            "PRETTY_NAME=\"Ubuntu 17.10\"\n",
            "VERSION_ID=\"17.10\"\n",
            "HOME_URL=\"https://www.ubuntu.com/\"\n",
            "SUPPORT_URL=\"https://help.ubuntu.com/\"\n",
            "BUG_REPORT_URL=\"https://bugs.launchpad.net/ubuntu/\"\n",
            "PRIVACY_POLICY_URL=\"https://www.ubuntu.com/legal/terms-and-policies/privacy-policy\"\n",
            "VERSION_CODENAME=artful\n",
            "UBUNTU_CODENAME=artful\n"
          ],
          "name": "stdout"
        }
      ]
    },
    {
      "metadata": {
        "id": "bYsq6etIgGmM",
        "colab_type": "code",
        "colab": {
          "base_uri": "https://localhost:8080/",
          "height": 52
        },
        "outputId": "7fb9f5b0-ad58-4aa4-f37e-386d86c450fc"
      },
      "cell_type": "code",
      "source": [
        "!wget https://developer.download.nvidia.com/compute/cuda/repos/ubuntu1604/x86_64/cuda-repo-ubuntu1604_8.0.61-1_amd64.deb\n",
        "!dpkg -i cuda-repo-ubuntu1604_8.0.61-1_amd64.deb"
      ],
      "execution_count": 7,
      "outputs": [
        {
          "output_type": "stream",
          "text": [
            "\n",
            "Redirecting output to ‘wget-log’.\n"
          ],
          "name": "stdout"
        }
      ]
    },
    {
      "metadata": {
        "id": "SVPMVYfigLTg",
        "colab_type": "code",
        "colab": {
          "base_uri": "https://localhost:8080/",
          "height": 158
        },
        "outputId": "231a2ebd-8bbc-447b-e8d0-301d8712ddf9"
      },
      "cell_type": "code",
      "source": [
        "!ls -alh"
      ],
      "execution_count": 8,
      "outputs": [
        {
          "output_type": "stream",
          "text": [
            "total 32K\n",
            "drwxr-xr-x 1 root root 4.0K Oct  3 10:36 .\n",
            "drwxr-xr-x 1 root root 4.0K Oct  3 10:02 ..\n",
            "drwxr-xr-x 4 root root 4.0K Sep 28 23:11 .config\n",
            "-rw-r--r-- 1 root root 2.7K Sep 22  2017 cuda-repo-ubuntu1604_8.0.61-1_amd64.deb\n",
            "-rw-r--r-- 1 root root 1.5K Oct  3 10:16 cudasign.pub\n",
            "drwxr-xr-x 2 root root 4.0K Sep 28 23:32 sample_data\n",
            "-rw-r--r-- 1 root root  781 Oct  3 10:36 wget-log\n"
          ],
          "name": "stdout"
        }
      ]
    },
    {
      "metadata": {
        "id": "vMJ1EAOPgQ2_",
        "colab_type": "code",
        "colab": {
          "base_uri": "https://localhost:8080/",
          "height": 457
        },
        "outputId": "b6460d83-9946-4325-90d7-ae8debbbf51b"
      },
      "cell_type": "code",
      "source": [
        ""
      ],
      "execution_count": 9,
      "outputs": [
        {
          "output_type": "stream",
          "text": [
            "Selecting previously unselected package cuda-repo-ubuntu1604.\n",
            "(Reading database ... \r(Reading database ... 5%\r(Reading database ... 10%\r(Reading database ... 15%\r(Reading database ... 20%\r(Reading database ... 25%\r(Reading database ... 30%\r(Reading database ... 35%\r(Reading database ... 40%\r(Reading database ... 45%\r(Reading database ... 50%\r(Reading database ... 55%\r(Reading database ... 60%\r(Reading database ... 65%\r(Reading database ... 70%\r(Reading database ... 75%\r(Reading database ... 80%\r(Reading database ... 85%\r(Reading database ... 90%\r(Reading database ... 95%\r(Reading database ... 100%\r(Reading database ... 18496 files and directories currently installed.)\n",
            "Preparing to unpack cuda-repo-ubuntu1604_8.0.61-1_amd64.deb ...\n",
            "Unpacking cuda-repo-ubuntu1604 (8.0.61-1) ...\n",
            "Setting up cuda-repo-ubuntu1604 (8.0.61-1) ...\n",
            "\n",
            "Configuration file '/etc/apt/sources.list.d/cuda.list'\n",
            " ==> File on system created by you or by a script.\n",
            " ==> File also in package provided by package maintainer.\n",
            "   What would you like to do about it ?  Your options are:\n",
            "    Y or I  : install the package maintainer's version\n",
            "    N or O  : keep your currently-installed version\n",
            "      D     : show the differences between the versions\n",
            "      Z     : start a shell to examine the situation\n",
            " The default action is to keep your current version.\n",
            "*** cuda.list (Y/I/N/O/D/Z) [default=N] ? Y\n",
            "Installing new version of config file /etc/apt/sources.list.d/cuda.list ...\n",
            "\n",
            "Redirecting output to ‘wget-log’.\n",
            "Warning: The postinst maintainerscript of the package cuda-repo-ubuntu1604\n",
            "Warning: seems to use apt-key (provided by apt) without depending on gnupg or gnupg2.\n",
            "Warning: This will BREAK in the future and should be fixed by the package maintainer(s).\n",
            "Note: Check first if apt-key functionality is needed at all - it probably isn't!\n",
            "Warning: apt-key should not be used in scripts (called from postinst maintainerscript of the package cuda-repo-ubuntu1604)\n",
            "OK\n"
          ],
          "name": "stdout"
        }
      ]
    },
    {
      "metadata": {
        "id": "OIgmxXIHiSTc",
        "colab_type": "code",
        "colab": {
          "base_uri": "https://localhost:8080/",
          "height": 140
        },
        "outputId": "56654a52-e4c7-48cf-963a-f2e20ff5c0d0"
      },
      "cell_type": "code",
      "source": [
        "!apt-get update "
      ],
      "execution_count": 17,
      "outputs": [
        {
          "output_type": "stream",
          "text": [
            "\r0% [Working]\r            \rIgn:1 http://developer.download.nvidia.com/compute/cuda/repos/ubuntu1604/x86_64  InRelease\n",
            "\r0% [Connecting to archive.ubuntu.com (91.189.91.23)] [Connecting to security.ub\r                                                                               \rHit:2 http://developer.download.nvidia.com/compute/cuda/repos/ubuntu1604/x86_64  Release\n",
            "\r0% [Connecting to archive.ubuntu.com (91.189.91.23)] [Connecting to security.ub\r0% [Release.gpg gpgv 564 B] [Connecting to archive.ubuntu.com (91.189.91.23)] [\r                                                                               \rHit:3 http://security.ubuntu.com/ubuntu artful-security InRelease\n",
            "\r                                                                               \r0% [Release.gpg gpgv 564 B] [Waiting for headers]\r                                                 \rHit:4 http://archive.ubuntu.com/ubuntu artful InRelease\n",
            "\r0% [Release.gpg gpgv 564 B] [Waiting for headers]\r                                                 \r0% [Waiting for headers]\r0% [3 InRelease gpgv 83.2 kB] [Waiting for headers]\r                                                   \rHit:6 http://archive.ubuntu.com/ubuntu artful-updates InRelease\n",
            "Hit:7 http://archive.ubuntu.com/ubuntu artful-backports InRelease\n",
            "Reading package lists... Done\n"
          ],
          "name": "stdout"
        }
      ]
    },
    {
      "metadata": {
        "id": "-DK610s5gd1V",
        "colab_type": "code",
        "colab": {
          "base_uri": "https://localhost:8080/",
          "height": 299
        },
        "outputId": "42f8a97b-32e0-4331-b98f-d8207f1c791c"
      },
      "cell_type": "code",
      "source": [
        "!  apt-get install  -y --no-install-recommends cuda-core-8-0  \\\n",
        "  cuda-cublas-dev-8-0  cuda-cudart-dev-8-0   \\\n",
        "  cuda-cufft-dev-8-0   cuda-curand-dev-8-0  \\\n",
        "  cuda-cusolver-dev-8-0   cuda-cusparse-dev-8-0 \\\n",
        "  cuda-misc-headers-8-0   cuda-npp-dev-8-0 \\\n",
        "  cuda-nvgraph-dev-8-0 cuda-nvml-dev-8-0   \\\n",
        "  cuda-nvrtc-dev-8-0 \n"
      ],
      "execution_count": 31,
      "outputs": [
        {
          "output_type": "stream",
          "text": [
            "Reading package lists... Done\n",
            "Building dependency tree       \n",
            "Reading state information... Done\n",
            "cuda-core-8-0 is already the newest version (8.0.61-1).\n",
            "cuda-cublas-dev-8-0 is already the newest version (8.0.61.2-1).\n",
            "cuda-cudart-dev-8-0 is already the newest version (8.0.61-1).\n",
            "cuda-cufft-dev-8-0 is already the newest version (8.0.61-1).\n",
            "cuda-curand-dev-8-0 is already the newest version (8.0.61-1).\n",
            "cuda-cusolver-dev-8-0 is already the newest version (8.0.61-1).\n",
            "cuda-cusparse-dev-8-0 is already the newest version (8.0.61-1).\n",
            "cuda-misc-headers-8-0 is already the newest version (8.0.61-1).\n",
            "cuda-npp-dev-8-0 is already the newest version (8.0.61-1).\n",
            "cuda-nvgraph-dev-8-0 is already the newest version (8.0.61-1).\n",
            "cuda-nvml-dev-8-0 is already the newest version (8.0.61-1).\n",
            "cuda-nvrtc-dev-8-0 is already the newest version (8.0.61-1).\n",
            "0 upgraded, 0 newly installed, 0 to remove and 1 not upgraded.\n"
          ],
          "name": "stdout"
        }
      ]
    },
    {
      "metadata": {
        "id": "EddifhEv8VIB",
        "colab_type": "code",
        "colab": {
          "base_uri": "https://localhost:8080/",
          "height": 281
        },
        "outputId": "84ce663f-ccfd-4375-af57-af48283bc2bb"
      },
      "cell_type": "code",
      "source": [
        "!wget https://developer.download.nvidia.com/compute/machine-learning/repos/ubuntu1404/x86_64/libcudnn5_5.1.10-1+cuda8.0_amd64.deb\n",
        "!wget https://developer.download.nvidia.com/compute/machine-learning/repos/ubuntu1404/x86_64/libcudnn5-dev_5.1.10-1+cuda8.0_amd64.deb\n",
        "!dpkg -i libcudnn5_5.1.10-1+cuda8.0_amd64.deb\n",
        "!dpkg -i libcudnn5-dev_5.1.10-1+cuda8.0_amd64.deb\n"
      ],
      "execution_count": 33,
      "outputs": [
        {
          "output_type": "stream",
          "text": [
            "\n",
            "Redirecting output to ‘wget-log.4’.\n",
            "\n",
            "Redirecting output to ‘wget-log.5’.\n",
            "(Reading database ... 19909 files and directories currently installed.)\n",
            "Preparing to unpack libcudnn5_5.1.10-1+cuda8.0_amd64.deb ...\n",
            "Unpacking libcudnn5 (5.1.10-1+cuda8.0) over (5.1.10-1+cuda8.0) ...\n",
            "Setting up libcudnn5 (5.1.10-1+cuda8.0) ...\n",
            "Processing triggers for libc-bin (2.26-0ubuntu2.1) ...\n",
            "(Reading database ... 19909 files and directories currently installed.)\n",
            "Preparing to unpack libcudnn5-dev_5.1.10-1+cuda8.0_amd64.deb ...\n",
            "update-alternatives: removing manually selected alternative - switching libcudnn to auto mode\n",
            "Unpacking libcudnn5-dev (5.1.10-1+cuda8.0) over (5.1.10-1+cuda8.0) ...\n",
            "Setting up libcudnn5-dev (5.1.10-1+cuda8.0) ...\n",
            "update-alternatives: using /usr/include/x86_64-linux-gnu/cudnn_v5.h to provide /usr/include/cudnn.h (libcudnn) in auto mode\n"
          ],
          "name": "stdout"
        }
      ]
    },
    {
      "metadata": {
        "id": "2iIb9oSilWvC",
        "colab_type": "code",
        "colab": {
          "base_uri": "https://localhost:8080/",
          "height": 422
        },
        "outputId": "1da5d4d4-f85b-4119-dc24-cfeed8ceca1d"
      },
      "cell_type": "code",
      "source": [
        "!ls /usr/lib64-nvidia"
      ],
      "execution_count": 32,
      "outputs": [
        {
          "output_type": "stream",
          "text": [
            "10_nvidia.json\t\t\tlibGLESv2.so\n",
            "libcuda.so\t\t\tlibGLESv2.so.2\n",
            "libcuda.so.1\t\t\tlibnvidia-cfg.so\n",
            "libcuda.so.384.111\t\tlibnvidia-cfg.so.1\n",
            "libcudnn.so\t\t\tlibnvidia-cfg.so.384.111\n",
            "libcudnn.so.6\t\t\tlibnvidia-compiler.so\n",
            "libcudnn.so.6.0.21\t\tlibnvidia-compiler.so.384.111\n",
            "libEGL_nvidia.so\t\tlibnvidia-eglcore.so\n",
            "libEGL_nvidia.so.0\t\tlibnvidia-eglcore.so.384.111\n",
            "libEGL_nvidia.so.384.111\tlibnvidia-fatbinaryloader.so\n",
            "libEGL.so\t\t\tlibnvidia-fatbinaryloader.so.384.111\n",
            "libEGL.so.1\t\t\tlibnvidia-glsi.so\n",
            "libEGL.so.384.111\t\tlibnvidia-glsi.so.384.111\n",
            "libGLdispatch.so\t\tlibnvidia-ml.so\n",
            "libGLdispatch.so.0\t\tlibnvidia-ml.so.1\n",
            "libGLESv1_CM_nvidia.so\t\tlibnvidia-ml.so.384.111\n",
            "libGLESv1_CM_nvidia.so.1\tlibnvidia-ptxjitcompiler.so\n",
            "libGLESv1_CM_nvidia.so.384.111\tlibnvidia-ptxjitcompiler.so.1\n",
            "libGLESv1_CM.so\t\t\tlibnvidia-ptxjitcompiler.so.384.111\n",
            "libGLESv1_CM.so.1\t\tlibnvidia-tls.so\n",
            "libGLESv2_nvidia.so\t\tlibnvidia-tls.so.384.111\n",
            "libGLESv2_nvidia.so.2\t\tlibOpenGL.so\n",
            "libGLESv2_nvidia.so.384.111\tlibOpenGL.so.0\n"
          ],
          "name": "stdout"
        }
      ]
    },
    {
      "metadata": {
        "id": "WFyTs1DcoCNH",
        "colab_type": "code",
        "colab": {}
      },
      "cell_type": "code",
      "source": [
        "!rm -rf /usr/lib64-nvidia/libcu*"
      ],
      "execution_count": 0,
      "outputs": []
    },
    {
      "metadata": {
        "id": "ch-4S8t3lNxo",
        "colab_type": "code",
        "colab": {
          "base_uri": "https://localhost:8080/",
          "height": 213
        },
        "outputId": "55cf45ec-555a-4b53-c9f4-50cb30d9987f"
      },
      "cell_type": "code",
      "source": [
        "!pip install tensorflow_gpu==0.12.1"
      ],
      "execution_count": 27,
      "outputs": [
        {
          "output_type": "stream",
          "text": [
            "Collecting tensorflow_gpu==0.12.1\n",
            "\u001b[?25l  Downloading https://files.pythonhosted.org/packages/6a/5b/09bb0bd72f4c5f5f6823d86372cc0232941a311c21fec766ce016e5bd2ba/tensorflow_gpu-0.12.1-cp36-cp36m-manylinux1_x86_64.whl (89.7MB)\n",
            "\u001b[K    100% |████████████████████████████████| 89.7MB 231kB/s \n",
            "\u001b[?25hRequirement already satisfied: six>=1.10.0 in /usr/local/lib/python3.6/dist-packages (from tensorflow_gpu==0.12.1) (1.11.0)\n",
            "Requirement already satisfied: protobuf>=3.1.0 in /usr/local/lib/python3.6/dist-packages (from tensorflow_gpu==0.12.1) (3.6.1)\n",
            "Requirement already satisfied: numpy>=1.11.0 in /usr/local/lib/python3.6/dist-packages (from tensorflow_gpu==0.12.1) (1.14.6)\n",
            "Requirement already satisfied: wheel>=0.26 in /usr/local/lib/python3.6/dist-packages (from tensorflow_gpu==0.12.1) (0.31.1)\n",
            "Requirement already satisfied: setuptools in /usr/local/lib/python3.6/dist-packages (from protobuf>=3.1.0->tensorflow_gpu==0.12.1) (39.1.0)\n",
            "Installing collected packages: tensorflow-gpu\n",
            "Successfully installed tensorflow-gpu-0.12.1\n"
          ],
          "name": "stdout"
        }
      ]
    },
    {
      "metadata": {
        "id": "AMVHhXlSm1Lj",
        "colab_type": "code",
        "colab": {
          "base_uri": "https://localhost:8080/",
          "height": 87
        },
        "outputId": "302b5c28-8137-45c5-ffdf-1f59950c73e2"
      },
      "cell_type": "code",
      "source": [
        "%%time\n",
        "!ls -h   \"drive/My Drive/COLAB/segan/\"\n",
        "!cp  -rf \"drive/My Drive/COLAB/segan/segan.tfrecords\" .\n",
        "!mkdir data\n",
        "!cp -rf segan.tfrecords data/."
      ],
      "execution_count": 28,
      "outputs": [
        {
          "output_type": "stream",
          "text": [
            "clean_testset_wav.zip\tnoisy_testset_wav.zip\tsegan.tfrecords\n",
            "clean_trainset_wav.zip\tnoisy_trainset_wav.zip\n",
            "CPU times: user 187 ms, sys: 46.3 ms, total: 234 ms\n",
            "Wall time: 34.5 s\n"
          ],
          "name": "stdout"
        }
      ]
    },
    {
      "metadata": {
        "id": "Pq3eVhP6x-oT",
        "colab_type": "text"
      },
      "cell_type": "markdown",
      "source": [
        "## train the model"
      ]
    },
    {
      "metadata": {
        "id": "ARrBt4AZ0T4t",
        "colab_type": "text"
      },
      "cell_type": "markdown",
      "source": [
        "11GB for batch 32\n"
      ]
    },
    {
      "metadata": {
        "id": "2-a2tsVCx9Jn",
        "colab_type": "code",
        "colab": {
          "base_uri": "https://localhost:8080/",
          "height": 3575
        },
        "outputId": "e4a9404a-238a-4557-b8e5-d760797f3afe"
      },
      "cell_type": "code",
      "source": [
        "%%time\n",
        "!CUDA_VISIBLE_DEVICES=\"0\" \\\n",
        "    python ./segan/main.py \\\n",
        "    --epoch 80 \\\n",
        "    --batch_size 32 \\\n",
        "    --save_freq 50 \\\n",
        "    --init_noise_std 0.\\\n",
        "    --init_l1_weight 100. \\\n",
        "    --save_path segan_naive \\\n",
        "    --g_nl prelu \\\n",
        "    --model gan \n"
      ],
      "execution_count": 35,
      "outputs": [
        {
          "output_type": "stream",
          "text": [
            "I tensorflow/stream_executor/dso_loader.cc:128] successfully opened CUDA library libcublas.so locally\n",
            "I tensorflow/stream_executor/dso_loader.cc:128] successfully opened CUDA library libcudnn.so locally\n",
            "I tensorflow/stream_executor/dso_loader.cc:128] successfully opened CUDA library libcufft.so locally\n",
            "I tensorflow/stream_executor/dso_loader.cc:119] Couldn't open CUDA library libcuda.so.1. LD_LIBRARY_PATH: /usr/lib64-nvidia\n",
            "I tensorflow/stream_executor/cuda/cuda_diagnostics.cc:165] hostname: 7bb4d9ae0eb6\n",
            "I tensorflow/stream_executor/cuda/cuda_diagnostics.cc:189] libcuda reported version is: Not found: was unable to find libcuda.so DSO loaded into this program\n",
            "I tensorflow/stream_executor/cuda/cuda_diagnostics.cc:363] driver version file contents: \"\"\"NVRM version: NVIDIA UNIX x86_64 Kernel Module  384.111  Tue Dec 19 23:51:45 PST 2017\n",
            "GCC version:  Selected multilib: .;@m64\n",
            "\"\"\"\n",
            "I tensorflow/stream_executor/cuda/cuda_diagnostics.cc:193] kernel reported version is: 384.111.0\n",
            "I tensorflow/stream_executor/cuda/cuda_gpu_executor.cc:1092] LD_LIBRARY_PATH: /usr/lib64-nvidia\n",
            "I tensorflow/stream_executor/cuda/cuda_gpu_executor.cc:1093] failed to find libcuda.so on this system: Failed precondition: could not dlopen DSO: libcuda.so.1; dlerror: libcuda.so.1: cannot open shared object file: No such file or directory\n",
            "I tensorflow/stream_executor/dso_loader.cc:128] successfully opened CUDA library libcurand.so locally\n",
            "E tensorflow/stream_executor/cuda/cuda_driver.cc:509] failed call to cuInit: CUDA_ERROR_NO_DEVICE\n",
            "I tensorflow/stream_executor/cuda/cuda_diagnostics.cc:158] retrieving CUDA diagnostic information for host: 7bb4d9ae0eb6\n",
            "I tensorflow/stream_executor/cuda/cuda_diagnostics.cc:165] hostname: 7bb4d9ae0eb6\n",
            "I tensorflow/stream_executor/cuda/cuda_diagnostics.cc:189] libcuda reported version is: Not found: was unable to find libcuda.so DSO loaded into this program\n",
            "I tensorflow/stream_executor/cuda/cuda_diagnostics.cc:363] driver version file contents: \"\"\"NVRM version: NVIDIA UNIX x86_64 Kernel Module  384.111  Tue Dec 19 23:51:45 PST 2017\n",
            "GCC version:  Selected multilib: .;@m64\n",
            "\"\"\"\n",
            "I tensorflow/stream_executor/cuda/cuda_diagnostics.cc:193] kernel reported version is: 384.111.0\n",
            "Parsed arguments:  {'unrolled_lstm': False, 'seed': 111, 'epoch': 80, 'batch_size': 32, 'save_freq': 50, 'canvas_size': 16384, 'denoise_epoch': 5, 'l1_remove_epoch': 150, 'bias_deconv': False, 'bias_downconv': False, 'bias_D_conv': False, 'denoise_lbound': 0.01, 'noise_decay': 0.7, 'd_label_smooth': 0.25, 'init_noise_std': 0.0, 'init_l1_weight': 100.0, 'z_dim': 256, 'z_depth': 256, 'save_path': 'segan_naive', 'g_nl': 'prelu', 'model': 'gan', 'deconv_type': 'deconv', 'g_type': 'ae', 'g_learning_rate': 0.0002, 'd_learning_rate': 0.0002, 'beta_1': 0.5, 'preemph': 0.95, 'synthesis_path': 'dwavegan_samples', 'e2e_dataset': 'data/segan.tfrecords', 'save_clean_path': 'test_clean_results', 'test_wav': None, 'weights': None}\n",
            "Using device:  /cpu:0\n",
            "Creating GAN model\n",
            "*** Applying pre-emphasis of 0.95 ***\n",
            "*** Building Generator ***\n",
            "Downconv (32, 16384, 1) -> (32, 8192, 16)\n",
            "Adding skip connection downconv 0\n",
            "-- Enc: prelu activation --\n",
            "Downconv (32, 8192, 16) -> (32, 4096, 32)\n",
            "Adding skip connection downconv 1\n",
            "-- Enc: prelu activation --\n",
            "Downconv (32, 4096, 32) -> (32, 2048, 32)\n",
            "Adding skip connection downconv 2\n",
            "-- Enc: prelu activation --\n",
            "Downconv (32, 2048, 32) -> (32, 1024, 64)\n",
            "Adding skip connection downconv 3\n",
            "-- Enc: prelu activation --\n",
            "Downconv (32, 1024, 64) -> (32, 512, 64)\n",
            "Adding skip connection downconv 4\n",
            "-- Enc: prelu activation --\n",
            "Downconv (32, 512, 64) -> (32, 256, 128)\n",
            "Adding skip connection downconv 5\n",
            "-- Enc: prelu activation --\n",
            "Downconv (32, 256, 128) -> (32, 128, 128)\n",
            "Adding skip connection downconv 6\n",
            "-- Enc: prelu activation --\n",
            "Downconv (32, 128, 128) -> (32, 64, 256)\n",
            "Adding skip connection downconv 7\n",
            "-- Enc: prelu activation --\n",
            "Downconv (32, 64, 256) -> (32, 32, 256)\n",
            "Adding skip connection downconv 8\n",
            "-- Enc: prelu activation --\n",
            "Downconv (32, 32, 256) -> (32, 16, 512)\n",
            "Adding skip connection downconv 9\n",
            "-- Enc: prelu activation --\n",
            "Downconv (32, 16, 512) -> (32, 8, 1024)\n",
            "-- Enc: prelu activation --\n",
            "g_dec_depths:  [512, 256, 256, 128, 128, 64, 64, 32, 32, 16, 1]\n",
            "-- Transposed deconvolution type --\n",
            "Deconv (32, 8, 2048) -> (32, 16, 512)\n",
            "-- Dec: prelu activation --\n",
            "Fusing skip connection of shape (32, 16, 512)\n",
            "-- Transposed deconvolution type --\n",
            "Deconv (32, 16, 1024) -> (32, 32, 256)\n",
            "-- Dec: prelu activation --\n",
            "Fusing skip connection of shape (32, 32, 256)\n",
            "-- Transposed deconvolution type --\n",
            "Deconv (32, 32, 512) -> (32, 64, 256)\n",
            "-- Dec: prelu activation --\n",
            "Fusing skip connection of shape (32, 64, 256)\n",
            "-- Transposed deconvolution type --\n",
            "Deconv (32, 64, 512) -> (32, 128, 128)\n",
            "-- Dec: prelu activation --\n",
            "Fusing skip connection of shape (32, 128, 128)\n",
            "-- Transposed deconvolution type --\n",
            "Deconv (32, 128, 256) -> (32, 256, 128)\n",
            "-- Dec: prelu activation --\n",
            "Fusing skip connection of shape (32, 256, 128)\n",
            "-- Transposed deconvolution type --\n",
            "Deconv (32, 256, 256) -> (32, 512, 64)\n",
            "-- Dec: prelu activation --\n",
            "Fusing skip connection of shape (32, 512, 64)\n",
            "-- Transposed deconvolution type --\n",
            "Deconv (32, 512, 128) -> (32, 1024, 64)\n",
            "-- Dec: prelu activation --\n",
            "Fusing skip connection of shape (32, 1024, 64)\n",
            "-- Transposed deconvolution type --\n",
            "Deconv (32, 1024, 128) -> (32, 2048, 32)\n",
            "-- Dec: prelu activation --\n",
            "Fusing skip connection of shape (32, 2048, 32)\n",
            "-- Transposed deconvolution type --\n",
            "Deconv (32, 2048, 64) -> (32, 4096, 32)\n",
            "-- Dec: prelu activation --\n",
            "Fusing skip connection of shape (32, 4096, 32)\n",
            "-- Transposed deconvolution type --\n",
            "Deconv (32, 4096, 64) -> (32, 8192, 16)\n",
            "-- Dec: prelu activation --\n",
            "Fusing skip connection of shape (32, 8192, 16)\n",
            "-- Transposed deconvolution type --\n",
            "Deconv (32, 8192, 32) -> (32, 16384, 1)\n",
            "-- Dec: tanh activation --\n",
            "Amount of alpha vectors:  21\n",
            "Amount of skip connections:  10\n",
            "Last wave shape:  (32, 16384, 1)\n",
            "*************************\n",
            "num of G returned:  23\n",
            "*** Discriminator summary ***\n",
            "D block 0 input shape: (32, 16384, 2) *** downconved shape: (32, 8192, 16)  *** Applying VBN *** Applying Lrelu *** \n",
            "D block 1 input shape: (32, 8192, 16) *** downconved shape: (32, 4096, 32)  *** Applying VBN *** Applying Lrelu *** \n",
            "D block 2 input shape: (32, 4096, 32) *** downconved shape: (32, 2048, 32)  *** Applying VBN *** Applying Lrelu *** \n",
            "D block 3 input shape: (32, 2048, 32) *** downconved shape: (32, 1024, 64)  *** Applying VBN *** Applying Lrelu *** \n",
            "D block 4 input shape: (32, 1024, 64) *** downconved shape: (32, 512, 64)  *** Applying VBN *** Applying Lrelu *** \n",
            "D block 5 input shape: (32, 512, 64) *** downconved shape: (32, 256, 128)  *** Applying VBN *** Applying Lrelu *** \n",
            "D block 6 input shape: (32, 256, 128) *** downconved shape: (32, 128, 128)  *** Applying VBN *** Applying Lrelu *** \n",
            "D block 7 input shape: (32, 128, 128) *** downconved shape: (32, 64, 256)  *** Applying VBN *** Applying Lrelu *** \n",
            "D block 8 input shape: (32, 64, 256) *** downconved shape: (32, 32, 256)  *** Applying VBN *** Applying Lrelu *** \n",
            "D block 9 input shape: (32, 32, 256) *** downconved shape: (32, 16, 512)  *** Applying VBN *** Applying Lrelu *** \n",
            "D block 10 input shape: (32, 16, 512) *** downconved shape: (32, 8, 1024)  *** Applying VBN *** Applying Lrelu *** \n",
            "discriminator deconved shape:  (32, 8, 1024)\n",
            "discriminator output shape:  (32, 1)\n",
            "*****************************\n",
            "Not clipping D weights\n",
            "Initializing optimizers...\n",
            "Initializing variables...\n",
            "Sampling some wavs to store sample references...\n",
            "sample noisy shape:  (32, 16384)\n",
            "sample wav shape:  (32, 16384)\n",
            "sample z shape:  (32, 8, 1024)\n",
            "total examples in TFRecords data/segan.tfrecords: 15731\n",
            "Batches per epoch:  491.59375\n",
            "[*] Reading checkpoints...\n",
            "[!] Load failed\n",
            "0/39327.5 (epoch 0), d_rl_loss = 0.66812, d_fk_loss = 0.23159, g_adv_loss = 0.55409, g_l1_loss = 1.43594, time/batch = 99.06333, mtime/batch = 99.06333\n",
            "1/39327.5 (epoch 0), d_rl_loss = 0.57398, d_fk_loss = 0.17981, g_adv_loss = 0.83219, g_l1_loss = 1.42188, time/batch = 98.58592, mtime/batch = 98.82462\n",
            "2/39327.5 (epoch 0), d_rl_loss = 0.55588, d_fk_loss = 0.18991, g_adv_loss = 0.63154, g_l1_loss = 1.31139, time/batch = 97.58438, mtime/batch = 98.41121\n",
            "3/39327.5 (epoch 0), d_rl_loss = 0.40855, d_fk_loss = 0.36420, g_adv_loss = 0.58610, g_l1_loss = 1.40028, time/batch = 97.09690, mtime/batch = 98.08263\n",
            "4/39327.5 (epoch 0), d_rl_loss = 0.55130, d_fk_loss = 0.38750, g_adv_loss = 0.48266, g_l1_loss = 1.35897, time/batch = 96.50231, mtime/batch = 97.76657\n",
            "5/39327.5 (epoch 0), d_rl_loss = 0.38630, d_fk_loss = 0.23335, g_adv_loss = 0.51944, g_l1_loss = 1.43404, time/batch = 96.71269, mtime/batch = 97.59092\n",
            "6/39327.5 (epoch 0), d_rl_loss = 0.33720, d_fk_loss = 0.41701, g_adv_loss = 0.46934, g_l1_loss = 1.37594, time/batch = 96.05796, mtime/batch = 97.37193\n",
            "7/39327.5 (epoch 0), d_rl_loss = 0.53098, d_fk_loss = 0.21292, g_adv_loss = 0.61910, g_l1_loss = 1.39052, time/batch = 96.27000, mtime/batch = 97.23418\n",
            "8/39327.5 (epoch 0), d_rl_loss = 0.37761, d_fk_loss = 0.29909, g_adv_loss = 0.68429, g_l1_loss = 1.38411, time/batch = 96.37633, mtime/batch = 97.13887\n",
            "9/39327.5 (epoch 0), d_rl_loss = 0.45091, d_fk_loss = 0.31342, g_adv_loss = 0.54724, g_l1_loss = 1.37520, time/batch = 96.68062, mtime/batch = 97.09304\n",
            "10/39327.5 (epoch 0), d_rl_loss = 0.56754, d_fk_loss = 0.22261, g_adv_loss = 0.57749, g_l1_loss = 1.45329, time/batch = 96.32695, mtime/batch = 97.02340\n",
            "11/39327.5 (epoch 0), d_rl_loss = 0.48178, d_fk_loss = 0.22317, g_adv_loss = 0.43024, g_l1_loss = 1.44794, time/batch = 96.00427, mtime/batch = 96.93847\n",
            "12/39327.5 (epoch 0), d_rl_loss = 0.47296, d_fk_loss = 0.29934, g_adv_loss = 0.39537, g_l1_loss = 1.47447, time/batch = 96.45965, mtime/batch = 96.90164\n",
            "13/39327.5 (epoch 0), d_rl_loss = 0.41234, d_fk_loss = 0.25136, g_adv_loss = 0.53523, g_l1_loss = 1.46036, time/batch = 96.75536, mtime/batch = 96.89119\n",
            "14/39327.5 (epoch 0), d_rl_loss = 0.51959, d_fk_loss = 0.35220, g_adv_loss = 0.59377, g_l1_loss = 1.40803, time/batch = 96.52552, mtime/batch = 96.86681\n",
            "15/39327.5 (epoch 0), d_rl_loss = 0.28541, d_fk_loss = 0.20608, g_adv_loss = 0.48036, g_l1_loss = 1.42150, time/batch = 96.21684, mtime/batch = 96.82619\n",
            "16/39327.5 (epoch 0), d_rl_loss = 0.38865, d_fk_loss = 0.26220, g_adv_loss = 0.39509, g_l1_loss = 1.53711, time/batch = 95.79653, mtime/batch = 96.76562\n",
            "17/39327.5 (epoch 0), d_rl_loss = 0.35791, d_fk_loss = 0.31408, g_adv_loss = 0.63092, g_l1_loss = 1.50252, time/batch = 96.28829, mtime/batch = 96.73910\n",
            "18/39327.5 (epoch 0), d_rl_loss = 0.46361, d_fk_loss = 0.23214, g_adv_loss = 0.49377, g_l1_loss = 1.46519, time/batch = 96.07943, mtime/batch = 96.70438\n",
            "19/39327.5 (epoch 0), d_rl_loss = 0.36349, d_fk_loss = 0.23858, g_adv_loss = 0.55630, g_l1_loss = 1.41892, time/batch = 96.29761, mtime/batch = 96.68404\n",
            "20/39327.5 (epoch 0), d_rl_loss = 0.35341, d_fk_loss = 0.39063, g_adv_loss = 0.59715, g_l1_loss = 1.41831, time/batch = 95.90987, mtime/batch = 96.64718\n",
            "21/39327.5 (epoch 0), d_rl_loss = 0.30845, d_fk_loss = 0.28429, g_adv_loss = 0.53097, g_l1_loss = 1.57362, time/batch = 95.50931, mtime/batch = 96.59546\n",
            "22/39327.5 (epoch 0), d_rl_loss = 0.47584, d_fk_loss = 0.26284, g_adv_loss = 0.52157, g_l1_loss = 1.42566, time/batch = 95.97153, mtime/batch = 96.56833\n",
            "23/39327.5 (epoch 0), d_rl_loss = 0.35593, d_fk_loss = 0.30972, g_adv_loss = 0.50323, g_l1_loss = 1.36906, time/batch = 96.35944, mtime/batch = 96.55963\n",
            "24/39327.5 (epoch 0), d_rl_loss = 0.57379, d_fk_loss = 0.28326, g_adv_loss = 0.59075, g_l1_loss = 1.45931, time/batch = 96.07048, mtime/batch = 96.54006\n",
            "25/39327.5 (epoch 0), d_rl_loss = 0.52615, d_fk_loss = 0.24677, g_adv_loss = 0.50432, g_l1_loss = 1.40758, time/batch = 96.22228, mtime/batch = 96.52784\n",
            "26/39327.5 (epoch 0), d_rl_loss = 0.44134, d_fk_loss = 0.34880, g_adv_loss = 0.58084, g_l1_loss = 1.47241, time/batch = 96.48768, mtime/batch = 96.52635\n",
            "27/39327.5 (epoch 0), d_rl_loss = 0.33319, d_fk_loss = 0.28960, g_adv_loss = 0.66280, g_l1_loss = 1.40967, time/batch = 96.15472, mtime/batch = 96.51308\n",
            "28/39327.5 (epoch 0), d_rl_loss = 0.44942, d_fk_loss = 0.31996, g_adv_loss = 0.52432, g_l1_loss = 1.42089, time/batch = 95.47856, mtime/batch = 96.47741\n",
            "29/39327.5 (epoch 0), d_rl_loss = 0.48709, d_fk_loss = 0.23153, g_adv_loss = 0.50837, g_l1_loss = 1.43970, time/batch = 96.11786, mtime/batch = 96.46542\n",
            "30/39327.5 (epoch 0), d_rl_loss = 0.40493, d_fk_loss = 0.19024, g_adv_loss = 0.54279, g_l1_loss = 1.31405, time/batch = 95.84829, mtime/batch = 96.44551\n",
            "31/39327.5 (epoch 0), d_rl_loss = 0.49868, d_fk_loss = 0.35496, g_adv_loss = 0.73678, g_l1_loss = 1.46216, time/batch = 95.45687, mtime/batch = 96.41462\n",
            "32/39327.5 (epoch 0), d_rl_loss = 0.46892, d_fk_loss = 0.21309, g_adv_loss = 0.53714, g_l1_loss = 1.48461, time/batch = 95.39547, mtime/batch = 96.38373\n",
            "33/39327.5 (epoch 0), d_rl_loss = 0.41370, d_fk_loss = 0.29955, g_adv_loss = 0.46061, g_l1_loss = 1.50426, time/batch = 95.24993, mtime/batch = 96.35039\n",
            "34/39327.5 (epoch 0), d_rl_loss = 0.29954, d_fk_loss = 0.25113, g_adv_loss = 0.62990, g_l1_loss = 1.35991, time/batch = 95.29694, mtime/batch = 96.32029\n",
            "35/39327.5 (epoch 0), d_rl_loss = 0.42711, d_fk_loss = 0.22126, g_adv_loss = 0.69560, g_l1_loss = 1.51201, time/batch = 96.10161, mtime/batch = 96.31421\n",
            "36/39327.5 (epoch 0), d_rl_loss = 0.41813, d_fk_loss = 0.32320, g_adv_loss = 0.51016, g_l1_loss = 1.42151, time/batch = 95.85609, mtime/batch = 96.30183\n",
            "37/39327.5 (epoch 0), d_rl_loss = 0.32866, d_fk_loss = 0.28711, g_adv_loss = 0.69135, g_l1_loss = 1.44431, time/batch = 95.25464, mtime/batch = 96.27428\n",
            "38/39327.5 (epoch 0), d_rl_loss = 0.40530, d_fk_loss = 0.19988, g_adv_loss = 0.53637, g_l1_loss = 1.34248, time/batch = 94.80464, mtime/batch = 96.23659\n",
            "39/39327.5 (epoch 0), d_rl_loss = 0.44555, d_fk_loss = 0.22461, g_adv_loss = 0.32941, g_l1_loss = 1.34921, time/batch = 95.19353, mtime/batch = 96.21052\n",
            "40/39327.5 (epoch 0), d_rl_loss = 0.31927, d_fk_loss = 0.19896, g_adv_loss = 0.60632, g_l1_loss = 1.30186, time/batch = 96.32335, mtime/batch = 96.21327\n",
            "41/39327.5 (epoch 0), d_rl_loss = 0.31123, d_fk_loss = 0.35178, g_adv_loss = 0.59881, g_l1_loss = 1.40825, time/batch = 100.49773, mtime/batch = 96.31528\n",
            "42/39327.5 (epoch 0), d_rl_loss = 0.28683, d_fk_loss = 0.23844, g_adv_loss = 0.83573, g_l1_loss = 1.38103, time/batch = 100.63557, mtime/batch = 96.41575\n",
            "43/39327.5 (epoch 0), d_rl_loss = 0.35356, d_fk_loss = 0.09066, g_adv_loss = 0.68002, g_l1_loss = 1.51089, time/batch = 99.16811, mtime/batch = 96.47830\n",
            "44/39327.5 (epoch 0), d_rl_loss = 0.36417, d_fk_loss = 0.16096, g_adv_loss = 0.67124, g_l1_loss = 1.52239, time/batch = 100.25817, mtime/batch = 96.56230\n",
            "45/39327.5 (epoch 0), d_rl_loss = 0.29318, d_fk_loss = 0.08904, g_adv_loss = 0.54580, g_l1_loss = 1.35928, time/batch = 99.83627, mtime/batch = 96.63347\n",
            "46/39327.5 (epoch 0), d_rl_loss = 0.23284, d_fk_loss = 0.21259, g_adv_loss = 0.79204, g_l1_loss = 1.40191, time/batch = 97.31473, mtime/batch = 96.64797\n",
            "47/39327.5 (epoch 0), d_rl_loss = 0.36919, d_fk_loss = 0.21316, g_adv_loss = 0.66330, g_l1_loss = 1.35828, time/batch = 97.00575, mtime/batch = 96.65542\n",
            "48/39327.5 (epoch 0), d_rl_loss = 0.43564, d_fk_loss = 0.24056, g_adv_loss = 0.66625, g_l1_loss = 1.41032, time/batch = 97.73110, mtime/batch = 96.67738\n",
            "49/39327.5 (epoch 0), d_rl_loss = 0.36349, d_fk_loss = 0.17333, g_adv_loss = 0.54799, g_l1_loss = 1.39328, time/batch = 97.22816, mtime/batch = 96.68839\n",
            "w0 max: 0.006347977556288242 min: -0.005857900250703096\n",
            "W tensorflow/core/kernels/queue_base.cc:294] _0_device_0/input_producer: Skipping cancelled enqueue attempt with queue not closed\n",
            "W tensorflow/core/kernels/queue_base.cc:294] _1_device_0/wav_and_noisy/random_shuffle_queue: Skipping cancelled enqueue attempt with queue not closed\n",
            "W tensorflow/core/kernels/queue_base.cc:294] _1_device_0/wav_and_noisy/random_shuffle_queue: Skipping cancelled enqueue attempt with queue not closed\n",
            "Traceback (most recent call last):\n",
            "  File \"./segan/main.py\", line 122, in <module>\n",
            "    tf.app.run()\n",
            "  File \"/usr/local/lib/python3.6/dist-packages/tensorflow/python/platform/app.py\", line 43, in run\n",
            "    sys.exit(main(sys.argv[:1] + flags_passthrough))\n",
            "  File \"./segan/main.py\", line 96, in main\n",
            "    se_model.train(FLAGS, udevices)\n",
            "  File \"/content/segan/model.py\", line 478, in train\n",
            "    self.preemph))\n",
            "  File \"/usr/local/lib/python3.6/dist-packages/scipy/io/wavfile.py\", line 359, in write\n",
            "    bytes_per_second, block_align, bit_depth)\n",
            "struct.error: required argument is not an integer\n",
            "CPU times: user 24.5 s, sys: 3.07 s, total: 27.6 s\n",
            "Wall time: 1h 21min 19s\n"
          ],
          "name": "stdout"
        }
      ]
    },
    {
      "metadata": {
        "id": "CpTht70S3XLe",
        "colab_type": "code",
        "colab": {}
      },
      "cell_type": "code",
      "source": [
        "!which tensorflow"
      ],
      "execution_count": 0,
      "outputs": []
    }
  ]
}